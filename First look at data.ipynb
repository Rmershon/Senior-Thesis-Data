{
 "cells": [
  {
   "cell_type": "code",
   "execution_count": 2,
   "metadata": {},
   "outputs": [
    {
     "name": "stderr",
     "output_type": "stream",
     "text": [
      "/Users/reedmershon/anaconda/lib/python3.6/site-packages/IPython/core/interactiveshell.py:2881: FutureWarning: \n",
      "mpl_style had been deprecated and will be removed in a future version.\n",
      "Use `matplotlib.pyplot.style.use` instead.\n",
      "\n",
      "  exec(code_obj, self.user_global_ns, self.user_ns)\n"
     ]
    }
   ],
   "source": [
    "import pandas as pd\n",
    "import matplotlib.pyplot as plt\n",
    "import matplotlib.mlab as PCA\n",
    "%matplotlib inline\n",
    "\n",
    "pd.set_option('display.mpl_style', 'default')\n"
   ]
  },
  {
   "cell_type": "code",
   "execution_count": 3,
   "metadata": {
    "collapsed": true
   },
   "outputs": [],
   "source": [
    "df = pd.read_csv('honeypot_data/content_polluters_tweets.txt', sep='\\t', names=['UserID', 'TweetID', 'Tweet', 'CreatedAt'], parse_dates=['CreatedAt'])\n",
    "\n",
    "users = pd.read_csv('honeypot_data/content_polluters.txt', sep='\\t', names=['UserID', 'CreatedAt', 'CollectedAt', 'NumerOfFollowings', 'NumberOfFollowers', 'NumberOfTweets', 'LengthOfScreenName', 'LengthOfDescriptionInUserProfile'], parse_dates=['CreatedAt', 'CollectedAt'])\n",
    "\n",
    "users = users.set_index('UserID')"
   ]
  },
  {
   "cell_type": "code",
   "execution_count": 4,
   "metadata": {},
   "outputs": [
    {
     "data": {
      "text/html": [
       "<div>\n",
       "<style>\n",
       "    .dataframe thead tr:only-child th {\n",
       "        text-align: right;\n",
       "    }\n",
       "\n",
       "    .dataframe thead th {\n",
       "        text-align: left;\n",
       "    }\n",
       "\n",
       "    .dataframe tbody tr th {\n",
       "        vertical-align: top;\n",
       "    }\n",
       "</style>\n",
       "<table border=\"1\" class=\"dataframe\">\n",
       "  <thead>\n",
       "    <tr style=\"text-align: right;\">\n",
       "      <th></th>\n",
       "      <th>UserID</th>\n",
       "      <th>TweetID</th>\n",
       "      <th>Tweet</th>\n",
       "      <th>CreatedAt</th>\n",
       "    </tr>\n",
       "  </thead>\n",
       "  <tbody>\n",
       "    <tr>\n",
       "      <th>0</th>\n",
       "      <td>6301</td>\n",
       "      <td>5599519501</td>\n",
       "      <td>MELBOURNE ENQUIRY: Seeking a variety of acts f...</td>\n",
       "      <td>2009-11-10 15:14:31</td>\n",
       "    </tr>\n",
       "    <tr>\n",
       "      <th>1</th>\n",
       "      <td>6301</td>\n",
       "      <td>5600313663</td>\n",
       "      <td>THE BURLESQUE BOOTCAMP SYDNEY - Open Date tick...</td>\n",
       "      <td>2009-11-10 15:46:05</td>\n",
       "    </tr>\n",
       "    <tr>\n",
       "      <th>2</th>\n",
       "      <td>6301</td>\n",
       "      <td>5600328557</td>\n",
       "      <td>THE BURLESQUE BOOTCAMP SYDNEY - Open Date tick...</td>\n",
       "      <td>2009-11-10 15:46:40</td>\n",
       "    </tr>\n",
       "    <tr>\n",
       "      <th>3</th>\n",
       "      <td>6301</td>\n",
       "      <td>5600338093</td>\n",
       "      <td>THE BURLESQUE BOOTCAMP SYDNEY - Open Date tick...</td>\n",
       "      <td>2009-11-10 15:47:03</td>\n",
       "    </tr>\n",
       "    <tr>\n",
       "      <th>4</th>\n",
       "      <td>6301</td>\n",
       "      <td>5600564863</td>\n",
       "      <td>Come to \"The Burlesque Bootcamp - Sydney\" Satu...</td>\n",
       "      <td>2009-11-10 15:56:03</td>\n",
       "    </tr>\n",
       "    <tr>\n",
       "      <th>5</th>\n",
       "      <td>6301</td>\n",
       "      <td>5600800576</td>\n",
       "      <td>21st Century Pinups write about our girls perf...</td>\n",
       "      <td>2009-11-10 16:05:05</td>\n",
       "    </tr>\n",
       "    <tr>\n",
       "      <th>6</th>\n",
       "      <td>6301</td>\n",
       "      <td>5602478668</td>\n",
       "      <td>The Burlesque Bootcamp – Coming to Sydney!:   ...</td>\n",
       "      <td>2009-11-10 17:09:32</td>\n",
       "    </tr>\n",
       "    <tr>\n",
       "      <th>7</th>\n",
       "      <td>6301</td>\n",
       "      <td>5608736220</td>\n",
       "      <td>ATTN MELBOURNE: We have some group specials av...</td>\n",
       "      <td>2009-11-10 21:22:14</td>\n",
       "    </tr>\n",
       "    <tr>\n",
       "      <th>8</th>\n",
       "      <td>6301</td>\n",
       "      <td>5608901729</td>\n",
       "      <td>Story on our lovely Vivi Valentine, on contrac...</td>\n",
       "      <td>2009-11-10 21:29:31</td>\n",
       "    </tr>\n",
       "    <tr>\n",
       "      <th>9</th>\n",
       "      <td>6301</td>\n",
       "      <td>5609010312</td>\n",
       "      <td>and also Black Flamingo in Berlin with Catheri...</td>\n",
       "      <td>2009-11-10 21:34:10</td>\n",
       "    </tr>\n",
       "  </tbody>\n",
       "</table>\n",
       "</div>"
      ],
      "text/plain": [
       "   UserID     TweetID                                              Tweet  \\\n",
       "0    6301  5599519501  MELBOURNE ENQUIRY: Seeking a variety of acts f...   \n",
       "1    6301  5600313663  THE BURLESQUE BOOTCAMP SYDNEY - Open Date tick...   \n",
       "2    6301  5600328557  THE BURLESQUE BOOTCAMP SYDNEY - Open Date tick...   \n",
       "3    6301  5600338093  THE BURLESQUE BOOTCAMP SYDNEY - Open Date tick...   \n",
       "4    6301  5600564863  Come to \"The Burlesque Bootcamp - Sydney\" Satu...   \n",
       "5    6301  5600800576  21st Century Pinups write about our girls perf...   \n",
       "6    6301  5602478668  The Burlesque Bootcamp – Coming to Sydney!:   ...   \n",
       "7    6301  5608736220  ATTN MELBOURNE: We have some group specials av...   \n",
       "8    6301  5608901729  Story on our lovely Vivi Valentine, on contrac...   \n",
       "9    6301  5609010312  and also Black Flamingo in Berlin with Catheri...   \n",
       "\n",
       "            CreatedAt  \n",
       "0 2009-11-10 15:14:31  \n",
       "1 2009-11-10 15:46:05  \n",
       "2 2009-11-10 15:46:40  \n",
       "3 2009-11-10 15:47:03  \n",
       "4 2009-11-10 15:56:03  \n",
       "5 2009-11-10 16:05:05  \n",
       "6 2009-11-10 17:09:32  \n",
       "7 2009-11-10 21:22:14  \n",
       "8 2009-11-10 21:29:31  \n",
       "9 2009-11-10 21:34:10  "
      ]
     },
     "execution_count": 4,
     "metadata": {},
     "output_type": "execute_result"
    }
   ],
   "source": [
    "df[:10]\n",
    "\n",
    "##Look at the tweet contents per user\n",
    "##Look at the tweet contents as a whole\n",
    "##Lots of links?"
   ]
  },
  {
   "cell_type": "code",
   "execution_count": 5,
   "metadata": {
    "collapsed": true
   },
   "outputs": [],
   "source": [
    "#df[['UserID', 'CreatedAt']]\n",
    "\n",
    "df['CreatedAt'] = pd.to_datetime(df['CreatedAt'])\n",
    "#figure out how to slim down datetime\n",
    "df['dayofweek'] = df['CreatedAt'].dt.dayofweek\n",
    "    \n",
    "user1 = df.loc[df['UserID'] == 6301]\n",
    "countDate = user1.groupby('dayofweek').sum()\n",
    "Dates = user1.groupby('dayofweek')"
   ]
  },
  {
   "cell_type": "code",
   "execution_count": 6,
   "metadata": {},
   "outputs": [
    {
     "data": {
      "text/plain": [
       "array([[<matplotlib.axes._subplots.AxesSubplot object at 0x13b27cb38>]], dtype=object)"
      ]
     },
     "execution_count": 6,
     "metadata": {},
     "output_type": "execute_result"
    },
    {
     "data": {
      "image/png": "[encoded data removed]",
      "text/plain": [
       "<matplotlib.figure.Figure at 0x1180686a0>"
      ]
     },
     "metadata": {},
     "output_type": "display_data"
    }
   ],
   "source": [
    "user1.hist('dayofweek', bins=7)\n",
    "\n",
    "#do the freq instead of raw numbers"
   ]
  },
  {
   "cell_type": "code",
   "execution_count": 7,
   "metadata": {
    "collapsed": true
   },
   "outputs": [],
   "source": [
    "# totalDayTweets = {'0': 0, '1': 0, '2': 0, '3': 0, '4': 0, '5': 0, '6': 0}\n",
    "\n",
    "# for uID in users.index[:5]:\n",
    "#     print(uID)\n",
    "#     userTData = df.loc[df['UserID'] == uID]\n",
    "#     counts = userTData['dayofweek'].value_counts()\n",
    "#     print(counts)\n",
    "#     for i in range(len(counts)):\n",
    "#         totalDayTweets.update(key=str(i), value=counts[i])\n",
    "        "
   ]
  },
  {
   "cell_type": "code",
   "execution_count": 8,
   "metadata": {},
   "outputs": [
    {
     "data": {
      "text/plain": [
       "1    66\n",
       "0    31\n",
       "2    30\n",
       "3    29\n",
       "6    19\n",
       "4    19\n",
       "5     6\n",
       "Name: dayofweek, dtype: int64"
      ]
     },
     "execution_count": 8,
     "metadata": {},
     "output_type": "execute_result"
    }
   ],
   "source": [
    "a = user1['dayofweek'].value_counts()\n",
    "a"
   ]
  },
  {
   "cell_type": "code",
   "execution_count": 10,
   "metadata": {},
   "outputs": [
    {
     "data": {
      "text/plain": [
       "<matplotlib.axes._subplots.AxesSubplot at 0x135f53f28>"
      ]
     },
     "execution_count": 10,
     "metadata": {},
     "output_type": "execute_result"
    },
    {
     "data": {
      "image/png": "[encoded data removed]",
      "text/plain": [
       "<matplotlib.figure.Figure at 0x118035320>"
      ]
     },
     "metadata": {},
     "output_type": "display_data"
    }
   ],
   "source": [
    "userf = df.loc[df['UserID'] == 10997]\n",
    "userf.plot(userf['CreatedAt'])"
   ]
  },
  {
   "cell_type": "markdown",
   "metadata": {
    "collapsed": true
   },
   "source": [
    "## Making all tweet contents for one user in the same list"
   ]
  },
  {
   "cell_type": "code",
   "execution_count": 71,
   "metadata": {},
   "outputs": [
    {
     "name": "stdout",
     "output_type": "stream",
     "text": [
      "6301\n",
      "['MELBOURNE', 'ENQUIRY:', 'Seeking', 'a', 'variety', 'of', 'acts', 'for', 'our', 'end', 'of', 'year', 'show.', 'Payment', 'is', '$120', 'per', 'slot', 'or', '$200', 'for', '2....', 'http://bit.ly/4Ah3fF']\n",
      "['THE', 'BURLESQUE', 'BOOTCAMP', 'SYDNEY', '-', 'Open', 'Date', 'tickets', 'now', 'available', 'from', 'http://bbootcampsyd.eventbrite.com/', 'for', 'Jan', '/...', 'http://bit.ly/rCenZ']\n",
      "['THE', 'BURLESQUE', 'BOOTCAMP', 'SYDNEY', '-', 'Open', 'Date', 'tickets', 'now', 'available', 'from', 'http://bbootcampsyd.eventbrite.com/', 'for', 'Jan', '/...', 'http://bit.ly/1v5hvb']\n",
      "['THE', 'BURLESQUE', 'BOOTCAMP', 'SYDNEY', '-', 'Open', 'Date', 'tickets', 'now', 'available', 'from', 'http://bbootcampsyd.eventbrite.com/', 'for', 'Jan', '/...', 'http://fb.me/3rzipF0']\n",
      "['Come', 'to', '\"The', 'Burlesque', 'Bootcamp', '-', 'Sydney\"', 'Saturday,', '23', 'January', '2010', 'at', '10:00', 'until', '<br', '/>Sunday,', '24', 'January', '2010', 'at...', 'http://bit.ly/38simD']\n",
      "['21st', 'Century', 'Pinups', 'write', 'about', 'our', 'girls', 'performing', 'at', 'Black', 'Flamingo', 'in', 'Berlin!...', 'http://bit.ly/WAUmr']\n",
      "['The', 'Burlesque', 'Bootcamp', '–', 'Coming', 'to', 'Sydney!:', '', '', 'The', 'Burlesque', 'Bootcamp', '–', 'Heading', 'to', 'Sydney', 'in', '2010!', '', '..', 'http://bit.ly/4vT7rC']\n",
      "['ATTN', 'MELBOURNE:', 'We', 'have', 'some', 'group', 'specials', 'available', 'for', 'this', 'Sundays', 'opening', 'night', 'at', 'http://www.bijoucabaret.com...', 'http://bit.ly/187ZDS']\n",
      "['Story', 'on', 'our', 'lovely', 'Vivi', 'Valentine,', 'on', 'contract', 'with', 'Sugar', 'Blue', 'Burlesque', 'in', 'Stuttgart,', 'Germany...', 'http://bit.ly/24z5yt']\n",
      "['and', 'also', 'Black', 'Flamingo', 'in', 'Berlin', 'with', 'Catherine', \"D'Lish,\", 'Trixee', 'Sparkle', 'and', 'Honeylulu...', 'http://bit.ly/26h1qC']\n",
      "['I', 'posted', '69', 'photos', 'on', 'Facebook', 'in', 'the', 'album', '\"Final', 'Dr', 'Sketchys', 'of', '2009!', 'Starring', 'Minnie', 'Revolver', '&', 'Seker', 'Pare\"', 'http://bit.ly/2j6Jgx']\n",
      "['Bijou', 'girls', 'rehearsing', '-', 'love', 'this', 'act!!!!!', 'http://pic.gd/161772']\n",
      "['Just', 'wants', 'to', 'remind', 'performers', 'thinking', 'about', 'booking', 'into', 'Bootcamp.', 'There', 'is', 'a', 'limit', 'of', '15', 'people,', 'so', 'if', 'you...', 'http://bit.ly/4BW2W1']\n",
      "['become', 'a', 'fan', 'of', 'our', 'incredible', 'Bijou', 'Girls.', 'Launching', 'this', 'Sunday', 'at', 'Bijou', 'Cabaret...', 'http://bit.ly/2bJmNJ']\n",
      "['Dita', 'Von', 'Teese', 'talks', 'to', 'The', 'Daily', 'Beast', 'about', 'her', 'sexy', 'new', 'flipbooks,', 'why', 'America', 'can’t', 'handle', 'her', 'moves,', 'and', 'the...', 'http://bit.ly/4kfMEz']\n",
      "['Burlesque', 'Again', 'Drawing', 'Crowds', '', 'http://bit.ly/3jwvol', 'http://bit.ly/4s2Lw7']\n",
      "['ATTN', 'SYNDNEY', ':', 'A', 'must', 'attend', 'http://bit.ly/4tdWST', 'http://bit.ly/4yldCq']\n",
      "['A', 'SUPERB', 'NEW', 'ARTICLE', 'from', 'BEATRIX', 'VON', 'BOURBON:', '\"So', 'You', 'Want', 'to', 'be', 'a', 'Headline', 'Performer...?\"', 'http://bit.ly/3qosri']\n",
      "['Burlesque', 'Bootcamp', 'this', 'weekend', 'with', 'Lola', 'The', 'Vamp', 'and', 'Jac', 'Bowie!', 'The', 'only', 'course', 'to', 'be', 'affiliated', 'the', 'the', 'New', 'York...', 'http://bit.ly/3C0lD1']\n",
      "['@CherryValens', 'looking', 'forward', 'to', 'having', 'you', 'with', 'us!']\n",
      "10836\n",
      "['http://www.cslingphotography.com/wild/']\n",
      "['I', 'am', 'against', 'wars.']\n",
      "['I', 'am', 'absolutely', 'against', 'war.', 'The', 'Iraelis', 'are', 'doing', 'something', 'the', 'world', 'hates.']\n",
      "['Friday', 'is', 'a', 'happy', 'day!']\n",
      "['I', 'really', 'have', 'a', 'busy', 'week', 'at', 'SG.']\n",
      "['@pitchengine:', 'Hi', 'Rex', 'here,', 'who', 'gets', 'to', 'know', 'PE', 'at', \"Lonnie's\", 'web', 'wednesday.', 'the', 'photo', 'is', 'not', 'displaying', 'properly', 'in', 'FF3', 'for', 'a', 'News.']\n",
      "['jujuya.com', 'has', 'completed', 'another', 'activity', 'with', 'scau.', 'http://scaucasa.jujuya.com']\n",
      "['google', 'wave', 'is', 'good']\n",
      "['First', 'time', 'I', 'realize', 'that', 'it', 'is', 'so', 'challenging', 'to', 'convert', 'a', 'simple', 'idea', 'into', 'a', 'list', 'of', 'executable', 'items.']\n",
      "['I', 'realize', 'that', 'it', 'is', 'so', 'challenging', 'to', 'convert', 'a', 'simple', 'idea', 'into', 'a', 'list', 'of', 'executable', 'items.', 'Yeah!we', 'are', 'marketing', 'http://girl09.jujuya.com']\n",
      "['快乐女声见面会现场独！http://bit.ly/DHqu2']\n",
      "['rex', 'has', 'been', 'working', 'for', '16', 'hours', 'a', 'day', 'and', '7', 'days', 'a', 'week', 'recently.', 'Not', 'bad!', 'That', 'kind', 'of', 'start-up', 'feeling..', 'u', 'know...']\n",
      "['because', 'we', 'manage', 'a', 'lot!!!']\n",
      "['Most', 'people', 'twit', 'about', 'things', 'but', 'I', 'often', 'twit', 'about', 'myself.', 'Jujuya', 'is', 'going', 'strong', 'with', '快乐女声', 'http://girl09.jujuya.com']\n",
      "['It', 'has', 'been', 'a', 'busy', 'week.', 'I', 'really', 'need', 'to', 'work', 'systematically', 'and', 'sleeplessly', 'to', 'get', 'my', 'todo', 'list', 'cleaned.']\n",
      "['Has', 'just', 'enjoyed', 'a', '\"hectic\"', 'week', 'because', 'our', 'client', \"e-dmc.com's\", '\"Hector\"', 'is', 'here', 'in', 'GZ.']\n",
      "['jujuya.com', 'has', 'infinite', 'opportunities...We', 'really', 'have', 'to', 'limit', 'our', 'thoughts', 'first..']\n",
      "['Okay...I', 'am', 'finally', 'trying', 'out', 'cloud', 'hosting', 'on', 'EC2']\n",
      "['@gunyhake', 'as', 'usual...']\n",
      "['@gunyhake', \"don't\", 'tell', 'you!']\n",
      "10997\n",
      "['just', 'past', 'beeston.', '', 'tempted', 'to', 'go', 'load', 'prepaid', 'card', 'up', 'before', 'I', 'head', 'up', 'to', '@hungrypumpkin!', ';)']\n",
      "['@hungrypumpkin', 'yay!', '-', 'understand.', '', \"I'll\", 'get', 'you', 'doing', 'twitter', 'orders', 'somehow!', ';)', '-', 'just', 'need', 'to', 'feed', 'it', 'through', 'my', 'brains', 'ideas', 'factory!', ';)']\n",
      "['@hungrypumpkin', \"I'll\", 'be', 'there', 'in', '15/20', 'minutes', 'or', 'so.', '', 'cheers', 'for', 'watching', 'the', 'stream!', ';)']\n",
      "['holy', 'crap.', '', 'I', 'just', 'saw', 'a', '@documentally', 'clone.', '', \"it's\", 'started!!!', '', 'http://yfrog.com/jyi35j']\n",
      "['@darrenram', 'yeah', 'one', 'sim.', '', 'one', 'network.', '', 'what', \"I'm\", 'building', 'will', 'have', 'four', 'sims.', '', 'not', 'as', 'handy', 'as', 'mifi', 'plus', 'experimental.', ';)']\n",
      "['@Documentally', 'excellently', 'done!']\n",
      "['right,', 'morning', 'appointment', 'done.', '', 'need', 'to', 'get', 'keynote', 'finished', 'up.', '', 'find', 'some', 'm-audio', 'drivers', 'and', 'generally', 'crack', 'on!', ':)']\n",
      "['back', 'on', 'fibre', 'speeds.', '', 'feels', 'darn', 'good.', '', 'full', 'of', 'positive', 'energy', 'today.']\n",
      "['@heathr', 'best', 'of', 'luck', 'with', 'getting', 'through', 'europe!', ':)', '-', 'yeah', 'i', 'have', 'yet', 'to', 'check', 'it', 'for', 'audio/video', 'quality', 'but', 'it', 'is', 'up.']\n",
      "['@leebown', 'thanks', 'lee.', '', 'will', 'get', 'an', 'email', 'over', 'to', 'you', 'shortly', 'with', 'a', 'way', 'forward,', 'we', 'had', 'a', 'little', 'chat', 'about', 'it.', '', 'be', 'a', 'nice', 'linkup', 'all', 'round.']\n",
      "['my', 'presentation', 'is', 'still', 'not', 'finished', 'and', 'i', 'have', 'like', 'an', 'hour', 'to', 'get', 'things', 'finished', 'up.', '', 'this', 'is', 'a', 'bit', 'crazy.', '', 'but', 'exciting!', ':)']\n",
      "['gonna', 'be', 'in', 'nottingham', 'tomorrow', 'and', 'thursday', 'as', 'well', 'at', 'this', 'rate,', 'some', 'great', 'news', 'for', 'thursday', 'and', 'really', 'excited', 'about', 'that!', ':)']\n",
      "['speedy-speedy!', '-', 'super', 'fast', 'upload', 'speeds', 'makes', 'me', 'very', 'happy.', '', '1.8mb/s', '-', 'get', 'in!', '-', 'and', \"it's\", 'getting', 'faster!', '', 'http://skitch.com/t/5pb']\n",
      "['The', 'Heather', 'Gold', 'Show', 'from', 'SXSW', '2010', '', 'http://post.ly/boEZ', '', '#2010', '#aquilatv', '#audio', '#heathergold', '#heathr', '#sxsw', '#video']\n",
      "['a', 'super', 'sunday', 'with', 'ella', 'on', 'the', 'bus', 'and', 'at', 'nannys', '', 'http://post.ly/boIJ', '', '#bella', '#bus', '#dayout', '#ella', '#fun', '#summer', '#sunday', '#trip']\n",
      "['@titanioverde', 'rofl!', '-', 'not', 'a', 'chance!', ':)']\n",
      "['right.', '', 'uploading', 'and', 'geeking', 'on', 'fibre', 'will', 'have', 'to', 'wait.', '', 'heading', 'for', 'lunch', 'with', 'cj', 'and', 'to', 'work', 'on', 'presentation.']\n",
      "['eating', 'a', 'berry,', 'honey', '&', 'oat', 'breakfast', 'smoothie', 'before', 'the', 'lecture', 'to', 'third', 'year', 'BA', 'multimedia', 'students', '—', 'at', 'Bonington', 'http://gowal.la/s/3D8z']\n",
      "['Photo:', 'pure', 'yummy.', '—', 'at', 'Bonington', 'http://gowal.la/c/CMZq']\n",
      "['[audiobot]', 'added', 'hour', 'of', 'skinny', 'black', 'haired', 'lady:', 'A', 'boo', 'by', 'philcampbell', 'http://bit.ly/cidqFr', '#audiogravity']\n"
     ]
    }
   ],
   "source": [
    "userDict = {}\n",
    "\n",
    "for uID in users.index[:3]:\n",
    "    #print(uID)\n",
    "    usersTData = df.loc[df['UserID'] == uID]\n",
    "    #make this a dictionary and get the counts of these words\n",
    "    userTweets = []\n",
    "    for tweet in usersTData['Tweet'][:20]:\n",
    "        #need to remove some special characters\n",
    "        #replace all links with the word 'link'\n",
    "        #replace all punctuation with 'punct'\n",
    "        splitT = tweet.split(' ')\n",
    "        #print(splitT)\n",
    "        userTweets.append(splitT)\n",
    "        \n",
    "    userDict.update(key=uID, value=userTweets)"
   ]
  },
  {
   "cell_type": "code",
   "execution_count": 76,
   "metadata": {},
   "outputs": [
    {
     "name": "stdout",
     "output_type": "stream",
     "text": [
      "<pandas.core.groupby.DataFrameGroupBy object at 0x11c7f26d8>\n"
     ]
    }
   ],
   "source": [
    "#show the graph\n",
    "\n",
    "#do some standard deviation bars once you have many users done\n",
    "\n",
    "#chi^2 test sta\n",
    "\n",
    "print(Dates)"
   ]
  },
  {
   "cell_type": "code",
   "execution_count": 14,
   "metadata": {},
   "outputs": [
    {
     "name": "stdout",
     "output_type": "stream",
     "text": [
      "93\n",
      "47\n",
      "41\n",
      "16\n"
     ]
    },
    {
     "data": {
      "text/plain": [
       "197"
      ]
     },
     "execution_count": 14,
     "metadata": {},
     "output_type": "execute_result"
    }
   ],
   "source": [
    "f = userf['dayofweek'].value_counts()\n",
    "\n",
    "for day in f:\n",
    "    print(day)\n",
    "    \n",
    "sum(f)"
   ]
  },
  {
   "cell_type": "code",
   "execution_count": null,
   "metadata": {
    "collapsed": true
   },
   "outputs": [],
   "source": []
  }
 ],
 "metadata": {
  "kernelspec": {
   "display_name": "Python 3",
   "language": "python",
   "name": "python3"
  },
  "language_info": {
   "codemirror_mode": {
    "name": "ipython",
    "version": 3
   },
   "file_extension": ".py",
   "mimetype": "text/x-python",
   "name": "python",
   "nbconvert_exporter": "python",
   "pygments_lexer": "ipython3",
   "version": "3.6.1"
  }
 },
 "nbformat": 4,
 "nbformat_minor": 2
}
