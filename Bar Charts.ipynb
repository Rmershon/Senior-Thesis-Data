{
 "cells": [
  {
   "cell_type": "code",
   "execution_count": 180,
   "metadata": {},
   "outputs": [
    {
     "name": "stderr",
     "output_type": "stream",
     "text": [
      "/Users/reedmershon/anaconda/lib/python3.6/site-packages/IPython/core/interactiveshell.py:2881: FutureWarning: \n",
      "mpl_style had been deprecated and will be removed in a future version.\n",
      "Use `matplotlib.pyplot.style.use` instead.\n",
      "\n",
      "  exec(code_obj, self.user_global_ns, self.user_ns)\n"
     ]
    }
   ],
   "source": [
    "import pandas as pd\n",
    "import numpy as np\n",
    "import matplotlib.pyplot as plt\n",
    "import matplotlib.mlab as PCA\n",
    "import sys\n",
    "%matplotlib inline\n",
    "\n",
    "pd.set_option('display.mpl_style', 'default')\n",
    "\n",
    "dfPolluters = pd.read_csv('honeypot_data/content_polluters_tweets.txt', sep='\\t', names=['UserID', 'TweetID', 'Tweet', 'CreatedAt'], parse_dates=['CreatedAt'])\n",
    "polluters = pd.read_csv('honeypot_data/content_polluters.txt', sep='\\t', names=['UserID', 'CreatedAt', 'CollectedAt', 'NumerOfFollowings', 'NumberOfFollowers', 'NumberOfTweets', 'LengthOfScreenName', 'LengthOfDescriptionInUserProfile'], parse_dates=['CreatedAt', 'CollectedAt'])\n",
    "\n",
    "polluters = polluters.set_index('UserID')\n",
    "\n",
    "dfLegit = pd.read_csv('honeypot_data/legitimate_users_tweets.txt', sep='\\t', names=['UserID', 'TweetID', 'Tweet', 'CreatedAt'], parse_dates=['CreatedAt'])\n",
    "legit = pd.read_csv('honeypot_data/legitimate_users.txt', sep='\\t', names=['UserID', 'CreatedAt', 'CollectedAt', 'NumerOfFollowings', 'NumberOfFollowers', 'NumberOfTweets', 'LengthOfScreenName', 'LengthOfDescriptionInUserProfile'], parse_dates=['CreatedAt', 'CollectedAt'])\n",
    "\n",
    "legit = legit.set_index('UserID')\n",
    "\n"
   ]
  },
  {
   "cell_type": "code",
   "execution_count": 181,
   "metadata": {
    "collapsed": true
   },
   "outputs": [],
   "source": [
    "dfPolluters['dayofweek'] = dfPolluters['CreatedAt'].dt.dayofweek\n",
    "dfLegit['dayofweek'] = dfLegit['CreatedAt'].dt.dayofweek\n"
   ]
  },
  {
   "cell_type": "code",
   "execution_count": 187,
   "metadata": {
    "collapsed": true
   },
   "outputs": [],
   "source": [
    "len(dfLegit[:1])\n",
    "\n",
    "#do all tweets together, and then take the total frequency? or do I take the freq and average them \n",
    "\n",
    "def tweetsPerUser(users, tweets):\n",
    "    userGroupTweets = {}\n",
    "    for uID in users.index[:3]:\n",
    "        usersTData = tweets.loc[tweets['UserID'] == uID]\n",
    "        #make this a dictionary and get the counts of these words\n",
    "        userTweets = []\n",
    "        for tweet in usersTData['Tweet'][:10]:\n",
    "            splitT = tweet.split(' ')\n",
    "            userTweets.append(splitT)\n",
    "    return userGroupTweets\n",
    "\n",
    "def freqPerDay(users, tweets):\n",
    "    tweetsByDay = {}\n",
    "    for uID in users.index:\n",
    "        userData = tweets.loc[tweets['UserID'] == uID]\n",
    "        #make this a dictionary and get the counts of these words\n",
    "        #countDate = userData.groupby('dayofweek').count()\n",
    "        #Dates = userData.groupby('dayofweek')\n",
    "        dayCounts = userData['dayofweek'].value_counts()\n",
    "        totalTweets = sum(dayCounts)\n",
    "        dayFreq = []\n",
    "        \n",
    "        if totalTweets >= 20:\n",
    "        \n",
    "            for day in [0, 1, 2, 3, 4, 5, 6]:\n",
    "                try:\n",
    "                    dayFreq.append(dayCounts[day]/totalTweets)\n",
    "                except Exception:\n",
    "                    dayFreq.append(0.0)\n",
    "\n",
    "            tweetsByDay[uID] = dayFreq\n",
    "        \n",
    "    return tweetsByDay\n",
    "        \n",
    "            \n",
    "    #return dictionary of words"
   ]
  },
  {
   "cell_type": "code",
   "execution_count": 188,
   "metadata": {
    "collapsed": true
   },
   "outputs": [],
   "source": [
    "polFreqs = freqPerDay(polluters, dfPolluters)\n",
    "legFreqs = freqPerDay(legit, dfLegit)"
   ]
  },
  {
   "cell_type": "code",
   "execution_count": 189,
   "metadata": {
    "collapsed": true
   },
   "outputs": [],
   "source": [
    "polDF = pd.DataFrame.from_dict(polFreqs, 'index')\n",
    "legDF = pd.DataFrame.from_dict(legFreqs, 'index')\n",
    "\n",
    "desPolDF = polDF.describe()\n",
    "desLegDF = legDF.describe()\n",
    "\n",
    "polMean = pd.Series.to_frame(desPolDF.loc[desPolDF.index[1]])\n",
    "legMean = pd.Series.to_frame(desLegDF.loc[desLegDF.index[1]])\n",
    "polSTD = pd.Series.to_frame(desPolDF.loc[desPolDF.index[2]])\n",
    "legSTD = pd.Series.to_frame(desLegDF.loc[desLegDF.index[2]])"
   ]
  },
  {
   "cell_type": "code",
   "execution_count": 190,
   "metadata": {},
   "outputs": [
    {
     "data": {
      "text/plain": [
       "<matplotlib.axes._subplots.AxesSubplot at 0x11adab5c0>"
      ]
     },
     "execution_count": 190,
     "metadata": {},
     "output_type": "execute_result"
    },
    {
     "data": {
      "image/png": "[encoded data removed]",
      "text/plain": [
       "<matplotlib.figure.Figure at 0x1835edcc0>"
      ]
     },
     "metadata": {},
     "output_type": "display_data"
    },
    {
     "data": {
      "image/png": "[encoded data removed]",
      "text/plain": [
       "<matplotlib.figure.Figure at 0x17c8194a8>"
      ]
     },
     "metadata": {},
     "output_type": "display_data"
    }
   ],
   "source": [
    "polMean.plot(kind='box', title='Polluters mean', ylim=(0.11, 0.16))\n",
    "legMean.plot(kind='box', title='Legit mean', ylim=(0.11, 0.16))"
   ]
  },
  {
   "cell_type": "code",
   "execution_count": 191,
   "metadata": {},
   "outputs": [
    {
     "data": {
      "text/plain": [
       "<matplotlib.axes._subplots.AxesSubplot at 0x15eebd630>"
      ]
     },
     "execution_count": 191,
     "metadata": {},
     "output_type": "execute_result"
    },
    {
     "data": {
      "image/png": "[encoded data removed]",
      "text/plain": [
       "<matplotlib.figure.Figure at 0x11adcfa58>"
      ]
     },
     "metadata": {},
     "output_type": "display_data"
    },
    {
     "data": {
      "image/png": "[encoded data removed]",
      "text/plain": [
       "<matplotlib.figure.Figure at 0x11adcfe10>"
      ]
     },
     "metadata": {},
     "output_type": "display_data"
    }
   ],
   "source": [
    "polSTD.plot(kind='box', title='Polluters std')\n",
    "legSTD.plot(kind='box', title='Legit std', ylim=(0.11, 0.16))"
   ]
  },
  {
   "cell_type": "code",
   "execution_count": 192,
   "metadata": {},
   "outputs": [
    {
     "data": {
      "text/plain": [
       "<matplotlib.axes._subplots.AxesSubplot at 0x16eaddb70>"
      ]
     },
     "execution_count": 192,
     "metadata": {},
     "output_type": "execute_result"
    },
    {
     "data": {
      "image/png": "[encoded data removed]",
      "text/plain": [
       "<matplotlib.figure.Figure at 0x1179bd7f0>"
      ]
     },
     "metadata": {},
     "output_type": "display_data"
    },
    {
     "data": {
      "image/png": "[encoded data removed]",
      "text/plain": [
       "<matplotlib.figure.Figure at 0x16ead6940>"
      ]
     },
     "metadata": {},
     "output_type": "display_data"
    }
   ],
   "source": [
    "joinMean = polMean.join(legMean, lsuffix='_polluter', rsuffix='_legit')\n",
    "joinSTD = polSTD.join(legSTD, lsuffix='_polluter', rsuffix='_legit')\n",
    "##Original thinking is that legit users will twee more often on the weekend\n",
    "##Polluters won't care what day of the week it is, and so thier means should be more evenly disributed\n",
    "joinMean.plot(kind='bar', x=joinMean.index, width=1, title='means')\n",
    "joinSTD.plot(kind='box', title='standard deviation')\n",
    "#Need to make this a histogram"
   ]
  },
  {
   "cell_type": "code",
   "execution_count": 193,
   "metadata": {},
   "outputs": [
    {
     "data": {
      "text/plain": [
       "<matplotlib.axes._subplots.AxesSubplot at 0x1323973c8>"
      ]
     },
     "execution_count": 193,
     "metadata": {},
     "output_type": "execute_result"
    },
    {
     "data": {
      "image/png": "[encoded data removed]",
      "text/plain": [
       "<matplotlib.figure.Figure at 0x182222f28>"
      ]
     },
     "metadata": {},
     "output_type": "display_data"
    }
   ],
   "source": [
    "##Obviously this isn't the case. However, polluters seem to have a more consistent tweet schedule\n",
    "##Thier frequency is much more simmilar and doesn't have a concise peak like the legit users do.\n",
    "\n",
    "##Legit users seem to typically increse their tweets throughout the week, and actually tweet less during the weekend.\n",
    "##Days 5 and 6 have the least amount. \n",
    "\n",
    "joinMean.plot(kind='box', title='Total ')"
   ]
  },
  {
   "cell_type": "markdown",
   "metadata": {},
   "source": [
    "# Sentiment Analysis\n",
    "## Using TextBlob and its language analysis tools to look at the tweets"
   ]
  },
  {
   "cell_type": "code",
   "execution_count": 175,
   "metadata": {
    "collapsed": true
   },
   "outputs": [],
   "source": [
    "from textblob import TextBlob\n",
    "from textblob.sentiments import NaiveBayesAnalyzer\n",
    "\n",
    "def sentPerTweetUser(users, tweets): \n",
    "    usersSent = {}\n",
    "    for uID in users.index:\n",
    "        userData = tweets.loc[tweets['UserID'] == uID]\n",
    "        userTweetSent = []\n",
    "        for tweet in userData['Tweet']:\n",
    "            blob = TextBlob(tweet, analyzer=NaiveBayesAnalyzer())\n",
    "            \n",
    "            userTweetSent.append(blob.sentiment)\n",
    "        usersSent[uID] = userTweetSent\n",
    "        \n",
    "        "
   ]
  },
  {
   "cell_type": "code",
   "execution_count": null,
   "metadata": {
    "collapsed": true
   },
   "outputs": [],
   "source": [
    "a"
   ]
  },
  {
   "cell_type": "code",
   "execution_count": 295,
   "metadata": {
    "collapsed": true
   },
   "outputs": [],
   "source": [
    "##Just testing things out here. \n",
    "\n",
    "userData = dfPolluters.loc[dfPolluters['UserID'] == 6301]\n",
    "\n",
    "userTweetSent = []\n",
    "tweets = []\n",
    "\n",
    "for tweet in userData['Tweet'][:100]:\n",
    "    blob = TextBlob(tweet)\n",
    "    a = blob.sentiment\n",
    "    if a[1] < 0.2:\n",
    "        userTweetSent.append(a)\n",
    "        tweets.append(tweet)\n",
    "    \n",
    "#userTweetSent"
   ]
  },
  {
   "cell_type": "code",
   "execution_count": 252,
   "metadata": {},
   "outputs": [
    {
     "data": {
      "text/plain": [
       "['MELBOURNE ENQUIRY: Seeking a variety of acts for our end of year show. Payment is $120 per slot or $200 for 2.... http://bit.ly/4Ah3fF',\n",
       " 'Come to \"The Burlesque Bootcamp - Sydney\" Saturday, 23 January 2010 at 10:00 until <br />Sunday, 24 January 2010 at... http://bit.ly/38simD',\n",
       " 'The Burlesque Bootcamp – Coming to Sydney!:   The Burlesque Bootcamp – Heading to Sydney in 2010!  .. http://bit.ly/4vT7rC',\n",
       " 'Just wants to remind performers thinking about booking into Bootcamp. There is a limit of 15 people, so if you... http://bit.ly/4BW2W1',\n",
       " 'Burlesque Again Drawing Crowds  http://bit.ly/3jwvol http://bit.ly/4s2Lw7',\n",
       " 'ATTN SYNDNEY : A must attend http://bit.ly/4tdWST http://bit.ly/4yldCq',\n",
       " '@CherryValens looking forward to having you with us!',\n",
       " 'looking forward to Bijou opening night this Sunday in Melbourne http://www.bijoucabaret.com http://bit.ly/SED4w',\n",
       " 'I posted 74 photos on Facebook in the album \"The Ruby Revue Sydney - Nov 2009\" http://bit.ly/gmTCp',\n",
       " 'At the burlesque bootcamp. Getting the girls moving!  http://pic.gd/31c3d3']"
      ]
     },
     "execution_count": 252,
     "metadata": {},
     "output_type": "execute_result"
    }
   ],
   "source": [
    "tweets[:10]"
   ]
  },
  {
   "cell_type": "code",
   "execution_count": 219,
   "metadata": {},
   "outputs": [
    {
     "data": {
      "text/plain": [
       "-0.10416666666666666"
      ]
     },
     "execution_count": 219,
     "metadata": {},
     "output_type": "execute_result"
    }
   ],
   "source": [
    "userTweetSent[0][0]"
   ]
  },
  {
   "cell_type": "code",
   "execution_count": 285,
   "metadata": {
    "collapsed": true
   },
   "outputs": [],
   "source": [
    "def userSentiment(users, tweets):\n",
    "    userSents = {}\n",
    "    for uID in users.index:\n",
    "        userData = tweets.loc[tweets['UserID'] == uID]\n",
    "        userTweetSent = []\n",
    "        polarityPos = 0\n",
    "        polarityNet = 0\n",
    "        polarityNeg = 0\n",
    "        subPos = 0\n",
    "        subNet = 0\n",
    "        subNeg = 0\n",
    "        if len(userData['Tweet']) > 0:\n",
    "            for tweet in userData['Tweet']:\n",
    "                    if type(tweet) is str:\n",
    "                        blob = TextBlob(tweet)\n",
    "                        sent = blob.sentiment\n",
    "                        if sent[0] > 0.5:\n",
    "                            polarityPos += 1 \n",
    "                        elif sent[0] < -0.5:\n",
    "                            polarityNeg += 1\n",
    "                        elif 0.5 >= sent[0] >= -0.5:\n",
    "                            polarityNet += 1\n",
    "\n",
    "                        if sent[1] > 0.75:\n",
    "                            subPos += 1\n",
    "                        elif sent[1] < .25:\n",
    "                            subNeg += 1\n",
    "                        elif 0.75 >= sent[1] >= 0.25:\n",
    "                            subNet += 1\n",
    "\n",
    "\n",
    "\n",
    "            userSents[uID] = [polarityPos, polarityNet, polarityNeg, subPos, subNet, subNeg]\n",
    "    return userSents\n",
    "            "
   ]
  },
  {
   "cell_type": "markdown",
   "metadata": {},
   "source": [
    "Above code has been changed to handle users that don't have any tweets. For some reason some accounts data were collected but no tweets were. There's no use in having their data"
   ]
  },
  {
   "cell_type": "code",
   "execution_count": 286,
   "metadata": {
    "collapsed": true
   },
   "outputs": [],
   "source": [
    "polSent = userSentiment(polluters, dfPolluters)\n",
    "#Error reading in the legit users tweets... need to handle this in my function\n",
    "legSent = userSentiment(legit, dfLegit)"
   ]
  },
  {
   "cell_type": "code",
   "execution_count": 287,
   "metadata": {},
   "outputs": [
    {
     "data": {
      "text/plain": [
       "20645"
      ]
     },
     "execution_count": 287,
     "metadata": {},
     "output_type": "execute_result"
    }
   ],
   "source": [
    "len(polSent)"
   ]
  },
  {
   "cell_type": "code",
   "execution_count": 288,
   "metadata": {
    "collapsed": true
   },
   "outputs": [],
   "source": [
    "polSentDF = pd.DataFrame.from_dict(polSent, 'index')\n",
    "legSentDF = pd.DataFrame.from_dict(legSent, 'index')\n",
    "\n",
    "desPolSentDF = polSentDF.describe()\n",
    "desLegSentDF = legSentDF.describe()\n",
    "\n",
    "polSentMean = pd.Series.to_frame(desPolSentDF.loc[desPolSentDF.index[1]])\n",
    "legSentMean = pd.Series.to_frame(desLegSentDF.loc[desLegSentDF.index[1]])\n",
    "polSentSTD = pd.Series.to_frame(desPolSentDF.loc[desPolSentDF.index[2]])\n",
    "legSentSTD = pd.Series.to_frame(desLegSentDF.loc[desLegSentDF.index[2]])\n",
    "\n"
   ]
  },
  {
   "cell_type": "code",
   "execution_count": 273,
   "metadata": {
    "collapsed": true
   },
   "outputs": [],
   "source": [
    "##Simple function to find accounts that had no tweets collected\n",
    "\n",
    "def userZeroTweets(users, tweets):\n",
    "    zerotweeters = 0\n",
    "    for uID in users.index:\n",
    "        userData = tweets.loc[tweets['UserID'] == uID]\n",
    "        \n",
    "        if len(userData) == 0:\n",
    "            zerotweeters += 1\n",
    "    \n",
    "    return zerotweeters\n",
    "\n",
    "\n",
    "count = userZeroTweets(polluters, dfPolluters)    "
   ]
  },
  {
   "cell_type": "code",
   "execution_count": 274,
   "metadata": {},
   "outputs": [
    {
     "data": {
      "text/plain": [
       "1578"
      ]
     },
     "execution_count": 274,
     "metadata": {},
     "output_type": "execute_result"
    }
   ],
   "source": [
    "## 1500 polluter accounts that dont have any tweets for them\n",
    "## just throw these out \n",
    "\n",
    "count"
   ]
  },
  {
   "cell_type": "code",
   "execution_count": 257,
   "metadata": {},
   "outputs": [
    {
     "data": {
      "text/plain": [
       "[]"
      ]
     },
     "execution_count": 257,
     "metadata": {},
     "output_type": "execute_result"
    }
   ],
   "source": [
    "userData = dfPolluters.loc[dfPolluters['UserID'] == 964981]\n",
    "\n",
    "userTweetSent = []\n",
    "tweets = []\n",
    "\n",
    "for tweet in userData['Tweet']:\n",
    "    tweets.append(tweet)\n",
    "\n",
    "tweets"
   ]
  },
  {
   "cell_type": "code",
   "execution_count": 292,
   "metadata": {},
   "outputs": [
    {
     "data": {
      "text/html": [
       "<div>\n",
       "<style>\n",
       "    .dataframe thead tr:only-child th {\n",
       "        text-align: right;\n",
       "    }\n",
       "\n",
       "    .dataframe thead th {\n",
       "        text-align: left;\n",
       "    }\n",
       "\n",
       "    .dataframe tbody tr th {\n",
       "        vertical-align: top;\n",
       "    }\n",
       "</style>\n",
       "<table border=\"1\" class=\"dataframe\">\n",
       "  <thead>\n",
       "    <tr style=\"text-align: right;\">\n",
       "      <th></th>\n",
       "      <th>0</th>\n",
       "      <th>1</th>\n",
       "      <th>2</th>\n",
       "      <th>3</th>\n",
       "      <th>4</th>\n",
       "      <th>5</th>\n",
       "    </tr>\n",
       "  </thead>\n",
       "  <tbody>\n",
       "    <tr>\n",
       "      <th>count</th>\n",
       "      <td>20645.000000</td>\n",
       "      <td>20645.000000</td>\n",
       "      <td>20645.000000</td>\n",
       "      <td>20645.000000</td>\n",
       "      <td>20645.000000</td>\n",
       "      <td>20645.000000</td>\n",
       "    </tr>\n",
       "    <tr>\n",
       "      <th>mean</th>\n",
       "      <td>10.283991</td>\n",
       "      <td>101.389876</td>\n",
       "      <td>1.365173</td>\n",
       "      <td>16.620102</td>\n",
       "      <td>42.816517</td>\n",
       "      <td>53.602422</td>\n",
       "    </tr>\n",
       "    <tr>\n",
       "      <th>std</th>\n",
       "      <td>13.440840</td>\n",
       "      <td>75.088967</td>\n",
       "      <td>3.232677</td>\n",
       "      <td>20.936798</td>\n",
       "      <td>39.300459</td>\n",
       "      <td>48.162509</td>\n",
       "    </tr>\n",
       "    <tr>\n",
       "      <th>min</th>\n",
       "      <td>0.000000</td>\n",
       "      <td>0.000000</td>\n",
       "      <td>0.000000</td>\n",
       "      <td>0.000000</td>\n",
       "      <td>0.000000</td>\n",
       "      <td>0.000000</td>\n",
       "    </tr>\n",
       "    <tr>\n",
       "      <th>25%</th>\n",
       "      <td>1.000000</td>\n",
       "      <td>19.000000</td>\n",
       "      <td>0.000000</td>\n",
       "      <td>2.000000</td>\n",
       "      <td>6.000000</td>\n",
       "      <td>8.000000</td>\n",
       "    </tr>\n",
       "    <tr>\n",
       "      <th>50%</th>\n",
       "      <td>6.000000</td>\n",
       "      <td>109.000000</td>\n",
       "      <td>0.000000</td>\n",
       "      <td>10.000000</td>\n",
       "      <td>35.000000</td>\n",
       "      <td>44.000000</td>\n",
       "    </tr>\n",
       "    <tr>\n",
       "      <th>75%</th>\n",
       "      <td>15.000000</td>\n",
       "      <td>178.000000</td>\n",
       "      <td>2.000000</td>\n",
       "      <td>23.000000</td>\n",
       "      <td>72.000000</td>\n",
       "      <td>88.000000</td>\n",
       "    </tr>\n",
       "    <tr>\n",
       "      <th>max</th>\n",
       "      <td>200.000000</td>\n",
       "      <td>200.000000</td>\n",
       "      <td>198.000000</td>\n",
       "      <td>200.000000</td>\n",
       "      <td>200.000000</td>\n",
       "      <td>200.000000</td>\n",
       "    </tr>\n",
       "  </tbody>\n",
       "</table>\n",
       "</div>"
      ],
      "text/plain": [
       "                  0             1             2             3             4  \\\n",
       "count  20645.000000  20645.000000  20645.000000  20645.000000  20645.000000   \n",
       "mean      10.283991    101.389876      1.365173     16.620102     42.816517   \n",
       "std       13.440840     75.088967      3.232677     20.936798     39.300459   \n",
       "min        0.000000      0.000000      0.000000      0.000000      0.000000   \n",
       "25%        1.000000     19.000000      0.000000      2.000000      6.000000   \n",
       "50%        6.000000    109.000000      0.000000     10.000000     35.000000   \n",
       "75%       15.000000    178.000000      2.000000     23.000000     72.000000   \n",
       "max      200.000000    200.000000    198.000000    200.000000    200.000000   \n",
       "\n",
       "                  5  \n",
       "count  20645.000000  \n",
       "mean      53.602422  \n",
       "std       48.162509  \n",
       "min        0.000000  \n",
       "25%        8.000000  \n",
       "50%       44.000000  \n",
       "75%       88.000000  \n",
       "max      200.000000  "
      ]
     },
     "execution_count": 292,
     "metadata": {},
     "output_type": "execute_result"
    }
   ],
   "source": [
    "#need to actually show my sentiment results\n",
    "\n",
    "desPolSentDF"
   ]
  },
  {
   "cell_type": "code",
   "execution_count": 299,
   "metadata": {},
   "outputs": [
    {
     "data": {
      "text/plain": [
       "<matplotlib.axes._subplots.AxesSubplot at 0x1ad587780>"
      ]
     },
     "execution_count": 299,
     "metadata": {},
     "output_type": "execute_result"
    },
    {
     "data": {
      "image/png": "[encoded data removed]",
      "text/plain": [
       "<matplotlib.figure.Figure at 0x119af0748>"
      ]
     },
     "metadata": {},
     "output_type": "display_data"
    },
    {
     "data": {
      "image/png": "[encoded data removed]",
      "text/plain": [
       "<matplotlib.figure.Figure at 0x116a99a58>"
      ]
     },
     "metadata": {},
     "output_type": "display_data"
    }
   ],
   "source": [
    "joinMeanSent = polSentMean.join(legSentMean, lsuffix='_polluter', rsuffix='_legit')\n",
    "joinSTDSent = polSentSTD.join(legSentSTD, lsuffix='_polluter', rsuffix='_legit')\n",
    "\n",
    "joinSTDSent.plot(kind='box', title='Sentiment Standard Deviation')\n",
    "joinMeanSent.plot(kind='box', title='Sentiment Mean')\n",
    "\n",
    "#These plots are just on the raw numbers. Doing freq will potentially improve the results shown\n"
   ]
  },
  {
   "cell_type": "code",
   "execution_count": 323,
   "metadata": {
    "collapsed": true
   },
   "outputs": [],
   "source": [
    "def sentFreq(dataFrame):\n",
    "    newData = {}\n",
    "    #get the last three columns. Since the last three are all the subjective scores, should be just as many as the \n",
    "    dataFrame['Total Tweets'] = dataFrame.iloc[:, -4:-1].sum(axis=1)\n",
    "    tempDF = dataFrame\n",
    "    for index, row in tempDF.iterrows():\n",
    "        polPosF = row[0]/row[6]\n",
    "        polNetF = row[1]/row[6]\n",
    "        polNegF = row[2]/row[6]\n",
    "        subPosF = row[3]/row[6]\n",
    "        subNetF = row[4]/row[6]\n",
    "        subNegF = row[5]/row[6]\n",
    "        newData[index] = [polPosF, polNetF, polNegF, subPosF, subNetF, subNegF]\n",
    "\n",
    "    return newData\n",
    "        \n",
    "        \n",
    "        \n",
    "polSentFreq = pd.DataFrame.from_dict(sentFreq(polSentDF), 'index')\n",
    "legSentFreq = pd.DataFrame.from_dict(sentFreq(legSentDF), 'index')"
   ]
  },
  {
   "cell_type": "code",
   "execution_count": 328,
   "metadata": {
    "collapsed": true
   },
   "outputs": [],
   "source": [
    "desPSF = polSentFreq.describe()\n",
    "desLSF = legSentFreq.describe()\n",
    "\n",
    "psfMean = pd.Series.to_frame(desPSF.loc[desPSF.index[1]])\n",
    "psfSTD = pd.Series.to_frame(desPSF.loc[desPSF.index[2]])\n",
    "\n",
    "lsfMean = pd.Series.to_frame(desLSF.loc[desLSF.index[1]])\n",
    "lsfSTD = pd.Series.to_frame(desLSF.loc[desLSF.index[2]])"
   ]
  },
  {
   "cell_type": "code",
   "execution_count": 329,
   "metadata": {},
   "outputs": [
    {
     "data": {
      "text/plain": [
       "<matplotlib.axes._subplots.AxesSubplot at 0x151041f98>"
      ]
     },
     "execution_count": 329,
     "metadata": {},
     "output_type": "execute_result"
    },
    {
     "data": {
      "image/png": "[encoded data removed]",
      "text/plain": [
       "<matplotlib.figure.Figure at 0x1198d2c18>"
      ]
     },
     "metadata": {},
     "output_type": "display_data"
    },
    {
     "data": {
      "image/png": "[encoded data removed]",
      "text/plain": [
       "<matplotlib.figure.Figure at 0x11ad98b38>"
      ]
     },
     "metadata": {},
     "output_type": "display_data"
    }
   ],
   "source": [
    "joinMeanSF = psfMean.join(lsfMean, lsuffix='_polluter', rsuffix='_legit')\n",
    "joinSTDSF = psfSTD.join(lsfSTD, lsuffix='_polluter', rsuffix='_legit')\n",
    "\n",
    "joinSTDSF.plot(kind='box', title='Sentiment Standard Deviation of Frequency')\n",
    "joinMeanSF.plot(kind='box', title='Sentiment Frequency Mean')"
   ]
  },
  {
   "cell_type": "code",
   "execution_count": 293,
   "metadata": {
    "collapsed": true
   },
   "outputs": [],
   "source": [
    "#nearest neighbor algo\n",
    "\n",
    "#FIrst string would be a n-long vector or list\n",
    "#What the user is\n",
    "\n",
    "#then take data not trained on and see how often it is correctly predicted\n",
    "\n",
    "#If this takes a long time, goto decision tree"
   ]
  },
  {
   "cell_type": "markdown",
   "metadata": {},
   "source": [
    "# MACHINE LEARNING\n",
    "## NEAREST NEIGHBOR\n",
    "\n",
    "I will be using the scikit learn supervised learning toolkit to run some machine learning algorithms on the data sets. First starting with Nearest neighbor. Then looking at how well it is able to determine polluters from legit users. "
   ]
  },
  {
   "cell_type": "code",
   "execution_count": 435,
   "metadata": {
    "collapsed": true
   },
   "outputs": [],
   "source": [
    "from sklearn.neighbors import KNeighborsClassifier as KNClass\n",
    "\n",
    "## Probably need to re-do my function so that i can get a good look at the sentiment scores? or I should average them. \n",
    "\n",
    "## First well look at the freqency since its just a small array of numbers. Can then move on. \n",
    "\n",
    "#chose the range of numbers to look at\n",
    "def machLearnData(dframe1, dframe2, rng=0):\n",
    "    data = []\n",
    "    #0 = polluters\n",
    "    #1 = legit\n",
    "    classify = []\n",
    "    for index, row in dframe1.iterrows():\n",
    "        usrList = [row[0], row[1], row[2], row[3], row[4], row[5]]\n",
    "            \n",
    "        data.append(usrList)\n",
    "        classify.append(0)\n",
    "        \n",
    "    for index, row in dframe2.iterrows():\n",
    "        usrList = [row[0], row[1], row[2], row[3], row[4], row[5]]\n",
    "            \n",
    "        data.append(usrList)\n",
    "        classify.append(1)\n",
    "        \n",
    "    return data, classify\n",
    "        "
   ]
  },
  {
   "cell_type": "code",
   "execution_count": 436,
   "metadata": {},
   "outputs": [
    {
     "name": "stdout",
     "output_type": "stream",
     "text": [
      "              0     1      2     3      4      5\n",
      "17206096  0.075  0.92  0.005  0.12  0.495  0.385\n"
     ]
    }
   ],
   "source": [
    "data, cls = machLearnData(polSentFreq[:1000], legSentFreq[:1000])\n",
    "\n",
    "print(polSentFreq[1000:1001])"
   ]
  },
  {
   "cell_type": "code",
   "execution_count": 479,
   "metadata": {},
   "outputs": [
    {
     "name": "stderr",
     "output_type": "stream",
     "text": [
      "/Users/reedmershon/anaconda/lib/python3.6/site-packages/sklearn/utils/validation.py:395: DeprecationWarning: Passing 1d arrays as data is deprecated in 0.17 and will raise ValueError in 0.19. Reshape your data either using X.reshape(-1, 1) if your data has a single feature or X.reshape(1, -1) if it contains a single sample.\n",
      "  DeprecationWarning)\n"
     ]
    },
    {
     "data": {
      "text/plain": [
       "array([0])"
      ]
     },
     "execution_count": 479,
     "metadata": {},
     "output_type": "execute_result"
    }
   ],
   "source": [
    "neigh = KNClass(n_neighbors=21)\n",
    "neigh.fit(data, cls)\n",
    "\n",
    "neigh.predict([0.075, 0.92, 0.005, 0.12, 0.495, 0.385])"
   ]
  },
  {
   "cell_type": "code",
   "execution_count": 480,
   "metadata": {
    "collapsed": true
   },
   "outputs": [],
   "source": [
    "# run MachLearnData on new dataset of users\n",
    "preData, preCls = machLearnData(polSentFreq[1000:2000], legSentFreq[1000:2000])\n",
    "#take the new lists and then use predict on them\n",
    "finCls = neigh.predict(preData)\n",
    "#compare the new class list to original and see if there is any difference and how many were correctly predicted\n",
    "\n",
    "def predTable(fCls):\n",
    "    \n",
    "    split = int(len(fCls)/2)\n",
    "    \n",
    "    cls = list(fCls)\n",
    "    #true positive is going to be spammers that are predicted as such\n",
    "    truePos = cls[:split].count(0)\n",
    "    #false negative will be spammers that are predicted as nonpolluters\n",
    "    falseNeg = cls[:split].count(1)\n",
    "\n",
    "#     polCounts = np.unique(cls[:split], return_counts=True)\n",
    "    \n",
    "    falsePos = cls[split:].count(0)\n",
    "    trueNeg = cls[split:].count(1)\n",
    "    \n",
    "    acc = (truePos + trueNeg) / int(len(fCls))\n",
    "    \n",
    "    precision = truePos / (truePos + falsePos)\n",
    "    \n",
    "    recall = truePos / (truePos + falseNeg)\n",
    "    \n",
    "    f1 = 2*(recall * precision) / (recall + precision)\n",
    "    \n",
    "    fpr = falsePos / (falsePos + trueNeg)\n",
    "    \n",
    "    return {'polluter': [truePos, falseNeg], 'legit': [falsePos, trueNeg]}, acc, precision, recall, f1, fpr\n",
    "\n",
    "pred, predAcc, predPrec, predRec, predF1, predFPR = predTable(finCls)"
   ]
  },
  {
   "cell_type": "code",
   "execution_count": 462,
   "metadata": {},
   "outputs": [
    {
     "data": {
      "text/plain": [
       "(            0    1\n",
       " polluter  775  225\n",
       " legit     388  612,\n",
       " 0.6935,\n",
       " 0.6663800515907137,\n",
       " 0.775,\n",
       " 0.7165973185390663,\n",
       " 0.388)"
      ]
     },
     "execution_count": 462,
     "metadata": {},
     "output_type": "execute_result"
    }
   ],
   "source": [
    "#write function to automate the predictions\n",
    "\n",
    "#true pos, true neg, fals pos, fals neg\n",
    "#pos hit is a bot\n",
    "predDF = pd.DataFrame.from_dict(pred, orient='index')\n",
    "predDF, predAcc, predPrec, predRec, predF1, predFPR"
   ]
  },
  {
   "cell_type": "code",
   "execution_count": 463,
   "metadata": {},
   "outputs": [
    {
     "name": "stdout",
     "output_type": "stream",
     "text": [
      "({'polluter': [765, 235], 'legit': [408, 592]}, 0.6785, 0.6521739130434783, 0.765, 0.7040957202024851, 0.408)\n"
     ]
    },
    {
     "data": {
      "text/html": [
       "<div>\n",
       "<style>\n",
       "    .dataframe thead tr:only-child th {\n",
       "        text-align: right;\n",
       "    }\n",
       "\n",
       "    .dataframe thead th {\n",
       "        text-align: left;\n",
       "    }\n",
       "\n",
       "    .dataframe tbody tr th {\n",
       "        vertical-align: top;\n",
       "    }\n",
       "</style>\n",
       "<table border=\"1\" class=\"dataframe\">\n",
       "  <thead>\n",
       "    <tr style=\"text-align: right;\">\n",
       "      <th></th>\n",
       "      <th>0</th>\n",
       "      <th>1</th>\n",
       "    </tr>\n",
       "  </thead>\n",
       "  <tbody>\n",
       "    <tr>\n",
       "      <th>polluter</th>\n",
       "      <td>765</td>\n",
       "      <td>235</td>\n",
       "    </tr>\n",
       "    <tr>\n",
       "      <th>legit</th>\n",
       "      <td>408</td>\n",
       "      <td>592</td>\n",
       "    </tr>\n",
       "  </tbody>\n",
       "</table>\n",
       "</div>"
      ],
      "text/plain": [
       "            0    1\n",
       "polluter  765  235\n",
       "legit     408  592"
      ]
     },
     "execution_count": 463,
     "metadata": {},
     "output_type": "execute_result"
    }
   ],
   "source": [
    "preData, preCls = machLearnData(polSentFreq[2000:3000], legSentFreq[2000:3000])\n",
    "#take the new lists and then use predict on them\n",
    "finCls = neigh.predict(preData)\n",
    "\n",
    "pred2 = predTable(finCls)\n",
    "print(pred2)\n",
    "pred2DF = pd.DataFrame.from_dict(pred2[0], orient='index')\n",
    "pred2DF"
   ]
  },
  {
   "cell_type": "code",
   "execution_count": 481,
   "metadata": {
    "collapsed": true
   },
   "outputs": [],
   "source": [
    "from sklearn.metrics import roc_curve, auc\n",
    "\n",
    "#calculate accuracy, precision, f1, recal\n",
    "\n",
    "#acc = trueppos + trueneg / total\n",
    "\n",
    "#precision = truepos / truepos + falsePos\n",
    "\n",
    "#recal = TruePos / truepos + falseNeg\n",
    "\n",
    "#f1 = 2*(Recall * Precision)/(Recall + Precision)\n",
    "\n",
    "probaCls = neigh.predict_proba(preData)\n",
    "\n",
    "#pred_proba returns a list of 2 numbers, and they are the probabilities of pos or neg results. just care about the first one. \n",
    "\n",
    "#tuple of actual classification, and the pos probability\n",
    "\n",
    "#would then need to walk through each point and plot the truePos rate(recall) and the falsePos rate\n",
    "#calculate area under this curve\n",
    "\n",
    "#ROC scores are the truePos probabilities\n",
    "#gives back fpr and tpr then you could plot the scores\n",
    "\n",
    "#another funtion will give the area under the graph \n",
    "\n",
    "#need to duplicate previous function to hand the predict_proba function data\n",
    "\n",
    "#this function will take in the predictproba function. Then parse out the results based on the a probability cutoff\n",
    "def probaTable(fCls, posL=0, posCut=0.5):\n",
    "    clsArray = []\n",
    "    actualCls = []\n",
    "    \n",
    "    pos = []\n",
    "    \n",
    "    count = 0\n",
    "    for line in fCls:\n",
    "        if line[0] >= posCut:\n",
    "            clsArray.append(0)\n",
    "        else:\n",
    "            clsArray.append(1)\n",
    "        pos.append(line[0])\n",
    "            \n",
    "        if count < len(fCls)/2:\n",
    "            actualCls.append(0)\n",
    "            count += 1\n",
    "        else:\n",
    "            actualCls.append(1)\n",
    "            \n",
    "    #print(len(actualCls), len(fCls))\n",
    "            \n",
    "    #classTuple = zip(actualCls, fCls)\n",
    "\n",
    "    fpr, tpr, thresholds = roc_curve(actualCls, pos, pos_label=posL)\n",
    "    \n",
    "    roc_auc = auc(fpr, tpr)\n",
    "    \n",
    "    #return {'polluter': [truePos, falseNeg], 'legit': [falsePos, trueNeg]}, acc, precision, recall, f1, fpr\n",
    "    \n",
    "    return fpr, tpr, thresholds, roc_auc"
   ]
  },
  {
   "cell_type": "code",
   "execution_count": 482,
   "metadata": {
    "collapsed": true
   },
   "outputs": [],
   "source": [
    "fpr, tpr, thresh, roc_auc = probaTable(probaCls)\n"
   ]
  },
  {
   "cell_type": "code",
   "execution_count": 483,
   "metadata": {},
   "outputs": [
    {
     "data": {
      "image/png": "[encoded data removed]",
      "text/plain": [
       "<matplotlib.figure.Figure at 0x16565c0f0>"
      ]
     },
     "metadata": {},
     "output_type": "display_data"
    }
   ],
   "source": [
    "#plot the roc curve\n",
    "\n",
    "plt.figure()\n",
    "\n",
    "plt.plot(fpr, tpr, color='green', lw=2, label='ROC curve (area = %0.2f)' % roc_auc)\n",
    "plt.xlabel('False Positive Rate')\n",
    "plt.ylabel('True Positive Rate')\n",
    "plt.title('ROC on Nearest Neighbor')\n",
    "plt.legend(loc=\"lower right\")\n",
    "plt.show()"
   ]
  },
  {
   "cell_type": "code",
   "execution_count": 489,
   "metadata": {
    "collapsed": true
   },
   "outputs": [],
   "source": [
    "from sklearn.naive_bayes import GaussianNB\n",
    "\n",
    "gnb = GaussianNB()\n",
    "gnb.fit(data, cls)\n",
    "\n",
    "preGNB = gnb.predict(preData)\n",
    "\n",
    "pred, predAcc, predPrec, predRec, predF1, predFPR = predTable(preGNB)"
   ]
  },
  {
   "cell_type": "code",
   "execution_count": 491,
   "metadata": {},
   "outputs": [
    {
     "data": {
      "text/html": [
       "<div>\n",
       "<style>\n",
       "    .dataframe thead tr:only-child th {\n",
       "        text-align: right;\n",
       "    }\n",
       "\n",
       "    .dataframe thead th {\n",
       "        text-align: left;\n",
       "    }\n",
       "\n",
       "    .dataframe tbody tr th {\n",
       "        vertical-align: top;\n",
       "    }\n",
       "</style>\n",
       "<table border=\"1\" class=\"dataframe\">\n",
       "  <thead>\n",
       "    <tr style=\"text-align: right;\">\n",
       "      <th></th>\n",
       "      <th>0</th>\n",
       "      <th>1</th>\n",
       "    </tr>\n",
       "  </thead>\n",
       "  <tbody>\n",
       "    <tr>\n",
       "      <th>polluter</th>\n",
       "      <td>762</td>\n",
       "      <td>238</td>\n",
       "    </tr>\n",
       "    <tr>\n",
       "      <th>legit</th>\n",
       "      <td>571</td>\n",
       "      <td>429</td>\n",
       "    </tr>\n",
       "  </tbody>\n",
       "</table>\n",
       "</div>"
      ],
      "text/plain": [
       "            0    1\n",
       "polluter  762  238\n",
       "legit     571  429"
      ]
     },
     "execution_count": 491,
     "metadata": {},
     "output_type": "execute_result"
    }
   ],
   "source": [
    "pred2DF = pd.DataFrame.from_dict(pred, orient='index')\n",
    "pred2DF"
   ]
  },
  {
   "cell_type": "code",
   "execution_count": 492,
   "metadata": {
    "collapsed": true
   },
   "outputs": [],
   "source": [
    "gnbProba = gnb.predict_proba(preData)\n",
    "\n",
    "fpr, tpr, thresh, roc_auc = probaTable(gnbProba)\n",
    "\n"
   ]
  },
  {
   "cell_type": "code",
   "execution_count": 494,
   "metadata": {},
   "outputs": [
    {
     "data": {
      "image/png": "[encoded data removed]",
      "text/plain": [
       "<matplotlib.figure.Figure at 0x1663c8b70>"
      ]
     },
     "metadata": {},
     "output_type": "display_data"
    }
   ],
   "source": [
    "\n",
    "plt.figure()\n",
    "\n",
    "plt.plot(fpr, tpr, color='green', lw=2, label='ROC curve (area = %0.2f)' % roc_auc)\n",
    "plt.xlabel('False Positive Rate')\n",
    "plt.ylabel('True Positive Rate')\n",
    "plt.title('ROC on Naive Bayes')\n",
    "plt.legend(loc=\"lower right\")\n",
    "plt.show()"
   ]
  },
  {
   "cell_type": "code",
   "execution_count": 495,
   "metadata": {
    "collapsed": true
   },
   "outputs": [],
   "source": [
    "#divide data up into folds so that the expriment can be done multiple times\n",
    "\n",
    "#make in general function to do the predictions\n",
    "\n",
    "#divide data into sets, \n",
    "\n",
    "#include diagrams of gettings numbers from the data"
   ]
  },
  {
   "cell_type": "code",
   "execution_count": 501,
   "metadata": {
    "collapsed": true
   },
   "outputs": [],
   "source": [
    "polSentFreq.rename(columns={0:'Positive Polarity Freq', 1:'Neutral Polarity Freq', 2:'Negative Polarity Freq', +\\\n",
    "                            3:'Subjective Freq', 4:'Neutral Freq', 5:'Objective Freq'}, inplace=True)\n",
    "legSentFreq.rename(columns={0:'Positive Polarity Freq', 1:'Neutral Polarity Freq', 2:'Negative Polarity Freq', +\\\n",
    "                            3:'Subjective Freq', 4:'Neutral Freq', 5:'Objective Freq'}, inplace=True)"
   ]
  },
  {
   "cell_type": "code",
   "execution_count": 503,
   "metadata": {
    "collapsed": true
   },
   "outputs": [],
   "source": [
    "polDF.rename(columns={0:'Mon.', 1:'Tues.', 2:'Wed.', 3:'Thur.', 4:'Fri.', 5:'Sat.', 6:'Sun.'}, inplace=True)\n",
    "legDF.rename(columns={0:'Mon.', 1:'Tues.', 2:'Wed.', 3:'Thur.', 4:'Fri.', 5:'Sat.', 6:'Sun.'}, inplace=True)"
   ]
  },
  {
   "cell_type": "code",
   "execution_count": 510,
   "metadata": {
    "collapsed": true
   },
   "outputs": [],
   "source": [
    "polSentFreq.to_csv('created_data/polSentFreq.csv', encoding='utf-8')\n",
    "legSentFreq.to_csv('created_data/legSentFreq.csv', encoding='utf-8')\n",
    "polDF.to_csv('created_data/polDOWeek.csv', encoding='utf-8')\n",
    "legDF.to_csv('created_data/legDOWeek.csv', encoding='utf-8')"
   ]
  },
  {
   "cell_type": "code",
   "execution_count": null,
   "metadata": {
    "collapsed": true
   },
   "outputs": [],
   "source": []
  },
  {
   "cell_type": "code",
   "execution_count": null,
   "metadata": {
    "collapsed": true
   },
   "outputs": [],
   "source": []
  }
 ],
 "metadata": {
  "kernelspec": {
   "display_name": "Python 3",
   "language": "python",
   "name": "python3"
  },
  "language_info": {
   "codemirror_mode": {
    "name": "ipython",
    "version": 3
   },
   "file_extension": ".py",
   "mimetype": "text/x-python",
   "name": "python",
   "nbconvert_exporter": "python",
   "pygments_lexer": "ipython3",
   "version": "3.6.1"
  }
 },
 "nbformat": 4,
 "nbformat_minor": 2
}
