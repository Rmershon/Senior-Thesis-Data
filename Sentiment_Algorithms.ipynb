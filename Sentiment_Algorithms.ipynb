{
 "cells": [
  {
   "cell_type": "code",
   "execution_count": 1,
   "metadata": {
    "collapsed": true
   },
   "outputs": [],
   "source": [
    "import pandas as pd\n",
    "import numpy as np\n",
    "import matplotlib.pyplot as plt\n",
    "import matplotlib.mlab as PCA\n",
    "#all the algorithms needed for later\n",
    "from sklearn.neighbors import KNeighborsClassifier as KNClass\n",
    "from sklearn.naive_bayes import GaussianNB\n",
    "from sklearn.tree import DecisionTreeClassifier\n",
    "from sklearn import svm\n",
    "from sklearn.neural_network import MLPClassifier #Neural Network\n",
    "\n",
    "#needed for the plots\n",
    "from sklearn.metrics import roc_curve, auc\n",
    "import sys\n",
    "%matplotlib inline\n",
    "\n",
    "dfPollutersSent = pd.read_csv('created_data/polSentFreq.csv', index_col=0)\n",
    "dfLegitSent = pd.read_csv('created_data/legSentFreq.csv', index_col=0)\n",
    "\n"
   ]
  },
  {
   "cell_type": "code",
   "execution_count": 2,
   "metadata": {
    "collapsed": true
   },
   "outputs": [],
   "source": [
    "def getROC(df1, df2):\n",
    "    #section one, prepare data for the learning algorithms\n",
    "    #divide into equal sections, take 10 total sets from each dataset\n",
    "    #give proper classifications for each\n",
    "    foldData = {0: [], 1: [], 2: [], 3: [], 4: [], 5: [], 6: [], 7: [], 8: [], 9: []}\n",
    "    \n",
    "    #add in a parameter for the number of folds to use\n",
    "    \n",
    "    segDF1 = int(len(df1)/10)\n",
    "    segDF2 = int(len(df2)/10)\n",
    "    #arrays with the starting points for each fold\n",
    "    df1Segs = [0*segDF1, 1*segDF1, 2*segDF1, 3*segDF1, 4*segDF1, 5*segDF1, 6*segDF1, 7*segDF1, 8*segDF1, 9*segDF1]\n",
    "    df2Segs = [0*segDF2, 1*segDF2, 2*segDF2, 3*segDF2, 4*segDF2, 5*segDF2, 6*segDF2, 7*segDF2, 8*segDF2, 9*segDF2]\n",
    "    \n",
    "    for i in range(len(df1Segs)):\n",
    "        #get the fold to fit on\n",
    "        try:\n",
    "            fitDF1 = df1[df1Segs[i]:df1Segs[i+1]]\n",
    "            fitDF2 = df2[df2Segs[i]:df2Segs[i+1]]\n",
    "            \n",
    "            predDF1 = pd.concat([df1[:df1Segs[i]], df1[df1Segs[i+1]:]])\n",
    "            predDF2 = pd.concat([df2[:df2Segs[i]], df2[df2Segs[i+1]:]])\n",
    "        except IndexError: #Only for the last fold\n",
    "            fitDF1 = df1[df1Segs[i]:]\n",
    "            fitDF2 = df2[df2Segs[i]:]\n",
    "            \n",
    "            predDF1 = df1[:df1Segs[i]]\n",
    "            predDF2 = df2[:df2Segs[i]]\n",
    "            \n",
    "        #use the DF to get the data\n",
    "        fitData, fitCls = machLearnData(fitDF1, fitDF2)\n",
    "        preData, preCls = machLearnData(predDF1, predDF2)\n",
    "    \n",
    "        #second one apply all algorithms to it\n",
    "        #define the algorithms\n",
    "        neigh = KNClass(n_neighbors=21)\n",
    "        gnb = GaussianNB()\n",
    "        dtc = DecisionTreeClassifier(random_state=0)\n",
    "        vec = svm.SVC(probability=True)\n",
    "        neur = MLPClassifier(solver='lbfgs', alpha=1e-5, hidden_layer_sizes=(5, 2), random_state=1)\n",
    "\n",
    "        Algs = [neigh, gnb, dtc, vec, neur]#can add more later, also the order they are added to the dictionary\n",
    "        \n",
    "        for alg in Algs:\n",
    "            alg.fit(fitData, fitCls)\n",
    "            finCls = alg.predict_proba(preData)\n",
    "            \n",
    "            fpr, tpr, thresholds, roc_auc = probaTable(finCls)\n",
    "            algList = [fpr, tpr, thresholds, roc_auc]\n",
    "            \n",
    "            foldData[i].append(algList)\n",
    "        \n",
    "    \n",
    "    return foldData\n",
    "    \n",
    "    #get out the ROC curvs and AUC scores for each\n",
    "    \n",
    "    \n",
    "#this will give the proper classifications\n",
    "#dframe1 should be the positive df\n",
    "def machLearnData(dframe1, dframe2, rng=0):\n",
    "    data = []\n",
    "    #0 = polluters\n",
    "    #1 = legit\n",
    "    classify = []\n",
    "    for index, row in dframe1.iterrows():\n",
    "        usrList = [row[0], row[1], row[2], row[3], row[4], row[5]]\n",
    "            \n",
    "        data.append(usrList)\n",
    "        classify.append(0)\n",
    "        \n",
    "    for index, row in dframe2.iterrows():\n",
    "        usrList = [row[0], row[1], row[2], row[3], row[4], row[5]]\n",
    "            \n",
    "        data.append(usrList)\n",
    "        classify.append(1)\n",
    "        \n",
    "    return data, classify\n",
    "\n",
    "def probaTable(fCls, posL=0, posCut=0.5):\n",
    "    clsArray = []\n",
    "    actualCls = []\n",
    "    \n",
    "    pos = []\n",
    "    \n",
    "    count = 0\n",
    "    for line in fCls:\n",
    "        if line[0] >= posCut:\n",
    "            clsArray.append(0)\n",
    "        else:\n",
    "            clsArray.append(1)\n",
    "        pos.append(line[0])\n",
    "            \n",
    "        if count < len(fCls)/2:\n",
    "            actualCls.append(0)\n",
    "            count += 1\n",
    "        else:\n",
    "            actualCls.append(1)\n",
    "            \n",
    "    #print(len(actualCls), len(fCls))\n",
    "            \n",
    "    #classTuple = zip(actualCls, fCls)\n",
    "\n",
    "    fpr, tpr, thresholds = roc_curve(actualCls, pos, pos_label=posL)\n",
    "    \n",
    "    roc_auc = auc(fpr, tpr)\n",
    "    \n",
    "    #return {'polluter': [truePos, falseNeg], 'legit': [falsePos, trueNeg]}, acc, precision, recall, f1, fpr\n",
    "    \n",
    "    return fpr, tpr, thresholds, roc_auc\n"
   ]
  },
  {
   "cell_type": "code",
   "execution_count": 3,
   "metadata": {},
   "outputs": [
    {
     "data": {
      "text/plain": [
       "19251"
      ]
     },
     "execution_count": 3,
     "metadata": {},
     "output_type": "execute_result"
    }
   ],
   "source": [
    "len(dfLegitSent)\n"
   ]
  },
  {
   "cell_type": "code",
   "execution_count": 4,
   "metadata": {
    "collapsed": true
   },
   "outputs": [],
   "source": [
    "df = pd.concat([dfLegitSent[1000:1001], dfLegitSent[1001:1002]])\n"
   ]
  },
  {
   "cell_type": "code",
   "execution_count": 5,
   "metadata": {},
   "outputs": [
    {
     "name": "stdout",
     "output_type": "stream",
     "text": [
      "<class 'pandas.core.series.Series'>\n",
      "<class 'pandas.core.series.Series'>\n"
     ]
    }
   ],
   "source": [
    "df\n",
    "\n",
    "for row, index in df.iterrows():\n",
    "    print(type(index))\n"
   ]
  },
  {
   "cell_type": "code",
   "execution_count": 6,
   "metadata": {
    "collapsed": true
   },
   "outputs": [],
   "source": [
    "a = getROC(dfPollutersSent, dfLegitSent)\n"
   ]
  },
  {
   "cell_type": "code",
   "execution_count": 7,
   "metadata": {},
   "outputs": [
    {
     "data": {
      "text/html": [
       "<div>\n",
       "<style>\n",
       "    .dataframe thead tr:only-child th {\n",
       "        text-align: right;\n",
       "    }\n",
       "\n",
       "    .dataframe thead th {\n",
       "        text-align: left;\n",
       "    }\n",
       "\n",
       "    .dataframe tbody tr th {\n",
       "        vertical-align: top;\n",
       "    }\n",
       "</style>\n",
       "<table border=\"1\" class=\"dataframe\">\n",
       "  <thead>\n",
       "    <tr style=\"text-align: right;\">\n",
       "      <th></th>\n",
       "      <th>KNeighborsClassifier</th>\n",
       "      <th>GaussianNB</th>\n",
       "      <th>DecisionTreeClassifier</th>\n",
       "      <th>SVM</th>\n",
       "      <th>MLP</th>\n",
       "    </tr>\n",
       "  </thead>\n",
       "  <tbody>\n",
       "    <tr>\n",
       "      <th>0</th>\n",
       "      <td>[[0.0, 0.00724112961622, 0.0140366512561, 0.03...</td>\n",
       "      <td>[[0.0, 5.57009970478e-05, 5.57009970478e-05, 0...</td>\n",
       "      <td>[[0.0, 0.366512560575, 0.367960786498, 0.44304...</td>\n",
       "      <td>[[0.0, 5.57009970478e-05, 0.000222803988191, 0...</td>\n",
       "      <td>[[0.0, 0.000111401994096, 0.000111401994096, 0...</td>\n",
       "    </tr>\n",
       "    <tr>\n",
       "      <th>1</th>\n",
       "      <td>[[0.0, 0.00111401994096, 0.00685122263689, 0.0...</td>\n",
       "      <td>[[0.0, 0.000891215952766, 0.000946916949813, 0...</td>\n",
       "      <td>[[0.0, 0.351974600345, 0.355762268145, 0.35787...</td>\n",
       "      <td>[[0.0, 5.57009970478e-05, 5.57009970478e-05, 0...</td>\n",
       "      <td>[[0.0, 0.000891215952766, 0.00100261794686, 0....</td>\n",
       "    </tr>\n",
       "    <tr>\n",
       "      <th>2</th>\n",
       "      <td>[[0.0, 0.00172673090848, 0.00841085055422, 0.0...</td>\n",
       "      <td>[[0.0, 0.00206093689077, 0.00206093689077, 0.0...</td>\n",
       "      <td>[[0.0, 0.354926753189, 0.358435916003, 0.36021...</td>\n",
       "      <td>[[0.0, 5.57009970478e-05, 5.57009970478e-05, 0...</td>\n",
       "      <td>[[0.0, 0.0, 5.57009970478e-05, 5.57009970478e-...</td>\n",
       "    </tr>\n",
       "    <tr>\n",
       "      <th>3</th>\n",
       "      <td>[[0.0, 0.00857795354537, 0.0247312426892, 0.04...</td>\n",
       "      <td>[[0.0, 0.000891215952766, 0.00100261794686, 0....</td>\n",
       "      <td>[[0.0, 0.351083384393, 0.353255723277, 0.35531...</td>\n",
       "      <td>[[0.0, 0.00345346181697, 0.00373196680221, 0.0...</td>\n",
       "      <td>[[0.0, 0.000445607976383, 0.000445607976383, 0...</td>\n",
       "    </tr>\n",
       "    <tr>\n",
       "      <th>4</th>\n",
       "      <td>[[0.0, 0.00679552163984, 0.0142594552442, 0.02...</td>\n",
       "      <td>[[0.0, 0.000891215952766, 0.000946916949813, 0...</td>\n",
       "      <td>[[0.0, 0.314487829332, 0.317941291149, 0.31844...</td>\n",
       "      <td>[[0.0, 0.00328635882582, 0.00356486381106, 0.0...</td>\n",
       "      <td>[[0.0, 0.0012811229321, 0.0012811229321, 0.001...</td>\n",
       "    </tr>\n",
       "    <tr>\n",
       "      <th>5</th>\n",
       "      <td>[[0.0, 0.0103603854509, 0.018604133014, 0.0260...</td>\n",
       "      <td>[[0.0, 0.00295215284354, 0.00300785384058, 0.0...</td>\n",
       "      <td>[[0.0, 0.286358825823, 0.290146493622, 0.29243...</td>\n",
       "      <td>[[0.0, 0.00339776081992, 0.00373196680221, 0.0...</td>\n",
       "      <td>[[0.0, 0.0012811229321, 0.0012811229321, 0.001...</td>\n",
       "    </tr>\n",
       "    <tr>\n",
       "      <th>6</th>\n",
       "      <td>[[0.0, 0.00958057149223, 0.0189383389963, 0.02...</td>\n",
       "      <td>[[0.0, 0.00278504985239, 0.00278504985239, 0.0...</td>\n",
       "      <td>[[0.0, 0.288531164708, 0.289756586643, 0.29092...</td>\n",
       "      <td>[[0.0, 0.00345346181697, 0.00373196680221, 0.0...</td>\n",
       "      <td>[[0.0, 0.000334205982287, 0.000445607976383, 0...</td>\n",
       "    </tr>\n",
       "    <tr>\n",
       "      <th>7</th>\n",
       "      <td>[[0.0, 0.00356486381106, 0.0133125382944, 0.02...</td>\n",
       "      <td>[[0.0, 0.00306355483763, 0.00323065782878, 0.0...</td>\n",
       "      <td>[[0.0, 0.34395365677, 0.347295716593, 0.348576...</td>\n",
       "      <td>[[0.0, 0.0, 0.0, 5.57009970478e-05, 5.57009970...</td>\n",
       "      <td>[[0.0, 0.0, 0.000334205982287, 0.0003899069793...</td>\n",
       "    </tr>\n",
       "    <tr>\n",
       "      <th>8</th>\n",
       "      <td>[[0.0, 0.00662841864869, 0.00991477747452, 0.0...</td>\n",
       "      <td>[[0.0, 0.00178243190553, 0.00189383389963, 0.0...</td>\n",
       "      <td>[[0.0, 0.358324514009, 0.361722274829, 0.36300...</td>\n",
       "      <td>[[0.0, 5.57009970478e-05, 0.000111401994096, 0...</td>\n",
       "      <td>[[0.0, 0.0012811229321, 0.0012811229321, 0.001...</td>\n",
       "    </tr>\n",
       "    <tr>\n",
       "      <th>9</th>\n",
       "      <td>[[0.0, 0.00111420612813, 0.00261838440111, 0.0...</td>\n",
       "      <td>[[0.0, 0.000222841225627, 0.000278551532033, 0...</td>\n",
       "      <td>[[0.0, 0.342284122563, 0.342339832869, 0.34239...</td>\n",
       "      <td>[[0.0, 0.0, 5.57103064067e-05, 0.0001671309192...</td>\n",
       "      <td>[[0.0, 0.00100278551532, 0.00128133704735, 0.0...</td>\n",
       "    </tr>\n",
       "  </tbody>\n",
       "</table>\n",
       "</div>"
      ],
      "text/plain": [
       "                                KNeighborsClassifier  \\\n",
       "0  [[0.0, 0.00724112961622, 0.0140366512561, 0.03...   \n",
       "1  [[0.0, 0.00111401994096, 0.00685122263689, 0.0...   \n",
       "2  [[0.0, 0.00172673090848, 0.00841085055422, 0.0...   \n",
       "3  [[0.0, 0.00857795354537, 0.0247312426892, 0.04...   \n",
       "4  [[0.0, 0.00679552163984, 0.0142594552442, 0.02...   \n",
       "5  [[0.0, 0.0103603854509, 0.018604133014, 0.0260...   \n",
       "6  [[0.0, 0.00958057149223, 0.0189383389963, 0.02...   \n",
       "7  [[0.0, 0.00356486381106, 0.0133125382944, 0.02...   \n",
       "8  [[0.0, 0.00662841864869, 0.00991477747452, 0.0...   \n",
       "9  [[0.0, 0.00111420612813, 0.00261838440111, 0.0...   \n",
       "\n",
       "                                          GaussianNB  \\\n",
       "0  [[0.0, 5.57009970478e-05, 5.57009970478e-05, 0...   \n",
       "1  [[0.0, 0.000891215952766, 0.000946916949813, 0...   \n",
       "2  [[0.0, 0.00206093689077, 0.00206093689077, 0.0...   \n",
       "3  [[0.0, 0.000891215952766, 0.00100261794686, 0....   \n",
       "4  [[0.0, 0.000891215952766, 0.000946916949813, 0...   \n",
       "5  [[0.0, 0.00295215284354, 0.00300785384058, 0.0...   \n",
       "6  [[0.0, 0.00278504985239, 0.00278504985239, 0.0...   \n",
       "7  [[0.0, 0.00306355483763, 0.00323065782878, 0.0...   \n",
       "8  [[0.0, 0.00178243190553, 0.00189383389963, 0.0...   \n",
       "9  [[0.0, 0.000222841225627, 0.000278551532033, 0...   \n",
       "\n",
       "                              DecisionTreeClassifier  \\\n",
       "0  [[0.0, 0.366512560575, 0.367960786498, 0.44304...   \n",
       "1  [[0.0, 0.351974600345, 0.355762268145, 0.35787...   \n",
       "2  [[0.0, 0.354926753189, 0.358435916003, 0.36021...   \n",
       "3  [[0.0, 0.351083384393, 0.353255723277, 0.35531...   \n",
       "4  [[0.0, 0.314487829332, 0.317941291149, 0.31844...   \n",
       "5  [[0.0, 0.286358825823, 0.290146493622, 0.29243...   \n",
       "6  [[0.0, 0.288531164708, 0.289756586643, 0.29092...   \n",
       "7  [[0.0, 0.34395365677, 0.347295716593, 0.348576...   \n",
       "8  [[0.0, 0.358324514009, 0.361722274829, 0.36300...   \n",
       "9  [[0.0, 0.342284122563, 0.342339832869, 0.34239...   \n",
       "\n",
       "                                                 SVM  \\\n",
       "0  [[0.0, 5.57009970478e-05, 0.000222803988191, 0...   \n",
       "1  [[0.0, 5.57009970478e-05, 5.57009970478e-05, 0...   \n",
       "2  [[0.0, 5.57009970478e-05, 5.57009970478e-05, 0...   \n",
       "3  [[0.0, 0.00345346181697, 0.00373196680221, 0.0...   \n",
       "4  [[0.0, 0.00328635882582, 0.00356486381106, 0.0...   \n",
       "5  [[0.0, 0.00339776081992, 0.00373196680221, 0.0...   \n",
       "6  [[0.0, 0.00345346181697, 0.00373196680221, 0.0...   \n",
       "7  [[0.0, 0.0, 0.0, 5.57009970478e-05, 5.57009970...   \n",
       "8  [[0.0, 5.57009970478e-05, 0.000111401994096, 0...   \n",
       "9  [[0.0, 0.0, 5.57103064067e-05, 0.0001671309192...   \n",
       "\n",
       "                                                 MLP  \n",
       "0  [[0.0, 0.000111401994096, 0.000111401994096, 0...  \n",
       "1  [[0.0, 0.000891215952766, 0.00100261794686, 0....  \n",
       "2  [[0.0, 0.0, 5.57009970478e-05, 5.57009970478e-...  \n",
       "3  [[0.0, 0.000445607976383, 0.000445607976383, 0...  \n",
       "4  [[0.0, 0.0012811229321, 0.0012811229321, 0.001...  \n",
       "5  [[0.0, 0.0012811229321, 0.0012811229321, 0.001...  \n",
       "6  [[0.0, 0.000334205982287, 0.000445607976383, 0...  \n",
       "7  [[0.0, 0.0, 0.000334205982287, 0.0003899069793...  \n",
       "8  [[0.0, 0.0012811229321, 0.0012811229321, 0.001...  \n",
       "9  [[0.0, 0.00100278551532, 0.00128133704735, 0.0...  "
      ]
     },
     "execution_count": 7,
     "metadata": {},
     "output_type": "execute_result"
    }
   ],
   "source": [
    "rocDF = pd.DataFrame.from_dict(a, 'index')\n",
    "rocDF.rename(columns={0:'KNeighborsClassifier', 1: 'GaussianNB', 2: 'DecisionTreeClassifier', 3:'SVM', 4:'MLP'})\n",
    "\n"
   ]
  },
  {
   "cell_type": "code",
   "execution_count": 8,
   "metadata": {},
   "outputs": [
    {
     "data": {
      "text/plain": [
       "0.7254686188419367"
      ]
     },
     "execution_count": 8,
     "metadata": {},
     "output_type": "execute_result"
    }
   ],
   "source": [
    "rocDF[0][0][-1]\n",
    "\n",
    "#gives the auc score for the given fold and algorithm\n",
    "\n"
   ]
  },
  {
   "cell_type": "code",
   "execution_count": 9,
   "metadata": {
    "collapsed": true
   },
   "outputs": [],
   "source": [
    "def getAUCScore(df):\n",
    "    aucScores = {}\n",
    "    for index, row in df.iterrows():\n",
    "        tempList = []\n",
    "        for i in range(len(row)):\n",
    "            tempList += [row[i][-1]]\n",
    "        aucScores[index] = tempList\n",
    "                \n",
    "    return aucScores\n",
    "\n",
    "aucScores = getAUCScore(rocDF)\n"
   ]
  },
  {
   "cell_type": "code",
   "execution_count": 10,
   "metadata": {
    "collapsed": true
   },
   "outputs": [],
   "source": [
    "#plot the fpr and tpr \n",
    "\n",
    "def plotROC(df):\n",
    "    \n",
    "    for index, row in df.iterrows():\n",
    "        fpr = row[1][0]\n",
    "        tpr = row[1][1]\n",
    "        \n",
    "        plt.plot(fpr, tpr,  label=\"Fold %0f\" % int(index))\n",
    "        \n",
    "    plt.xlabel('False Positive Rate')\n",
    "    plt.ylabel('True Positive Rate')\n",
    "    plt.title('ROC of MLP')\n",
    "    plt.legend(loc=\"lower right\")\n",
    "    plt.show()\n",
    "        "
   ]
  },
  {
   "cell_type": "code",
   "execution_count": 11,
   "metadata": {},
   "outputs": [
    {
     "data": {
      "image/png": "[encoded data removed]",
      "text/plain": [
       "<matplotlib.figure.Figure at 0x11a7a1e48>"
      ]
     },
     "metadata": {},
     "output_type": "display_data"
    }
   ],
   "source": [
    "plotROC(rocDF)\n"
   ]
  },
  {
   "cell_type": "code",
   "execution_count": 13,
   "metadata": {
    "collapsed": true
   },
   "outputs": [],
   "source": [
    "#step one, do T test\n",
    "from scipy import stats\n",
    "\n",
    "aucDF = pd.DataFrame.from_dict(auc, 'index')\n",
    "aucDF = aucDF.rename(columns={0:'KNN', 1: 'NB', 2: 'DT', 3:'SVM', 4:'MLP'})\n",
    "\n",
    "knnList = list(aucDF['KNN'])\n",
    "gnbList = list(aucDF['NB'])\n",
    "dtList = list(aucDF['DT'])\n",
    "svmList = list(aucDF['SVM'])\n",
    "mplList = list(aucDF['MLP'])\n"
   ]
  },
  {
   "cell_type": "code",
   "execution_count": 14,
   "metadata": {},
   "outputs": [
    {
     "data": {
      "text/plain": [
       "Ttest_relResult(statistic=-3.7804263499680326, pvalue=0.004346163092984752)"
      ]
     },
     "execution_count": 14,
     "metadata": {},
     "output_type": "execute_result"
    }
   ],
   "source": [
    "stats.ttest_rel(knnList, mplList) #shows us the bigger picture from the number\n"
   ]
  },
  {
   "cell_type": "code",
   "execution_count": 15,
   "metadata": {
    "collapsed": true
   },
   "outputs": [],
   "source": [
    "#box plots of the different points\n",
    "\n",
    "aucDes = aucDF.describe()\n"
   ]
  },
  {
   "cell_type": "code",
   "execution_count": 16,
   "metadata": {},
   "outputs": [
    {
     "data": {
      "text/plain": [
       "<matplotlib.axes._subplots.AxesSubplot at 0x121780f60>"
      ]
     },
     "execution_count": 16,
     "metadata": {},
     "output_type": "execute_result"
    },
    {
     "data": {
      "image/png": "[encoded data removed]",
      "text/plain": [
       "<matplotlib.figure.Figure at 0x11d414a90>"
      ]
     },
     "metadata": {},
     "output_type": "display_data"
    }
   ],
   "source": [
    "aucMean = pd.Series.to_frame(aucDes.loc[aucDes.index[1]])\n",
    "aucSTD = pd.Series.to_frame(aucDes.loc[aucDes.index[2]])\n",
    "\n",
    "aucDF.plot(kind='box', title='AUC Mean', )\n"
   ]
  },
  {
   "cell_type": "markdown",
   "metadata": {},
   "source": [
    "# This needs to be saved into its own file eventually....\n",
    "\n",
    "## Should be done so that I can easily compare the averages from each separate feature section"
   ]
  },
  {
   "cell_type": "code",
   "execution_count": 54,
   "metadata": {},
   "outputs": [
    {
     "data": {
      "text/html": [
       "<div>\n",
       "<style>\n",
       "    .dataframe thead tr:only-child th {\n",
       "        text-align: right;\n",
       "    }\n",
       "\n",
       "    .dataframe thead th {\n",
       "        text-align: left;\n",
       "    }\n",
       "\n",
       "    .dataframe tbody tr th {\n",
       "        vertical-align: top;\n",
       "    }\n",
       "</style>\n",
       "<table border=\"1\" class=\"dataframe\">\n",
       "  <thead>\n",
       "    <tr style=\"text-align: right;\">\n",
       "      <th></th>\n",
       "      <th>KNN</th>\n",
       "      <th>NB</th>\n",
       "      <th>DT</th>\n",
       "      <th>SVM</th>\n",
       "      <th>MLP</th>\n",
       "    </tr>\n",
       "  </thead>\n",
       "  <tbody>\n",
       "    <tr>\n",
       "      <th>0</th>\n",
       "      <td>0.725469</td>\n",
       "      <td>0.611819</td>\n",
       "      <td>0.669966</td>\n",
       "      <td>0.667126</td>\n",
       "      <td>0.756135</td>\n",
       "    </tr>\n",
       "    <tr>\n",
       "      <th>1</th>\n",
       "      <td>0.743610</td>\n",
       "      <td>0.726558</td>\n",
       "      <td>0.658722</td>\n",
       "      <td>0.717960</td>\n",
       "      <td>0.760048</td>\n",
       "    </tr>\n",
       "    <tr>\n",
       "      <th>2</th>\n",
       "      <td>0.737955</td>\n",
       "      <td>0.599647</td>\n",
       "      <td>0.643378</td>\n",
       "      <td>0.654986</td>\n",
       "      <td>0.764234</td>\n",
       "    </tr>\n",
       "    <tr>\n",
       "      <th>3</th>\n",
       "      <td>0.735436</td>\n",
       "      <td>0.626987</td>\n",
       "      <td>0.658395</td>\n",
       "      <td>0.706559</td>\n",
       "      <td>0.763177</td>\n",
       "    </tr>\n",
       "    <tr>\n",
       "      <th>4</th>\n",
       "      <td>0.747090</td>\n",
       "      <td>0.723979</td>\n",
       "      <td>0.663486</td>\n",
       "      <td>0.716417</td>\n",
       "      <td>0.751994</td>\n",
       "    </tr>\n",
       "    <tr>\n",
       "      <th>5</th>\n",
       "      <td>0.747310</td>\n",
       "      <td>0.627859</td>\n",
       "      <td>0.661662</td>\n",
       "      <td>0.707928</td>\n",
       "      <td>0.739363</td>\n",
       "    </tr>\n",
       "    <tr>\n",
       "      <th>6</th>\n",
       "      <td>0.731043</td>\n",
       "      <td>0.632226</td>\n",
       "      <td>0.668645</td>\n",
       "      <td>0.701446</td>\n",
       "      <td>0.761068</td>\n",
       "    </tr>\n",
       "    <tr>\n",
       "      <th>7</th>\n",
       "      <td>0.748634</td>\n",
       "      <td>0.614475</td>\n",
       "      <td>0.653385</td>\n",
       "      <td>0.696207</td>\n",
       "      <td>0.760180</td>\n",
       "    </tr>\n",
       "    <tr>\n",
       "      <th>8</th>\n",
       "      <td>0.679553</td>\n",
       "      <td>0.611083</td>\n",
       "      <td>0.634627</td>\n",
       "      <td>0.676778</td>\n",
       "      <td>0.745126</td>\n",
       "    </tr>\n",
       "    <tr>\n",
       "      <th>9</th>\n",
       "      <td>0.714349</td>\n",
       "      <td>0.628332</td>\n",
       "      <td>0.612200</td>\n",
       "      <td>0.674897</td>\n",
       "      <td>0.765657</td>\n",
       "    </tr>\n",
       "  </tbody>\n",
       "</table>\n",
       "</div>"
      ],
      "text/plain": [
       "        KNN        NB        DT       SVM       MLP\n",
       "0  0.725469  0.611819  0.669966  0.667126  0.756135\n",
       "1  0.743610  0.726558  0.658722  0.717960  0.760048\n",
       "2  0.737955  0.599647  0.643378  0.654986  0.764234\n",
       "3  0.735436  0.626987  0.658395  0.706559  0.763177\n",
       "4  0.747090  0.723979  0.663486  0.716417  0.751994\n",
       "5  0.747310  0.627859  0.661662  0.707928  0.739363\n",
       "6  0.731043  0.632226  0.668645  0.701446  0.761068\n",
       "7  0.748634  0.614475  0.653385  0.696207  0.760180\n",
       "8  0.679553  0.611083  0.634627  0.676778  0.745126\n",
       "9  0.714349  0.628332  0.612200  0.674897  0.765657"
      ]
     },
     "execution_count": 54,
     "metadata": {},
     "output_type": "execute_result"
    }
   ],
   "source": [
    "aucDF\n"
   ]
  },
  {
   "cell_type": "markdown",
   "metadata": {},
   "source": [
    "## This is saving the above table for later comparison"
   ]
  },
  {
   "cell_type": "code",
   "execution_count": 55,
   "metadata": {
    "collapsed": true
   },
   "outputs": [],
   "source": [
    "aucDF.to_csv('created_data/AUC_Scores/sentiment_auc.csv', encoding='utf-8')"
   ]
  },
  {
   "cell_type": "code",
   "execution_count": 50,
   "metadata": {
    "collapsed": true
   },
   "outputs": [],
   "source": [
    "#Redoing these functions to take in the fold number and then automate the list generation\n",
    "#default fold number is 10\n",
    "\n",
    "#take the average of the above list, then look for the best feature set\n",
    "def getROC(df1, df2, fold=10):\n",
    "    #section one, prepare data for the learning algorithms\n",
    "    #divide into equal sections, take 10 total sets from each dataset\n",
    "    #give proper classifications for each\n",
    "    foldData = {}\n",
    "    df1Segs = []\n",
    "    df2Segs = []\n",
    "    #add in a parameter for the number of folds to use\n",
    "    segDF1 = int(len(df1)/fold)\n",
    "    segDF2 = int(len(df2)/fold)\n",
    "    \n",
    "    for i in range(fold):\n",
    "        foldData[i] = []\n",
    "        df1Segs.append(i*segDF1)\n",
    "        df2Segs.append(i*segDF2)\n",
    "\n",
    "    for i in range(len(df1Segs)):\n",
    "        #get the fold to fit on\n",
    "        try:\n",
    "            fitDF1 = df1[df1Segs[i]:df1Segs[i+1]]\n",
    "            fitDF2 = df2[df2Segs[i]:df2Segs[i+1]]\n",
    "            \n",
    "            predDF1 = pd.concat([df1[:df1Segs[i]], df1[df1Segs[i+1]:]])\n",
    "            predDF2 = pd.concat([df2[:df2Segs[i]], df2[df2Segs[i+1]:]])\n",
    "        except IndexError: #Only for the last fold\n",
    "            fitDF1 = df1[df1Segs[i]:]\n",
    "            fitDF2 = df2[df2Segs[i]:]\n",
    "            \n",
    "            predDF1 = df1[:df1Segs[i]]\n",
    "            predDF2 = df2[:df2Segs[i]]\n",
    "            \n",
    "        #use the DF to get the data\n",
    "        fitData, fitCls = machLearnData(fitDF1, fitDF2)\n",
    "        preData, preCls = machLearnData(predDF1, predDF2)\n",
    "    \n",
    "        #second one apply all algorithms to it\n",
    "        #define the algorithms\n",
    "        neigh = KNClass(n_neighbors=21)\n",
    "        gnb = GaussianNB()\n",
    "        dtc = DecisionTreeClassifier(random_state=0)\n",
    "        vec = svm.SVC(probability=True)\n",
    "        neur = MLPClassifier(solver='lbfgs', alpha=1e-5, hidden_layer_sizes=(5, 2), random_state=1)\n",
    "\n",
    "        Algs = [neigh, gnb, dtc, vec, neur]#can add more later, also the order they are added to the dictionary\n",
    "        \n",
    "        for alg in Algs:\n",
    "            alg.fit(fitData, fitCls)\n",
    "            finCls = alg.predict_proba(preData)\n",
    "            \n",
    "            fpr, tpr, thresholds, roc_auc = probaTable(finCls)\n",
    "            algList = [fpr, tpr, thresholds, roc_auc]\n",
    "            \n",
    "            foldData[i].append(algList)\n",
    "        \n",
    "    \n",
    "    return foldData\n",
    "    \n",
    "    #get out the ROC curvs and AUC scores for each\n",
    "    \n",
    "    \n",
    "#this will give the proper classifications\n",
    "#dframe1 should be the positive df\n",
    "def machLearnData(dframe1, dframe2, rng=0):\n",
    "    data = []\n",
    "    #0 = polluters\n",
    "    #1 = legit\n",
    "    classify = []\n",
    "    for index, row in dframe1.iterrows():\n",
    "        userList = []\n",
    "        for i in range(len(row)):\n",
    "            userList.append(row[i])\n",
    "            \n",
    "        data.append(userList)\n",
    "        classify.append(0)\n",
    "        \n",
    "    for index, row in dframe2.iterrows():\n",
    "        userList = []\n",
    "        for i in range(len(row)):\n",
    "            userList.append(row[i])\n",
    "\n",
    "        data.append(userList)\n",
    "        classify.append(1)\n",
    "        \n",
    "    return data, classify\n",
    "\n",
    "def probaTable(fCls, posL=0, posCut=0.5):\n",
    "    clsArray = []\n",
    "    actualCls = []\n",
    "    \n",
    "    pos = []\n",
    "    \n",
    "    count = 0\n",
    "    for line in fCls:\n",
    "        if line[0] >= posCut:\n",
    "            clsArray.append(0)\n",
    "        else:\n",
    "            clsArray.append(1)\n",
    "        pos.append(line[0])\n",
    "            \n",
    "        if count < len(fCls)/2:\n",
    "            actualCls.append(0)\n",
    "            count += 1\n",
    "        else:\n",
    "            actualCls.append(1)\n",
    "            \n",
    "    #print(len(actualCls), len(fCls))\n",
    "            \n",
    "    #classTuple = zip(actualCls, fCls)\n",
    "\n",
    "    fpr, tpr, thresholds = roc_curve(actualCls, pos, pos_label=posL)\n",
    "    \n",
    "    roc_auc = auc(fpr, tpr)\n",
    "    \n",
    "    #return {'polluter': [truePos, falseNeg], 'legit': [falsePos, trueNeg]}, acc, precision, recall, f1, fpr\n",
    "    \n",
    "    return fpr, tpr, thresholds, roc_auc\n",
    "\n"
   ]
  },
  {
   "cell_type": "code",
   "execution_count": 70,
   "metadata": {
    "collapsed": true
   },
   "outputs": [],
   "source": [
    "a = getROC(dfPollutersSent, dfLegitSent, 10)\n",
    "\n",
    "rocDF = pd.DataFrame.from_dict(a, 'index')\n",
    "rocDF = rocDF.rename(columns={0:'KNeighborsClassifier', 1: 'GaussianNB', 2: 'DecisionTreeClassifier', 3:'SVM', 4:'MLP'})"
   ]
  },
  {
   "cell_type": "code",
   "execution_count": 49,
   "metadata": {
    "collapsed": true
   },
   "outputs": [],
   "source": [
    "aucScores = getAUCScore(rocDF)"
   ]
  },
  {
   "cell_type": "code",
   "execution_count": 62,
   "metadata": {
    "collapsed": true
   },
   "outputs": [],
   "source": [
    "#need to make this plot all graphs of all folds\n",
    "def plotROC(df):\n",
    "    \n",
    "    for index, row in df.iterrows():\n",
    "        for i in range(len(row)):\n",
    "            fpr = row[i][0]\n",
    "            tpr = row[i][1]\n",
    "        \n",
    "            plt.plot(fpr, tpr,  label=\"Fold %0.2f\" % int(index))\n",
    "        \n",
    "    plt.xlabel('False Positive Rate')\n",
    "    plt.ylabel('True Positive Rate')\n",
    "    plt.title('ROC of MLP')\n",
    "    plt.legend(loc=\"lower right\")\n",
    "    plt.show()"
   ]
  },
  {
   "cell_type": "code",
   "execution_count": 77,
   "metadata": {},
   "outputs": [
    {
     "data": {
      "text/plain": [
       "0    [[0.0, 5.57009970478e-05, 5.57009970478e-05, 0...\n",
       "1    [[0.0, 0.000891215952766, 0.000946916949813, 0...\n",
       "2    [[0.0, 0.00206093689077, 0.00206093689077, 0.0...\n",
       "3    [[0.0, 0.000891215952766, 0.00100261794686, 0....\n",
       "4    [[0.0, 0.000891215952766, 0.000946916949813, 0...\n",
       "5    [[0.0, 0.00295215284354, 0.00300785384058, 0.0...\n",
       "6    [[0.0, 0.00278504985239, 0.00278504985239, 0.0...\n",
       "7    [[0.0, 0.00306355483763, 0.00323065782878, 0.0...\n",
       "8    [[0.0, 0.00178243190553, 0.00189383389963, 0.0...\n",
       "9    [[0.0, 0.000222841225627, 0.000278551532033, 0...\n",
       "Name: GaussianNB, dtype: object"
      ]
     },
     "execution_count": 77,
     "metadata": {},
     "output_type": "execute_result"
    }
   ],
   "source": [
    "rocDF['GaussianNB']"
   ]
  },
  {
   "cell_type": "code",
   "execution_count": 78,
   "metadata": {},
   "outputs": [
    {
     "ename": "TypeError",
     "evalue": "'>=' not supported between instances of 'str' and 'float'",
     "output_type": "error",
     "traceback": [
      "\u001b[0;31m---------------------------------------------------------------------------\u001b[0m",
      "\u001b[0;31mTypeError\u001b[0m                                 Traceback (most recent call last)",
      "\u001b[0;32m<ipython-input-78-66973c98e6cd>\u001b[0m in \u001b[0;36m<module>\u001b[0;34m()\u001b[0m\n\u001b[0;32m----> 1\u001b[0;31m \u001b[0mprobaTable\u001b[0m\u001b[0;34m(\u001b[0m\u001b[0mdfPollutersSent\u001b[0m\u001b[0;34m)\u001b[0m\u001b[0;34m\u001b[0m\u001b[0m\n\u001b[0m",
      "\u001b[0;32m<ipython-input-50-d4ef610d7fa0>\u001b[0m in \u001b[0;36mprobaTable\u001b[0;34m(fCls, posL, posCut)\u001b[0m\n\u001b[1;32m     98\u001b[0m     \u001b[0mcount\u001b[0m \u001b[0;34m=\u001b[0m \u001b[0;36m0\u001b[0m\u001b[0;34m\u001b[0m\u001b[0m\n\u001b[1;32m     99\u001b[0m     \u001b[0;32mfor\u001b[0m \u001b[0mline\u001b[0m \u001b[0;32min\u001b[0m \u001b[0mfCls\u001b[0m\u001b[0;34m:\u001b[0m\u001b[0;34m\u001b[0m\u001b[0m\n\u001b[0;32m--> 100\u001b[0;31m         \u001b[0;32mif\u001b[0m \u001b[0mline\u001b[0m\u001b[0;34m[\u001b[0m\u001b[0;36m0\u001b[0m\u001b[0;34m]\u001b[0m \u001b[0;34m>=\u001b[0m \u001b[0mposCut\u001b[0m\u001b[0;34m:\u001b[0m\u001b[0;34m\u001b[0m\u001b[0m\n\u001b[0m\u001b[1;32m    101\u001b[0m             \u001b[0mclsArray\u001b[0m\u001b[0;34m.\u001b[0m\u001b[0mappend\u001b[0m\u001b[0;34m(\u001b[0m\u001b[0;36m0\u001b[0m\u001b[0;34m)\u001b[0m\u001b[0;34m\u001b[0m\u001b[0m\n\u001b[1;32m    102\u001b[0m         \u001b[0;32melse\u001b[0m\u001b[0;34m:\u001b[0m\u001b[0;34m\u001b[0m\u001b[0m\n",
      "\u001b[0;31mTypeError\u001b[0m: '>=' not supported between instances of 'str' and 'float'"
     ]
    }
   ],
   "source": []
  },
  {
   "cell_type": "code",
   "execution_count": null,
   "metadata": {
    "collapsed": true
   },
   "outputs": [],
   "source": []
  }
 ],
 "metadata": {
  "kernelspec": {
   "display_name": "Python 3",
   "language": "python",
   "name": "python3"
  },
  "language_info": {
   "codemirror_mode": {
    "name": "ipython",
    "version": 3
   },
   "file_extension": ".py",
   "mimetype": "text/x-python",
   "name": "python",
   "nbconvert_exporter": "python",
   "pygments_lexer": "ipython3",
   "version": "3.6.1"
  }
 },
 "nbformat": 4,
 "nbformat_minor": 2
}
