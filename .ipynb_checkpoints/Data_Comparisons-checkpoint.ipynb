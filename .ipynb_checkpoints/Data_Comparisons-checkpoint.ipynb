{
 "cells": [
  {
   "cell_type": "code",
   "execution_count": 1,
   "metadata": {
    "collapsed": true
   },
   "outputs": [],
   "source": [
    "#Edit the ROC fucntion to take in an array of dataframes. \n",
    "# then append them together\n",
    "# then remove and NaN rows from the data"
   ]
  },
  {
   "cell_type": "code",
   "execution_count": 137,
   "metadata": {
    "collapsed": true
   },
   "outputs": [],
   "source": [
    "## QUESTIONS\n",
    "\n",
    "\n",
    "##Which Alg is the best performing\n",
    "## Does adding Sentiment actually improve results\n",
    "## Does new data share these findings. \n",
    "## WHICH feature combiniation was the best\n",
    "## or which new data set adds the best performance \n",
    "\n",
    "\n",
    "## for AUC scores, compile the csv files then show the means across all data combinations\n",
    "## Rows are features\n",
    "## Columns are algorithms. \n",
    "\n",
    "\n",
    "##Standardize the UN and UD and US data"
   ]
  },
  {
   "cell_type": "code",
   "execution_count": 15,
   "metadata": {
    "collapsed": true
   },
   "outputs": [],
   "source": [
    "import pandas as pd\n",
    "import numpy as np\n",
    "import matplotlib.pyplot as plt\n",
    "import matplotlib.mlab as PCA\n",
    "#all the algorithms needed for later\n",
    "from sklearn.neighbors import KNeighborsClassifier as KNClass\n",
    "from sklearn.naive_bayes import GaussianNB\n",
    "from sklearn.tree import DecisionTreeClassifier\n",
    "from sklearn import svm\n",
    "from sklearn.neural_network import MLPClassifier #Neural Network\n",
    "\n",
    "#needed for the plots\n",
    "from sklearn.metrics import roc_curve, auc\n",
    "import sys\n",
    "%matplotlib inline\n",
    "\n",
    "#Load in the previous files\n",
    "dfPolSent = pd.read_csv('created_data/polSentFreq.csv', index_col=0)\n",
    "dfLegSent = pd.read_csv('created_data/legSentFreq.csv', index_col=0)\n",
    "\n",
    "dfPolUC = pd.read_csv('created_data/userContentPol.csv', index_col=0)\n",
    "dfLegUC = pd.read_csv('created_data/userContentLeg.csv', index_col=0)\n",
    "\n",
    "dfPolUN = pd.read_csv('created_data/userNetworkPol.csv', index_col=0)\n",
    "dfLegUN = pd.read_csv('created_data/userNetworkLeg.csv', index_col=0)\n",
    "\n",
    "dfPolUD = pd.read_csv('created_data/userAccInfoPol.csv', index_col=0)\n",
    "dfLegUD = pd.read_csv('created_data/userAccInfoLeg.csv', index_col=0)"
   ]
  },
  {
   "cell_type": "code",
   "execution_count": 3,
   "metadata": {
    "collapsed": true
   },
   "outputs": [],
   "source": [
    "from sklearn.preprocessing import Imputer\n",
    "\n",
    "#Redoing these functions to take in the fold number and then automate the list generation\n",
    "#default fold number is 10\n",
    "\n",
    "#take the average of the above list, then look for the best feature set\n",
    "def getROC(df1, df2, fold=10):\n",
    "    #Need to possibly take in a list then append the two data frames\n",
    "    #then remove NaN\n",
    "    \n",
    "    if type(df1) is list:\n",
    "        df1 = pd.concat(df1, axis=1, join_axes=[df1[0].index])\n",
    "        df1 = df1.dropna(axis=0)\n",
    "    if type(df2) is list:\n",
    "        df2 = pd.concat(df2, axis=1, join_axes=[df2[0].index])\n",
    "        df1 = df.dropna(axis=0)\n",
    "    \n",
    "    #section one, prepare data for the learning algorithms\n",
    "    #divide into equal sections, take 10 total sets from each dataset\n",
    "    #give proper classifications for each\n",
    "    foldData = {}\n",
    "    df1Segs = []\n",
    "    df2Segs = []\n",
    "    #add in a parameter for the number of folds to use\n",
    "    segDF1 = int(len(df1)/fold)\n",
    "    segDF2 = int(len(df2)/fold)\n",
    "    \n",
    "    for i in range(fold):\n",
    "        foldData[i] = []\n",
    "        df1Segs.append(i*segDF1)\n",
    "        df2Segs.append(i*segDF2)\n",
    "\n",
    "    for i in range(len(df1Segs)):\n",
    "        #get the fold to fit on\n",
    "        try:\n",
    "            fitDF1 = df1[df1Segs[i]:df1Segs[i+1]]\n",
    "            fitDF2 = df2[df2Segs[i]:df2Segs[i+1]]\n",
    "            \n",
    "            predDF1 = pd.concat([df1[:df1Segs[i]], df1[df1Segs[i+1]:]])\n",
    "            predDF2 = pd.concat([df2[:df2Segs[i]], df2[df2Segs[i+1]:]])\n",
    "        except IndexError: #Only for the last fold\n",
    "            fitDF1 = df1[df1Segs[i]:]\n",
    "            fitDF2 = df2[df2Segs[i]:]\n",
    "            \n",
    "            predDF1 = df1[:df1Segs[i]]\n",
    "            predDF2 = df2[:df2Segs[i]]\n",
    "            \n",
    "        #use the DF to get the data\n",
    "        fitData, fitCls = machLearnData(fitDF1, fitDF2)\n",
    "        preData, preCls = machLearnData(predDF1, predDF2)\n",
    "        \n",
    "#         print(len(fitData), len(fitCls))\n",
    "        \n",
    "#         fitData = Imputer().fit_transform(fitData)\n",
    "#         fitCls = np.nan_to_num(fitCls)\n",
    "        \n",
    "#         print(len(fitData), len(fitCls))\n",
    "    \n",
    "        #second one apply all algorithms to it\n",
    "        #define the algorithms\n",
    "        neigh = KNClass(n_neighbors=21)\n",
    "        gnb = GaussianNB()\n",
    "        dtc = DecisionTreeClassifier(random_state=0)\n",
    "        vec = svm.SVC(probability=True)\n",
    "        neur = MLPClassifier(solver='lbfgs', alpha=1e-5, hidden_layer_sizes=(5, 2), random_state=1)\n",
    "\n",
    "        Algs = [neigh, gnb, dtc, vec, neur]#can add more later, also the order they are added to the dictionary\n",
    "        \n",
    "        l = len(fitData[0])\n",
    "        \n",
    "        for row in fitData:\n",
    "            if len(row) != l:\n",
    "                print(len(row), l)\n",
    "        \n",
    "        #Using n.nan_to_num() to convert the lists. Hopfully this will fix our problem\n",
    "        for alg in Algs:\n",
    "            # Fails on Decision Tree\n",
    "            alg.fit(fitData, fitCls)\n",
    "            finCls = alg.predict_proba(preData)\n",
    "            \n",
    "            fpr, tpr, thresholds, roc_auc = probaTable(finCls)\n",
    "            algList = [fpr, tpr, thresholds, roc_auc]\n",
    "            \n",
    "            foldData[i].append(algList)\n",
    "        \n",
    "    \n",
    "    return foldData\n",
    "    \n",
    "    #get out the ROC curvs and AUC scores for each\n",
    "    \n",
    "    \n",
    "#this will give the proper classifications\n",
    "#dframe1 should be the positive df\n",
    "def machLearnData(dframe1, dframe2, rng=0):\n",
    "    data = []\n",
    "    #0 = polluters\n",
    "    #1 = legit\n",
    "    classify = []\n",
    "    for index, row in dframe1.iterrows():\n",
    "        userList = []\n",
    "        for i in range(len(row)):\n",
    "            userList.append(row[i])\n",
    "            \n",
    "        data.append(userList)\n",
    "        classify.append(0)\n",
    "        \n",
    "    for index, row in dframe2.iterrows():\n",
    "        userList = []\n",
    "        for i in range(len(row)):\n",
    "            userList.append(row[i])\n",
    "\n",
    "        data.append(userList)\n",
    "        classify.append(1)\n",
    "        \n",
    "    return data, classify\n",
    "\n",
    "def probaTable(fCls, posL=0, posCut=0.5):\n",
    "    clsArray = []\n",
    "    actualCls = []\n",
    "    \n",
    "    pos = []\n",
    "    \n",
    "    count = 0\n",
    "    for line in fCls:\n",
    "        if line[0] >= posCut:\n",
    "            clsArray.append(0)\n",
    "        else:\n",
    "            clsArray.append(1)\n",
    "        pos.append(line[0])\n",
    "            \n",
    "        if count < len(fCls)/2:\n",
    "            actualCls.append(0)\n",
    "            count += 1\n",
    "        else:\n",
    "            actualCls.append(1)\n",
    "            \n",
    "    #print(len(actualCls), len(fCls))\n",
    "            \n",
    "    #classTuple = zip(actualCls, fCls)\n",
    "\n",
    "    fpr, tpr, thresholds = roc_curve(actualCls, pos, pos_label=posL)\n",
    "    \n",
    "    roc_auc = auc(fpr, tpr)\n",
    "    \n",
    "    #return {'polluter': [truePos, falseNeg], 'legit': [falsePos, trueNeg]}, acc, precision, recall, f1, fpr\n",
    "    \n",
    "    return fpr, tpr, thresholds, roc_auc\n",
    "\n"
   ]
  },
  {
   "cell_type": "code",
   "execution_count": 4,
   "metadata": {
    "collapsed": true
   },
   "outputs": [],
   "source": [
    "def getAUCScore(df):\n",
    "    aucScores = {}\n",
    "    for index, row in df.iterrows():\n",
    "        tempList = []\n",
    "        for i in range(len(row)):\n",
    "            tempList += [row[i][-1]]\n",
    "        aucScores[index] = tempList\n",
    "                \n",
    "    return aucScores\n",
    "\n",
    "#plot the fpr and tpr \n",
    "\n",
    "def plotROC(df):\n",
    "    \n",
    "    for index, row in df.iterrows():\n",
    "        fpr = row[1][0]\n",
    "        tpr = row[1][1]\n",
    "        \n",
    "        plt.plot(fpr, tpr,  label=\"Fold %0.2f\" % int(index))\n",
    "        \n",
    "    plt.xlabel('False Positive Rate')\n",
    "    plt.ylabel('True Positive Rate')\n",
    "    plt.title('ROC of MLP')\n",
    "    plt.legend(loc=\"lower right\")\n",
    "    plt.show()"
   ]
  },
  {
   "cell_type": "markdown",
   "metadata": {},
   "source": [
    "Make sure that all data is run on the same accounts for each dataset. This will ensure that there is no over optimization. "
   ]
  },
  {
   "cell_type": "code",
   "execution_count": 5,
   "metadata": {},
   "outputs": [
    {
     "name": "stdout",
     "output_type": "stream",
     "text": [
      "20645 15750 15750\n"
     ]
    }
   ],
   "source": [
    "data = pd.concat([dfPolSent, dfPolUC, dfPolUN, dfPolUD], axis=1, join_axes=[dfPolSent.index])\n",
    "d = data.dropna(axis=0)\n",
    "\n",
    "print(len(data), len(d), len(dfPolUC))"
   ]
  },
  {
   "cell_type": "code",
   "execution_count": 17,
   "metadata": {},
   "outputs": [
    {
     "name": "stdout",
     "output_type": "stream",
     "text": [
      "19251 18195 18195\n"
     ]
    }
   ],
   "source": [
    "dataLeg = pd.concat([dfLegSent, dfLegUC, dfLegUN, dfLegUD], axis=1, join_axes=[dfLegSent.index])\n",
    "dl = dataLeg.dropna(axis=0)\n",
    "\n",
    "print(len(dataLeg), len(dl), len(dfLegUC))"
   ]
  },
  {
   "cell_type": "markdown",
   "metadata": {},
   "source": [
    "# UC"
   ]
  },
  {
   "cell_type": "code",
   "execution_count": 119,
   "metadata": {},
   "outputs": [],
   "source": [
    "rocUC = getROC(dfPolUC, dfLegUC)\n",
    "\n",
    "## NEED TO REMOVE A VALUE\n",
    "\n",
    "## Input contains NaN, infinity or a value too large for dtype('float32')."
   ]
  },
  {
   "cell_type": "code",
   "execution_count": 120,
   "metadata": {},
   "outputs": [
    {
     "data": {
      "text/html": [
       "<div>\n",
       "<style>\n",
       "    .dataframe thead tr:only-child th {\n",
       "        text-align: right;\n",
       "    }\n",
       "\n",
       "    .dataframe thead th {\n",
       "        text-align: left;\n",
       "    }\n",
       "\n",
       "    .dataframe tbody tr th {\n",
       "        vertical-align: top;\n",
       "    }\n",
       "</style>\n",
       "<table border=\"1\" class=\"dataframe\">\n",
       "  <thead>\n",
       "    <tr style=\"text-align: right;\">\n",
       "      <th></th>\n",
       "      <th>KNeighborsClassifier</th>\n",
       "      <th>GaussianNB</th>\n",
       "      <th>DecisionTreeClassifier</th>\n",
       "      <th>SVM</th>\n",
       "      <th>MLP</th>\n",
       "    </tr>\n",
       "  </thead>\n",
       "  <tbody>\n",
       "    <tr>\n",
       "      <th>0</th>\n",
       "      <td>[[0.0, 0.00707037643208, 0.0234369885434, 0.04...</td>\n",
       "      <td>[[0.0, 0.000458265139116, 0.000458265139116, 0...</td>\n",
       "      <td>[[0.0, 0.28674304419, 1.0], [0.0, 0.6702016234...</td>\n",
       "      <td>[[0.0, 0.0, 6.54664484452e-05, 6.54664484452e-...</td>\n",
       "      <td>[[0.0, 0.0, 0.999869067103, 0.999869067103, 0....</td>\n",
       "    </tr>\n",
       "    <tr>\n",
       "      <th>1</th>\n",
       "      <td>[[0.0, 0.00641571194763, 0.0146644844517, 0.02...</td>\n",
       "      <td>[[0.0, 0.000261865793781, 0.000261865793781, 0...</td>\n",
       "      <td>[[0.0, 0.319934533552, 1.0], [0.0, 0.648664571...</td>\n",
       "      <td>[[0.0, 6.54664484452e-05, 6.54664484452e-05, 0...</td>\n",
       "      <td>[[0.0, 0.000392798690671, 0.000392798690671, 0...</td>\n",
       "    </tr>\n",
       "    <tr>\n",
       "      <th>2</th>\n",
       "      <td>[[0.0, 0.00386252045827, 0.0186579378069, 0.03...</td>\n",
       "      <td>[[0.0, 0.000327332242226, 0.000392798690671, 0...</td>\n",
       "      <td>[[0.0, 0.337217675941, 1.0], [0.0, 0.705223880...</td>\n",
       "      <td>[[0.0, 0.0, 6.54664484452e-05, 6.54664484452e-...</td>\n",
       "      <td>[[0.0, 0.177806873977, 0.178003273322, 0.17800...</td>\n",
       "    </tr>\n",
       "    <tr>\n",
       "      <th>3</th>\n",
       "      <td>[[0.0, 0.00864157119476, 0.0261211129296, 0.05...</td>\n",
       "      <td>[[0.0, 0.000720130932897, 0.000720130932897, 0...</td>\n",
       "      <td>[[0.0, 0.289230769231, 1.0], [0.0, 0.691476826...</td>\n",
       "      <td>[[0.0, 0.0, 6.54664484452e-05, 6.54664484452e-...</td>\n",
       "      <td>[[0.0, 0.000589198036007, 0.000589198036007, 1...</td>\n",
       "    </tr>\n",
       "    <tr>\n",
       "      <th>4</th>\n",
       "      <td>[[0.0, 0.0127004909984, 0.0301145662848, 0.053...</td>\n",
       "      <td>[[0.0, 0.000916530278232, 0.00104746317512, 0....</td>\n",
       "      <td>[[0.0, 0.239476268412, 1.0], [0.0, 0.644540455...</td>\n",
       "      <td>[[0.0, 0.0, 6.54664484452e-05, 6.54664484452e-...</td>\n",
       "      <td>[[0.0, 0.000589198036007, 0.000589198036007, 1...</td>\n",
       "    </tr>\n",
       "    <tr>\n",
       "      <th>5</th>\n",
       "      <td>[[0.0, 0.0111947626841, 0.0273649754501, 0.042...</td>\n",
       "      <td>[[0.0, 0.0013093289689, 0.0013093289689, 0.001...</td>\n",
       "      <td>[[0.0, 0.226382978723, 1.0], [0.0, 0.631251636...</td>\n",
       "      <td>[[0.0, 0.0, 6.54664484452e-05, 6.54664484452e-...</td>\n",
       "      <td>[[0.0, 0.0810474631751, 0.0810474631751, 0.081...</td>\n",
       "    </tr>\n",
       "    <tr>\n",
       "      <th>6</th>\n",
       "      <td>[[0.0, 0.00995090016367, 0.0235679214403, 0.03...</td>\n",
       "      <td>[[0.0, 0.000851063829787, 0.000981996726678, 0...</td>\n",
       "      <td>[[0.0, 0.188085106383, 1.0], [0.0, 0.594069128...</td>\n",
       "      <td>[[0.0, 6.54664484452e-05, 6.54664484452e-05, 0...</td>\n",
       "      <td>[[0.0, 0.000589198036007, 0.000654664484452, 0...</td>\n",
       "    </tr>\n",
       "    <tr>\n",
       "      <th>7</th>\n",
       "      <td>[[0.0, 0.00726677577741, 0.0189852700491, 0.03...</td>\n",
       "      <td>[[0.0, 0.000785597381342, 0.000785597381342, 0...</td>\n",
       "      <td>[[0.0, 0.207855973813, 1.0], [0.0, 0.594854673...</td>\n",
       "      <td>[[0.0, 6.54664484452e-05, 0.00013093289689, 0....</td>\n",
       "      <td>[[0.0, 0.000458265139116, 0.000458265139116, 0...</td>\n",
       "    </tr>\n",
       "    <tr>\n",
       "      <th>8</th>\n",
       "      <td>[[0.0, 0.00216039279869, 0.0106710310966, 0.02...</td>\n",
       "      <td>[[0.0, 0.000196399345336, 0.000261865793781, 0...</td>\n",
       "      <td>[[0.0, 0.186579378069, 1.0], [0.0, 0.552893427...</td>\n",
       "      <td>[[0.0, 6.54664484452e-05, 6.54664484452e-05, 0...</td>\n",
       "      <td>[[0.0, 0.00013093289689, 0.00013093289689, 0.0...</td>\n",
       "    </tr>\n",
       "    <tr>\n",
       "      <th>9</th>\n",
       "      <td>[[0.0, 0.000982125319191, 0.00438682642572, 0....</td>\n",
       "      <td>[[0.0, 0.000196425063838, 0.000196425063838, 0...</td>\n",
       "      <td>[[0.0, 0.235513651542, 1.0], [0.0, 0.526484646...</td>\n",
       "      <td>[[0.0, 0.0, 6.54750212794e-05, 6.54750212794e-...</td>\n",
       "      <td>[[0.0, 6.54750212794e-05, 6.54750212794e-05, 0...</td>\n",
       "    </tr>\n",
       "  </tbody>\n",
       "</table>\n",
       "</div>"
      ],
      "text/plain": [
       "                                KNeighborsClassifier  \\\n",
       "0  [[0.0, 0.00707037643208, 0.0234369885434, 0.04...   \n",
       "1  [[0.0, 0.00641571194763, 0.0146644844517, 0.02...   \n",
       "2  [[0.0, 0.00386252045827, 0.0186579378069, 0.03...   \n",
       "3  [[0.0, 0.00864157119476, 0.0261211129296, 0.05...   \n",
       "4  [[0.0, 0.0127004909984, 0.0301145662848, 0.053...   \n",
       "5  [[0.0, 0.0111947626841, 0.0273649754501, 0.042...   \n",
       "6  [[0.0, 0.00995090016367, 0.0235679214403, 0.03...   \n",
       "7  [[0.0, 0.00726677577741, 0.0189852700491, 0.03...   \n",
       "8  [[0.0, 0.00216039279869, 0.0106710310966, 0.02...   \n",
       "9  [[0.0, 0.000982125319191, 0.00438682642572, 0....   \n",
       "\n",
       "                                          GaussianNB  \\\n",
       "0  [[0.0, 0.000458265139116, 0.000458265139116, 0...   \n",
       "1  [[0.0, 0.000261865793781, 0.000261865793781, 0...   \n",
       "2  [[0.0, 0.000327332242226, 0.000392798690671, 0...   \n",
       "3  [[0.0, 0.000720130932897, 0.000720130932897, 0...   \n",
       "4  [[0.0, 0.000916530278232, 0.00104746317512, 0....   \n",
       "5  [[0.0, 0.0013093289689, 0.0013093289689, 0.001...   \n",
       "6  [[0.0, 0.000851063829787, 0.000981996726678, 0...   \n",
       "7  [[0.0, 0.000785597381342, 0.000785597381342, 0...   \n",
       "8  [[0.0, 0.000196399345336, 0.000261865793781, 0...   \n",
       "9  [[0.0, 0.000196425063838, 0.000196425063838, 0...   \n",
       "\n",
       "                              DecisionTreeClassifier  \\\n",
       "0  [[0.0, 0.28674304419, 1.0], [0.0, 0.6702016234...   \n",
       "1  [[0.0, 0.319934533552, 1.0], [0.0, 0.648664571...   \n",
       "2  [[0.0, 0.337217675941, 1.0], [0.0, 0.705223880...   \n",
       "3  [[0.0, 0.289230769231, 1.0], [0.0, 0.691476826...   \n",
       "4  [[0.0, 0.239476268412, 1.0], [0.0, 0.644540455...   \n",
       "5  [[0.0, 0.226382978723, 1.0], [0.0, 0.631251636...   \n",
       "6  [[0.0, 0.188085106383, 1.0], [0.0, 0.594069128...   \n",
       "7  [[0.0, 0.207855973813, 1.0], [0.0, 0.594854673...   \n",
       "8  [[0.0, 0.186579378069, 1.0], [0.0, 0.552893427...   \n",
       "9  [[0.0, 0.235513651542, 1.0], [0.0, 0.526484646...   \n",
       "\n",
       "                                                 SVM  \\\n",
       "0  [[0.0, 0.0, 6.54664484452e-05, 6.54664484452e-...   \n",
       "1  [[0.0, 6.54664484452e-05, 6.54664484452e-05, 0...   \n",
       "2  [[0.0, 0.0, 6.54664484452e-05, 6.54664484452e-...   \n",
       "3  [[0.0, 0.0, 6.54664484452e-05, 6.54664484452e-...   \n",
       "4  [[0.0, 0.0, 6.54664484452e-05, 6.54664484452e-...   \n",
       "5  [[0.0, 0.0, 6.54664484452e-05, 6.54664484452e-...   \n",
       "6  [[0.0, 6.54664484452e-05, 6.54664484452e-05, 0...   \n",
       "7  [[0.0, 6.54664484452e-05, 0.00013093289689, 0....   \n",
       "8  [[0.0, 6.54664484452e-05, 6.54664484452e-05, 0...   \n",
       "9  [[0.0, 0.0, 6.54750212794e-05, 6.54750212794e-...   \n",
       "\n",
       "                                                 MLP  \n",
       "0  [[0.0, 0.0, 0.999869067103, 0.999869067103, 0....  \n",
       "1  [[0.0, 0.000392798690671, 0.000392798690671, 0...  \n",
       "2  [[0.0, 0.177806873977, 0.178003273322, 0.17800...  \n",
       "3  [[0.0, 0.000589198036007, 0.000589198036007, 1...  \n",
       "4  [[0.0, 0.000589198036007, 0.000589198036007, 1...  \n",
       "5  [[0.0, 0.0810474631751, 0.0810474631751, 0.081...  \n",
       "6  [[0.0, 0.000589198036007, 0.000654664484452, 0...  \n",
       "7  [[0.0, 0.000458265139116, 0.000458265139116, 0...  \n",
       "8  [[0.0, 0.00013093289689, 0.00013093289689, 0.0...  \n",
       "9  [[0.0, 6.54750212794e-05, 6.54750212794e-05, 0...  "
      ]
     },
     "execution_count": 120,
     "metadata": {},
     "output_type": "execute_result"
    }
   ],
   "source": [
    "rocUCDF = pd.DataFrame.from_dict(rocUC, 'index')\n",
    "rocUCDF.rename(columns={0:'KNeighborsClassifier', 1: 'GaussianNB', 2: 'DecisionTreeClassifier', 3:'SVM', 4:'MLP'})\n"
   ]
  },
  {
   "cell_type": "code",
   "execution_count": 121,
   "metadata": {},
   "outputs": [
    {
     "data": {
      "image/png": "[encoded data removed]",
      "text/plain": [
       "<matplotlib.figure.Figure at 0x1273cd128>"
      ]
     },
     "metadata": {},
     "output_type": "display_data"
    }
   ],
   "source": [
    "aucUCScores = getAUCScore(rocUCDF)\n",
    "\n",
    "plotROC(rocUCDF)"
   ]
  },
  {
   "cell_type": "code",
   "execution_count": 122,
   "metadata": {},
   "outputs": [
    {
     "data": {
      "text/plain": [
       "<matplotlib.axes._subplots.AxesSubplot at 0x1285eb2b0>"
      ]
     },
     "execution_count": 122,
     "metadata": {},
     "output_type": "execute_result"
    },
    {
     "data": {
      "image/png": "[encoded data removed]",
      "text/plain": [
       "<matplotlib.figure.Figure at 0x12845f438>"
      ]
     },
     "metadata": {},
     "output_type": "display_data"
    }
   ],
   "source": [
    "from scipy import stats\n",
    "\n",
    "aucUCDF = pd.DataFrame.from_dict(aucUCScores, 'index')\n",
    "aucUCDF = aucUCDF.rename(columns={0:'KNN', 1: 'NB', 2: 'DT', 3:'SVM', 4:'MLP'})\n",
    "\n",
    "knnUCList = list(aucUCDF['KNN'])\n",
    "gnbUCList = list(aucUCDF['NB'])\n",
    "dtUCList = list(aucUCDF['DT'])\n",
    "svmUCList = list(aucUCDF['SVM'])\n",
    "mplUCList = list(aucUCDF['MLP'])\n",
    "\n",
    "\n",
    "\n",
    "stats.ttest_rel(knnUCList, mplUCList) #shows us the bigger picture from the number\n",
    "\n",
    "\n",
    "aucUCDes = aucUCDF.describe()\n",
    "\n",
    "aucUCMean = pd.Series.to_frame(aucUCDes.loc[aucUCDes.index[1]])\n",
    "aucUCSTD = pd.Series.to_frame(aucUCDes.loc[aucUCDes.index[2]])\n",
    "\n",
    "aucUCDF.plot(kind='box', title='AUC Mean', ylim=(0, 1))"
   ]
  },
  {
   "cell_type": "code",
   "execution_count": 123,
   "metadata": {
    "collapsed": true
   },
   "outputs": [],
   "source": [
    "aucUCDF.to_csv('created_data/AUC_Scores/UC_auc.csv', encoding='utf-8')"
   ]
  },
  {
   "cell_type": "markdown",
   "metadata": {},
   "source": [
    "# UN"
   ]
  },
  {
   "cell_type": "code",
   "execution_count": 124,
   "metadata": {
    "collapsed": true
   },
   "outputs": [],
   "source": [
    "rocUN = getROC(dfPolUN, dfLegUN)"
   ]
  },
  {
   "cell_type": "code",
   "execution_count": 125,
   "metadata": {},
   "outputs": [
    {
     "data": {
      "text/html": [
       "<div>\n",
       "<style>\n",
       "    .dataframe thead tr:only-child th {\n",
       "        text-align: right;\n",
       "    }\n",
       "\n",
       "    .dataframe thead th {\n",
       "        text-align: left;\n",
       "    }\n",
       "\n",
       "    .dataframe tbody tr th {\n",
       "        vertical-align: top;\n",
       "    }\n",
       "</style>\n",
       "<table border=\"1\" class=\"dataframe\">\n",
       "  <thead>\n",
       "    <tr style=\"text-align: right;\">\n",
       "      <th></th>\n",
       "      <th>KNeighborsClassifier</th>\n",
       "      <th>GaussianNB</th>\n",
       "      <th>DecisionTreeClassifier</th>\n",
       "      <th>SVM</th>\n",
       "      <th>MLP</th>\n",
       "    </tr>\n",
       "  </thead>\n",
       "  <tbody>\n",
       "    <tr>\n",
       "      <th>0</th>\n",
       "      <td>[[0.0, 0.0235609103079, 0.0447121820616, 0.066...</td>\n",
       "      <td>[[0.0, 0.0151004016064, 0.0151004016064, 0.015...</td>\n",
       "      <td>[[0.0, 0.223614457831, 0.223935742972, 1.0], [...</td>\n",
       "      <td>[[0.0, 0.000321285140562, 0.000428380187416, 0...</td>\n",
       "      <td>[[0.0, 0.000160642570281, 0.000214190093708, 0...</td>\n",
       "    </tr>\n",
       "    <tr>\n",
       "      <th>1</th>\n",
       "      <td>[[0.0, 0.0202409638554, 0.0442302543507, 0.066...</td>\n",
       "      <td>[[0.0, 0.0349129852744, 0.0350736278447, 0.035...</td>\n",
       "      <td>[[0.0, 0.241606425703, 0.243694779116, 1.0], [...</td>\n",
       "      <td>[[0.0, 5.3547523427e-05, 5.3547523427e-05, 0.0...</td>\n",
       "      <td>[[0.0, 0.000214190093708, 0.000214190093708, 0...</td>\n",
       "    </tr>\n",
       "    <tr>\n",
       "      <th>2</th>\n",
       "      <td>[[0.0, 0.0270414993307, 0.0567068273092, 0.075...</td>\n",
       "      <td>[[0.0, 0.0376439089692, 0.0382864792503, 0.038...</td>\n",
       "      <td>[[0.0, 0.25344042838, 0.25344042838, 1.0], [0....</td>\n",
       "      <td>[[0.0, 5.3547523427e-05, 5.3547523427e-05, 0.0...</td>\n",
       "      <td>[[0.0, 0.00444444444444, 1.0], [0.0, 0.0001606...</td>\n",
       "    </tr>\n",
       "    <tr>\n",
       "      <th>3</th>\n",
       "      <td>[[0.0, 0.0329852744311, 0.0632931726908, 0.085...</td>\n",
       "      <td>[[0.0, 0.0319143239625, 0.0322356091031, 0.032...</td>\n",
       "      <td>[[0.0, 0.25718875502, 0.258473895582, 0.269290...</td>\n",
       "      <td>[[0.0, 0.0, 0.0, 0.0, 5.3547523427e-05, 5.3547...</td>\n",
       "      <td>[[0.0, 0.00444444444444, 1.0], [0.0, 0.0001606...</td>\n",
       "    </tr>\n",
       "    <tr>\n",
       "      <th>4</th>\n",
       "      <td>[[0.0, 0.0390896921017, 0.073360107095, 0.0949...</td>\n",
       "      <td>[[0.0, 0.028969210174, 0.0292904953146, 0.0296...</td>\n",
       "      <td>[[0.0, 0.255903614458, 0.258688085676, 0.26082...</td>\n",
       "      <td>[[0.0, 0.000267737617135, 0.000428380187416, 0...</td>\n",
       "      <td>[[0.0, 0.00444444444444, 0.00690763052209, 0.0...</td>\n",
       "    </tr>\n",
       "    <tr>\n",
       "      <th>5</th>\n",
       "      <td>[[0.0, 0.0403212851406, 0.0570816599732, 0.072...</td>\n",
       "      <td>[[0.0, 0.0278982597055, 0.0280589022758, 0.028...</td>\n",
       "      <td>[[0.0, 0.234859437751, 0.237001338688, 0.24321...</td>\n",
       "      <td>[[0.0, 0.000267737617135, 0.000428380187416, 0...</td>\n",
       "      <td>[[0.0, 0.00497991967871, 0.00530120481928, 0.0...</td>\n",
       "    </tr>\n",
       "    <tr>\n",
       "      <th>6</th>\n",
       "      <td>[[0.0, 0.038500669344, 0.0594912985274, 0.0785...</td>\n",
       "      <td>[[0.0, 0.0252208835341, 0.0254350736278, 0.025...</td>\n",
       "      <td>[[0.0, 0.235394912985, 0.236680053548, 0.23908...</td>\n",
       "      <td>[[0.0, 0.00149933065596, 0.00155287817938, 0.0...</td>\n",
       "      <td>[[0.0, 0.00390896921017, 0.00417670682731, 0.0...</td>\n",
       "    </tr>\n",
       "    <tr>\n",
       "      <th>7</th>\n",
       "      <td>[[0.0, 0.0307362784471, 0.0597590361446, 0.080...</td>\n",
       "      <td>[[0.0, 0.0254886211513, 0.0255421686747, 0.025...</td>\n",
       "      <td>[[0.0, 0.258795180723, 0.260240963855, 0.26259...</td>\n",
       "      <td>[[0.0, 5.3547523427e-05, 0.000107095046854, 0....</td>\n",
       "      <td>[[0.0, 0.000214190093708, 0.000214190093708, 0...</td>\n",
       "    </tr>\n",
       "    <tr>\n",
       "      <th>8</th>\n",
       "      <td>[[0.0, 0.0247389558233, 0.0533868808568, 0.076...</td>\n",
       "      <td>[[0.0, 0.0148326639893, 0.0149397590361, 0.015...</td>\n",
       "      <td>[[0.0, 0.257617135207, 0.25906291834, 0.262436...</td>\n",
       "      <td>[[0.0, 0.000214190093708, 0.000374832663989, 0...</td>\n",
       "      <td>[[0.0, 0.00203480589023, 0.00208835341365, 0.0...</td>\n",
       "    </tr>\n",
       "    <tr>\n",
       "      <th>9</th>\n",
       "      <td>[[0.0, 0.0125870380289, 0.0351365827531, 0.062...</td>\n",
       "      <td>[[0.0, 0.0526513122657, 0.0536689876808, 0.054...</td>\n",
       "      <td>[[0.0, 0.266523835029, 0.266523835029, 0.26684...</td>\n",
       "      <td>[[0.0, 0.000107123727906, 0.000107123727906, 0...</td>\n",
       "      <td>[[0.0, 0.00128548473487, 0.00133904659882, 0.0...</td>\n",
       "    </tr>\n",
       "  </tbody>\n",
       "</table>\n",
       "</div>"
      ],
      "text/plain": [
       "                                KNeighborsClassifier  \\\n",
       "0  [[0.0, 0.0235609103079, 0.0447121820616, 0.066...   \n",
       "1  [[0.0, 0.0202409638554, 0.0442302543507, 0.066...   \n",
       "2  [[0.0, 0.0270414993307, 0.0567068273092, 0.075...   \n",
       "3  [[0.0, 0.0329852744311, 0.0632931726908, 0.085...   \n",
       "4  [[0.0, 0.0390896921017, 0.073360107095, 0.0949...   \n",
       "5  [[0.0, 0.0403212851406, 0.0570816599732, 0.072...   \n",
       "6  [[0.0, 0.038500669344, 0.0594912985274, 0.0785...   \n",
       "7  [[0.0, 0.0307362784471, 0.0597590361446, 0.080...   \n",
       "8  [[0.0, 0.0247389558233, 0.0533868808568, 0.076...   \n",
       "9  [[0.0, 0.0125870380289, 0.0351365827531, 0.062...   \n",
       "\n",
       "                                          GaussianNB  \\\n",
       "0  [[0.0, 0.0151004016064, 0.0151004016064, 0.015...   \n",
       "1  [[0.0, 0.0349129852744, 0.0350736278447, 0.035...   \n",
       "2  [[0.0, 0.0376439089692, 0.0382864792503, 0.038...   \n",
       "3  [[0.0, 0.0319143239625, 0.0322356091031, 0.032...   \n",
       "4  [[0.0, 0.028969210174, 0.0292904953146, 0.0296...   \n",
       "5  [[0.0, 0.0278982597055, 0.0280589022758, 0.028...   \n",
       "6  [[0.0, 0.0252208835341, 0.0254350736278, 0.025...   \n",
       "7  [[0.0, 0.0254886211513, 0.0255421686747, 0.025...   \n",
       "8  [[0.0, 0.0148326639893, 0.0149397590361, 0.015...   \n",
       "9  [[0.0, 0.0526513122657, 0.0536689876808, 0.054...   \n",
       "\n",
       "                              DecisionTreeClassifier  \\\n",
       "0  [[0.0, 0.223614457831, 0.223935742972, 1.0], [...   \n",
       "1  [[0.0, 0.241606425703, 0.243694779116, 1.0], [...   \n",
       "2  [[0.0, 0.25344042838, 0.25344042838, 1.0], [0....   \n",
       "3  [[0.0, 0.25718875502, 0.258473895582, 0.269290...   \n",
       "4  [[0.0, 0.255903614458, 0.258688085676, 0.26082...   \n",
       "5  [[0.0, 0.234859437751, 0.237001338688, 0.24321...   \n",
       "6  [[0.0, 0.235394912985, 0.236680053548, 0.23908...   \n",
       "7  [[0.0, 0.258795180723, 0.260240963855, 0.26259...   \n",
       "8  [[0.0, 0.257617135207, 0.25906291834, 0.262436...   \n",
       "9  [[0.0, 0.266523835029, 0.266523835029, 0.26684...   \n",
       "\n",
       "                                                 SVM  \\\n",
       "0  [[0.0, 0.000321285140562, 0.000428380187416, 0...   \n",
       "1  [[0.0, 5.3547523427e-05, 5.3547523427e-05, 0.0...   \n",
       "2  [[0.0, 5.3547523427e-05, 5.3547523427e-05, 0.0...   \n",
       "3  [[0.0, 0.0, 0.0, 0.0, 5.3547523427e-05, 5.3547...   \n",
       "4  [[0.0, 0.000267737617135, 0.000428380187416, 0...   \n",
       "5  [[0.0, 0.000267737617135, 0.000428380187416, 0...   \n",
       "6  [[0.0, 0.00149933065596, 0.00155287817938, 0.0...   \n",
       "7  [[0.0, 5.3547523427e-05, 0.000107095046854, 0....   \n",
       "8  [[0.0, 0.000214190093708, 0.000374832663989, 0...   \n",
       "9  [[0.0, 0.000107123727906, 0.000107123727906, 0...   \n",
       "\n",
       "                                                 MLP  \n",
       "0  [[0.0, 0.000160642570281, 0.000214190093708, 0...  \n",
       "1  [[0.0, 0.000214190093708, 0.000214190093708, 0...  \n",
       "2  [[0.0, 0.00444444444444, 1.0], [0.0, 0.0001606...  \n",
       "3  [[0.0, 0.00444444444444, 1.0], [0.0, 0.0001606...  \n",
       "4  [[0.0, 0.00444444444444, 0.00690763052209, 0.0...  \n",
       "5  [[0.0, 0.00497991967871, 0.00530120481928, 0.0...  \n",
       "6  [[0.0, 0.00390896921017, 0.00417670682731, 0.0...  \n",
       "7  [[0.0, 0.000214190093708, 0.000214190093708, 0...  \n",
       "8  [[0.0, 0.00203480589023, 0.00208835341365, 0.0...  \n",
       "9  [[0.0, 0.00128548473487, 0.00133904659882, 0.0...  "
      ]
     },
     "execution_count": 125,
     "metadata": {},
     "output_type": "execute_result"
    }
   ],
   "source": [
    "rocUNDF = pd.DataFrame.from_dict(rocUN, 'index')\n",
    "rocUNDF.rename(columns={0:'KNeighborsClassifier', 1: 'GaussianNB', 2: 'DecisionTreeClassifier', 3:'SVM', 4:'MLP'})"
   ]
  },
  {
   "cell_type": "code",
   "execution_count": 126,
   "metadata": {},
   "outputs": [
    {
     "data": {
      "image/png": "[encoded data removed]",
      "text/plain": [
       "<matplotlib.figure.Figure at 0x11a80fe10>"
      ]
     },
     "metadata": {},
     "output_type": "display_data"
    }
   ],
   "source": [
    "aucUNScores = getAUCScore(rocUNDF)\n",
    "\n",
    "plotROC(rocUNDF)"
   ]
  },
  {
   "cell_type": "code",
   "execution_count": 127,
   "metadata": {},
   "outputs": [
    {
     "data": {
      "text/plain": [
       "<matplotlib.axes._subplots.AxesSubplot at 0x11ce30908>"
      ]
     },
     "execution_count": 127,
     "metadata": {},
     "output_type": "execute_result"
    },
    {
     "data": {
      "image/png": "[encoded data removed]",
      "text/plain": [
       "<matplotlib.figure.Figure at 0x125abfa58>"
      ]
     },
     "metadata": {},
     "output_type": "display_data"
    }
   ],
   "source": [
    "aucUNDF = pd.DataFrame.from_dict(aucUCScores, 'index')\n",
    "aucUNDF = aucUNDF.rename(columns={0:'KNN', 1: 'NB', 2: 'DT', 3:'SVM', 4:'MLP'})\n",
    "\n",
    "knnUNList = list(aucUNDF['KNN'])\n",
    "gnbUNList = list(aucUNDF['NB'])\n",
    "dtUNList = list(aucUNDF['DT'])\n",
    "svmUNList = list(aucUNDF['SVM'])\n",
    "mplUNList = list(aucUNDF['MLP'])\n",
    "\n",
    "\n",
    "\n",
    "#stats.ttest_rel(knnUCList, mplUCList) #shows us the bigger picture from the number\n",
    "\n",
    "\n",
    "aucUNDes = aucUNDF.describe()\n",
    "\n",
    "aucUNMean = pd.Series.to_frame(aucUNDes.loc[aucUNDes.index[1]])\n",
    "aucUNSTD = pd.Series.to_frame(aucUNDes.loc[aucUNDes.index[2]])\n",
    "\n",
    "aucUNDF.plot(kind='box', title='AUC Mean', ylim=(0, 1))"
   ]
  },
  {
   "cell_type": "code",
   "execution_count": 128,
   "metadata": {
    "collapsed": true
   },
   "outputs": [],
   "source": [
    "aucUNDF.to_csv('created_data/AUC_Scores/UN_auc.csv', encoding='utf-8')"
   ]
  },
  {
   "cell_type": "markdown",
   "metadata": {},
   "source": [
    "# UD"
   ]
  },
  {
   "cell_type": "code",
   "execution_count": 129,
   "metadata": {
    "collapsed": true
   },
   "outputs": [],
   "source": [
    "rocUD = getROC(dfPolUD, dfLegUD)"
   ]
  },
  {
   "cell_type": "code",
   "execution_count": 130,
   "metadata": {},
   "outputs": [
    {
     "data": {
      "text/html": [
       "<div>\n",
       "<style>\n",
       "    .dataframe thead tr:only-child th {\n",
       "        text-align: right;\n",
       "    }\n",
       "\n",
       "    .dataframe thead th {\n",
       "        text-align: left;\n",
       "    }\n",
       "\n",
       "    .dataframe tbody tr th {\n",
       "        vertical-align: top;\n",
       "    }\n",
       "</style>\n",
       "<table border=\"1\" class=\"dataframe\">\n",
       "  <thead>\n",
       "    <tr style=\"text-align: right;\">\n",
       "      <th></th>\n",
       "      <th>KNeighborsClassifier</th>\n",
       "      <th>GaussianNB</th>\n",
       "      <th>DecisionTreeClassifier</th>\n",
       "      <th>SVM</th>\n",
       "      <th>MLP</th>\n",
       "    </tr>\n",
       "  </thead>\n",
       "  <tbody>\n",
       "    <tr>\n",
       "      <th>0</th>\n",
       "      <td>[[0.0, 0.9940562249, 0.995287817938, 0.9958232...</td>\n",
       "      <td>[[0.0, 5.3547523427e-05, 5.3547523427e-05, 0.0...</td>\n",
       "      <td>[[0.0, 0.998982597055, 1.0], [0.0, 0.998072289...</td>\n",
       "      <td>[[0.0, 5.3547523427e-05, 5.3547523427e-05, 5.3...</td>\n",
       "      <td>[[0.0, 0.164283801874, 0.164283801874, 0.16433...</td>\n",
       "    </tr>\n",
       "    <tr>\n",
       "      <th>1</th>\n",
       "      <td>[[0.0, 0.956680053548, 0.964551539491, 0.97135...</td>\n",
       "      <td>[[0.0, 0.00160642570281, 0.00160642570281, 0.0...</td>\n",
       "      <td>[[0.0, 0.993038821954, 0.993199464525, 0.99319...</td>\n",
       "      <td>[[0.0, 5.3547523427e-05, 0.000107095046854, 0....</td>\n",
       "      <td>[[0.0, 0.00176706827309, 0.0033734939759, 0.00...</td>\n",
       "    </tr>\n",
       "    <tr>\n",
       "      <th>2</th>\n",
       "      <td>[[0.0, 0.919732262383, 0.925140562249, 0.92953...</td>\n",
       "      <td>[[0.0, 0.58655957162, 0.592985274431, 0.596840...</td>\n",
       "      <td>[[0.0, 0.973868808568, 0.974082998661, 0.97429...</td>\n",
       "      <td>[[0.0, 0.000214190093708, 0.000321285140562, 0...</td>\n",
       "      <td>[[0.0, 0.00176706827309, 0.0033734939759, 0.00...</td>\n",
       "    </tr>\n",
       "    <tr>\n",
       "      <th>3</th>\n",
       "      <td>[[0.0, 0.881981258367, 0.888085676037, 0.89386...</td>\n",
       "      <td>[[0.0, 0.652476572959, 0.65686746988, 0.659651...</td>\n",
       "      <td>[[0.0, 0.958714859438, 0.958714859438, 0.96074...</td>\n",
       "      <td>[[0.0, 0.000107095046854, 0.000267737617135, 0...</td>\n",
       "      <td>[[0.0, 0.00176706827309, 0.0033734939759, 0.00...</td>\n",
       "    </tr>\n",
       "    <tr>\n",
       "      <th>4</th>\n",
       "      <td>[[0.0, 0.804016064257, 0.826613119143, 0.84016...</td>\n",
       "      <td>[[0.0, 0.55453815261, 0.557858099063, 0.561178...</td>\n",
       "      <td>[[0.0, 0.959732262383, 0.959785809906, 0.95978...</td>\n",
       "      <td>[[0.0, 0.000160642570281, 0.000428380187416, 0...</td>\n",
       "      <td>[[0.0, 0.150522088353, 0.150575635877, 0.15057...</td>\n",
       "    </tr>\n",
       "    <tr>\n",
       "      <th>5</th>\n",
       "      <td>[[0.0, 0.572208835341, 0.614511378849, 0.63839...</td>\n",
       "      <td>[[0.0, 0.502168674699, 0.504899598394, 0.50945...</td>\n",
       "      <td>[[0.0, 0.963319946452, 0.96358768407, 0.965033...</td>\n",
       "      <td>[[0.0, 0.000107095046854, 0.000160642570281, 0...</td>\n",
       "      <td>[[0.0, 0.191860776439, 0.191914323963, 0.19191...</td>\n",
       "    </tr>\n",
       "    <tr>\n",
       "      <th>6</th>\n",
       "      <td>[[0.0, 0.820187416332, 0.846800535475, 0.85933...</td>\n",
       "      <td>[[0.0, 0.531834002677, 0.536278447122, 0.54281...</td>\n",
       "      <td>[[0.0, 0.960428380187, 0.960481927711, 0.96133...</td>\n",
       "      <td>[[0.0, 0.000107095046854, 0.000428380187416, 0...</td>\n",
       "      <td>[[0.0, 0.133172690763, 0.133172690763, 0.16160...</td>\n",
       "    </tr>\n",
       "    <tr>\n",
       "      <th>7</th>\n",
       "      <td>[[0.0, 0.892423025435, 0.910682730924, 0.91839...</td>\n",
       "      <td>[[0.0, 0.444551539491, 0.450013386881, 0.45188...</td>\n",
       "      <td>[[0.0, 0.969156626506, 0.969156626506, 0.96921...</td>\n",
       "      <td>[[0.0, 5.3547523427e-05, 5.3547523427e-05, 5.3...</td>\n",
       "      <td>[[0.0, 5.3547523427e-05, 5.3547523427e-05, 0.0...</td>\n",
       "    </tr>\n",
       "    <tr>\n",
       "      <th>8</th>\n",
       "      <td>[[0.0, 0.916519410977, 0.92953145917, 0.937617...</td>\n",
       "      <td>[[0.0, 0.531887550201, 0.537777777778, 0.54024...</td>\n",
       "      <td>[[0.0, 0.972690763052, 0.972797858099, 0.97370...</td>\n",
       "      <td>[[0.0, 0.000160642570281, 0.000214190093708, 0...</td>\n",
       "      <td>[[0.0, 1.0], [0.0, 1.0], [1.53550840906, 0.535...</td>\n",
       "    </tr>\n",
       "    <tr>\n",
       "      <th>9</th>\n",
       "      <td>[[0.0, 0.904820567756, 0.911730048206, 0.91751...</td>\n",
       "      <td>[[0.0, 0.634600964114, 0.641778253883, 0.64509...</td>\n",
       "      <td>[[0.0, 0.956400642742, 0.956454204606, 0.95650...</td>\n",
       "      <td>[[0.0, 0.0, 0.0, 5.35618639529e-05, 0.00010712...</td>\n",
       "      <td>[[0.0, 0.916336368506, 0.916764863417, 0.91692...</td>\n",
       "    </tr>\n",
       "  </tbody>\n",
       "</table>\n",
       "</div>"
      ],
      "text/plain": [
       "                                KNeighborsClassifier  \\\n",
       "0  [[0.0, 0.9940562249, 0.995287817938, 0.9958232...   \n",
       "1  [[0.0, 0.956680053548, 0.964551539491, 0.97135...   \n",
       "2  [[0.0, 0.919732262383, 0.925140562249, 0.92953...   \n",
       "3  [[0.0, 0.881981258367, 0.888085676037, 0.89386...   \n",
       "4  [[0.0, 0.804016064257, 0.826613119143, 0.84016...   \n",
       "5  [[0.0, 0.572208835341, 0.614511378849, 0.63839...   \n",
       "6  [[0.0, 0.820187416332, 0.846800535475, 0.85933...   \n",
       "7  [[0.0, 0.892423025435, 0.910682730924, 0.91839...   \n",
       "8  [[0.0, 0.916519410977, 0.92953145917, 0.937617...   \n",
       "9  [[0.0, 0.904820567756, 0.911730048206, 0.91751...   \n",
       "\n",
       "                                          GaussianNB  \\\n",
       "0  [[0.0, 5.3547523427e-05, 5.3547523427e-05, 0.0...   \n",
       "1  [[0.0, 0.00160642570281, 0.00160642570281, 0.0...   \n",
       "2  [[0.0, 0.58655957162, 0.592985274431, 0.596840...   \n",
       "3  [[0.0, 0.652476572959, 0.65686746988, 0.659651...   \n",
       "4  [[0.0, 0.55453815261, 0.557858099063, 0.561178...   \n",
       "5  [[0.0, 0.502168674699, 0.504899598394, 0.50945...   \n",
       "6  [[0.0, 0.531834002677, 0.536278447122, 0.54281...   \n",
       "7  [[0.0, 0.444551539491, 0.450013386881, 0.45188...   \n",
       "8  [[0.0, 0.531887550201, 0.537777777778, 0.54024...   \n",
       "9  [[0.0, 0.634600964114, 0.641778253883, 0.64509...   \n",
       "\n",
       "                              DecisionTreeClassifier  \\\n",
       "0  [[0.0, 0.998982597055, 1.0], [0.0, 0.998072289...   \n",
       "1  [[0.0, 0.993038821954, 0.993199464525, 0.99319...   \n",
       "2  [[0.0, 0.973868808568, 0.974082998661, 0.97429...   \n",
       "3  [[0.0, 0.958714859438, 0.958714859438, 0.96074...   \n",
       "4  [[0.0, 0.959732262383, 0.959785809906, 0.95978...   \n",
       "5  [[0.0, 0.963319946452, 0.96358768407, 0.965033...   \n",
       "6  [[0.0, 0.960428380187, 0.960481927711, 0.96133...   \n",
       "7  [[0.0, 0.969156626506, 0.969156626506, 0.96921...   \n",
       "8  [[0.0, 0.972690763052, 0.972797858099, 0.97370...   \n",
       "9  [[0.0, 0.956400642742, 0.956454204606, 0.95650...   \n",
       "\n",
       "                                                 SVM  \\\n",
       "0  [[0.0, 5.3547523427e-05, 5.3547523427e-05, 5.3...   \n",
       "1  [[0.0, 5.3547523427e-05, 0.000107095046854, 0....   \n",
       "2  [[0.0, 0.000214190093708, 0.000321285140562, 0...   \n",
       "3  [[0.0, 0.000107095046854, 0.000267737617135, 0...   \n",
       "4  [[0.0, 0.000160642570281, 0.000428380187416, 0...   \n",
       "5  [[0.0, 0.000107095046854, 0.000160642570281, 0...   \n",
       "6  [[0.0, 0.000107095046854, 0.000428380187416, 0...   \n",
       "7  [[0.0, 5.3547523427e-05, 5.3547523427e-05, 5.3...   \n",
       "8  [[0.0, 0.000160642570281, 0.000214190093708, 0...   \n",
       "9  [[0.0, 0.0, 0.0, 5.35618639529e-05, 0.00010712...   \n",
       "\n",
       "                                                 MLP  \n",
       "0  [[0.0, 0.164283801874, 0.164283801874, 0.16433...  \n",
       "1  [[0.0, 0.00176706827309, 0.0033734939759, 0.00...  \n",
       "2  [[0.0, 0.00176706827309, 0.0033734939759, 0.00...  \n",
       "3  [[0.0, 0.00176706827309, 0.0033734939759, 0.00...  \n",
       "4  [[0.0, 0.150522088353, 0.150575635877, 0.15057...  \n",
       "5  [[0.0, 0.191860776439, 0.191914323963, 0.19191...  \n",
       "6  [[0.0, 0.133172690763, 0.133172690763, 0.16160...  \n",
       "7  [[0.0, 5.3547523427e-05, 5.3547523427e-05, 0.0...  \n",
       "8  [[0.0, 1.0], [0.0, 1.0], [1.53550840906, 0.535...  \n",
       "9  [[0.0, 0.916336368506, 0.916764863417, 0.91692...  "
      ]
     },
     "execution_count": 130,
     "metadata": {},
     "output_type": "execute_result"
    }
   ],
   "source": [
    "rocUDDF = pd.DataFrame.from_dict(rocUD, 'index')\n",
    "rocUDDF.rename(columns={0:'KNeighborsClassifier', 1: 'GaussianNB', 2: 'DecisionTreeClassifier', 3:'SVM', 4:'MLP'})"
   ]
  },
  {
   "cell_type": "code",
   "execution_count": 131,
   "metadata": {},
   "outputs": [
    {
     "data": {
      "image/png": "[encoded data removed]",
      "text/plain": [
       "<matplotlib.figure.Figure at 0x1284ab710>"
      ]
     },
     "metadata": {},
     "output_type": "display_data"
    }
   ],
   "source": [
    "aucUDScores = getAUCScore(rocUDDF)\n",
    "\n",
    "plotROC(rocUDDF)"
   ]
  },
  {
   "cell_type": "code",
   "execution_count": 132,
   "metadata": {},
   "outputs": [
    {
     "data": {
      "text/plain": [
       "<matplotlib.axes._subplots.AxesSubplot at 0x11d15c6a0>"
      ]
     },
     "execution_count": 132,
     "metadata": {},
     "output_type": "execute_result"
    },
    {
     "data": {
      "image/png": "[encoded data removed]",
      "text/plain": [
       "<matplotlib.figure.Figure at 0x11c187cf8>"
      ]
     },
     "metadata": {},
     "output_type": "display_data"
    }
   ],
   "source": [
    "aucUDDF = pd.DataFrame.from_dict(aucUCScores, 'index')\n",
    "aucUDDF = aucUDDF.rename(columns={0:'KNN', 1: 'NB', 2: 'DT', 3:'SVM', 4:'MLP'})\n",
    "\n",
    "knnUDList = list(aucUDDF['KNN'])\n",
    "gnbUDList = list(aucUDDF['NB'])\n",
    "dtUDList = list(aucUDDF['DT'])\n",
    "svmUDList = list(aucUDDF['SVM'])\n",
    "mplUDList = list(aucUDDF['MLP'])\n",
    "\n",
    "\n",
    "\n",
    "#stats.ttest_rel(knnUCList, mplUCList) #shows us the bigger picture from the number\n",
    "\n",
    "\n",
    "aucUDDes = aucUDDF.describe()\n",
    "\n",
    "aucUDMean = pd.Series.to_frame(aucUDDes.loc[aucUDDes.index[1]])\n",
    "aucUDSTD = pd.Series.to_frame(aucUDDes.loc[aucUDDes.index[2]])\n",
    "\n",
    "aucUDDF.plot(kind='box', title='AUC Mean', ylim=(0, 1))"
   ]
  },
  {
   "cell_type": "code",
   "execution_count": 133,
   "metadata": {
    "collapsed": true
   },
   "outputs": [],
   "source": [
    "aucUDDF.to_csv('created_data/AUC_Scores/UD_auc.csv', encoding='utf-8')"
   ]
  },
  {
   "cell_type": "markdown",
   "metadata": {
    "collapsed": true
   },
   "source": [
    "# UC + UN\n",
    "\n",
    "User Content for polluters appears to have the smallest size, at a length of 15750. Because of this I will be using the user IDs from this dataframe for all the other data frames. Even when UC is not being used, I will slim down the size of the other data sets so that there is no over optimization.\n",
    "\n",
    "Again we can see that the legit users are also confined by the UC data. So we must grab all of these IDs as well. "
   ]
  },
  {
   "cell_type": "code",
   "execution_count": 134,
   "metadata": {
    "collapsed": true
   },
   "outputs": [],
   "source": [
    "## Below is a set of the ids that should be used for all polluters\n",
    "polUserIDs = set(dfPolUC.index)\n",
    "legUserIDs = set(dfLegUC.index)\n",
    "\n",
    "dfPolCN = pd.concat([dfPolUC, dfPolUN], axis=1)\n",
    "dfPolCN = dfPolCN.dropna(axis=0)\n",
    "\n",
    "dfLegCN = pd.concat([dfLegUC, dfLegUN], axis=1)\n",
    "dfLegCN = dfLegCN.dropna(axis=0)"
   ]
  },
  {
   "cell_type": "markdown",
   "metadata": {},
   "source": [
    "Below is just verifying that the above use of getting all user IDs from the UC data will give me all of the proper IDs. I verify this by checking it against the combined dataframe of Content and Network. Printing false only if there is an ID in the data that should not be there. This is also repeated for the legit users. "
   ]
  },
  {
   "cell_type": "code",
   "execution_count": 135,
   "metadata": {
    "collapsed": true
   },
   "outputs": [],
   "source": [
    "for row, index in dfPolCN.iterrows():\n",
    "    if row not in polUserIDs:\n",
    "        print(False)\n",
    "for row, index in dfLegCN.iterrows():\n",
    "    if row not in legUserIDs:\n",
    "        print(False)"
   ]
  },
  {
   "cell_type": "code",
   "execution_count": 136,
   "metadata": {},
   "outputs": [],
   "source": [
    "rocCN = getROC(dfPolCN, dfLegCN, 10)\n",
    "\n",
    "## Back to the NaN error. Need to understand where this is coming from\n",
    "\n",
    "# I know that this is coming from the UC data though"
   ]
  },
  {
   "cell_type": "code",
   "execution_count": 138,
   "metadata": {},
   "outputs": [
    {
     "data": {
      "text/html": [
       "<div>\n",
       "<style>\n",
       "    .dataframe thead tr:only-child th {\n",
       "        text-align: right;\n",
       "    }\n",
       "\n",
       "    .dataframe thead th {\n",
       "        text-align: left;\n",
       "    }\n",
       "\n",
       "    .dataframe tbody tr th {\n",
       "        vertical-align: top;\n",
       "    }\n",
       "</style>\n",
       "<table border=\"1\" class=\"dataframe\">\n",
       "  <thead>\n",
       "    <tr style=\"text-align: right;\">\n",
       "      <th></th>\n",
       "      <th>KNeighborsClassifier</th>\n",
       "      <th>GaussianNB</th>\n",
       "      <th>DecisionTreeClassifier</th>\n",
       "      <th>SVM</th>\n",
       "      <th>MLP</th>\n",
       "    </tr>\n",
       "  </thead>\n",
       "  <tbody>\n",
       "    <tr>\n",
       "      <th>0</th>\n",
       "      <td>[[0.0, 0.0103436988543, 0.01852700491, 0.02592...</td>\n",
       "      <td>[[0.0, 0.00157119476268, 0.00157119476268, 0.0...</td>\n",
       "      <td>[[0.0, 0.151031096563, 1.0], [0.0, 0.773500916...</td>\n",
       "      <td>[[0.0, 6.54664484452e-05, 0.000261865793781, 0...</td>\n",
       "      <td>[[0.0, 0.00530278232406, 0.00576104746318, 0.0...</td>\n",
       "    </tr>\n",
       "    <tr>\n",
       "      <th>1</th>\n",
       "      <td>[[0.0, 0.00425531914894, 0.0134206219313, 0.02...</td>\n",
       "      <td>[[0.0, 0.00222585924714, 0.00222585924714, 0.0...</td>\n",
       "      <td>[[0.0, 0.140556464812, 1.0], [0.0, 0.727611940...</td>\n",
       "      <td>[[0.0, 6.54664484452e-05, 0.00124386252046, 0....</td>\n",
       "      <td>[[0.0, 0.000458265139116, 0.000458265139116, 0...</td>\n",
       "    </tr>\n",
       "    <tr>\n",
       "      <th>2</th>\n",
       "      <td>[[0.0, 0.00805237315876, 0.0192471358429, 0.02...</td>\n",
       "      <td>[[0.0, 0.00909983633388, 0.00929623567921, 0.0...</td>\n",
       "      <td>[[0.0, 0.145662847791, 1.0], [0.0, 0.786069651...</td>\n",
       "      <td>[[0.0, 6.54664484452e-05, 0.00707037643208, 0....</td>\n",
       "      <td>[[0.0, 0.00124386252046, 0.0013093289689, 0.00...</td>\n",
       "    </tr>\n",
       "    <tr>\n",
       "      <th>3</th>\n",
       "      <td>[[0.0, 0.014271685761, 0.0280196399345, 0.0390...</td>\n",
       "      <td>[[0.0, 0.00903436988543, 0.00929623567921, 0.0...</td>\n",
       "      <td>[[0.0, 0.147168576105, 1.0], [0.0, 0.800274941...</td>\n",
       "      <td>[[0.0, 6.54664484452e-05, 6.54664484452e-05, 0...</td>\n",
       "      <td>[[0.0, 0.00209492635025, 0.00216039279869, 0.0...</td>\n",
       "    </tr>\n",
       "    <tr>\n",
       "      <th>4</th>\n",
       "      <td>[[0.0, 0.00916530278232, 0.0225859247136, 0.03...</td>\n",
       "      <td>[[0.0, 0.00713584288052, 0.00720130932897, 0.0...</td>\n",
       "      <td>[[0.0, 0.140425531915, 1.0], [0.0, 0.784825870...</td>\n",
       "      <td>[[0.0, 0.0, 6.54664484452e-05, 6.54664484452e-...</td>\n",
       "      <td>[[0.0, 0.00163666121113, 0.00163666121113, 0.0...</td>\n",
       "    </tr>\n",
       "    <tr>\n",
       "      <th>5</th>\n",
       "      <td>[[0.0, 0.0094271685761, 0.0188543371522, 0.027...</td>\n",
       "      <td>[[0.0, 0.012504091653, 0.0128314238953, 0.0130...</td>\n",
       "      <td>[[0.0, 0.120458265139, 1.0], [0.0, 0.739591516...</td>\n",
       "      <td>[[0.0, 0.0, 0.00013093289689, 0.00013093289689...</td>\n",
       "      <td>[[0.0, 0.00209492635025, 0.00209492635025, 0.0...</td>\n",
       "    </tr>\n",
       "    <tr>\n",
       "      <th>6</th>\n",
       "      <td>[[0.0, 0.00968903436989, 0.0184615384615, 0.02...</td>\n",
       "      <td>[[0.0, 0.00831423895254, 0.00851063829787, 0.0...</td>\n",
       "      <td>[[0.0, 0.121833060556, 1.0], [0.0, 0.743977481...</td>\n",
       "      <td>[[0.0, 6.54664484452e-05, 0.000196399345336, 0...</td>\n",
       "      <td>[[0.0, 0.00242225859247, 0.00248772504092, 0.0...</td>\n",
       "    </tr>\n",
       "    <tr>\n",
       "      <th>7</th>\n",
       "      <td>[[0.0, 0.00687397708674, 0.0131587561375, 0.01...</td>\n",
       "      <td>[[0.0, 0.0106710310966, 0.0108019639935, 0.011...</td>\n",
       "      <td>[[0.0, 0.112733224223, 1.0], [0.0, 0.707318669...</td>\n",
       "      <td>[[0.0, 0.0, 6.54664484452e-05, 6.54664484452e-...</td>\n",
       "      <td>[[0.0, 0.00229132569558, 0.00229132569558, 0.0...</td>\n",
       "    </tr>\n",
       "    <tr>\n",
       "      <th>8</th>\n",
       "      <td>[[0.0, 0.0047790507365, 0.0127659574468, 0.021...</td>\n",
       "      <td>[[0.0, 0.00517184942717, 0.00530278232406, 0.0...</td>\n",
       "      <td>[[0.0, 0.119279869067, 1.0], [0.0, 0.699528672...</td>\n",
       "      <td>[[0.0, 0.0, 0.00013093289689, 0.00013093289689...</td>\n",
       "      <td>[[0.0, 0.00268412438625, 0.00268412438625, 0.0...</td>\n",
       "    </tr>\n",
       "    <tr>\n",
       "      <th>9</th>\n",
       "      <td>[[0.0, 0.00157140051071, 0.0041249263406, 0.01...</td>\n",
       "      <td>[[0.0, 0.0295947096183, 0.029987559746, 0.0301...</td>\n",
       "      <td>[[0.0, 0.187454985923, 1.0], [0.0, 0.702285078...</td>\n",
       "      <td>[[0.0, 0.0, 6.54750212794e-05, 6.54750212794e-...</td>\n",
       "      <td>[[0.0, 0.000589275191514, 0.000654750212794, 0...</td>\n",
       "    </tr>\n",
       "  </tbody>\n",
       "</table>\n",
       "</div>"
      ],
      "text/plain": [
       "                                KNeighborsClassifier  \\\n",
       "0  [[0.0, 0.0103436988543, 0.01852700491, 0.02592...   \n",
       "1  [[0.0, 0.00425531914894, 0.0134206219313, 0.02...   \n",
       "2  [[0.0, 0.00805237315876, 0.0192471358429, 0.02...   \n",
       "3  [[0.0, 0.014271685761, 0.0280196399345, 0.0390...   \n",
       "4  [[0.0, 0.00916530278232, 0.0225859247136, 0.03...   \n",
       "5  [[0.0, 0.0094271685761, 0.0188543371522, 0.027...   \n",
       "6  [[0.0, 0.00968903436989, 0.0184615384615, 0.02...   \n",
       "7  [[0.0, 0.00687397708674, 0.0131587561375, 0.01...   \n",
       "8  [[0.0, 0.0047790507365, 0.0127659574468, 0.021...   \n",
       "9  [[0.0, 0.00157140051071, 0.0041249263406, 0.01...   \n",
       "\n",
       "                                          GaussianNB  \\\n",
       "0  [[0.0, 0.00157119476268, 0.00157119476268, 0.0...   \n",
       "1  [[0.0, 0.00222585924714, 0.00222585924714, 0.0...   \n",
       "2  [[0.0, 0.00909983633388, 0.00929623567921, 0.0...   \n",
       "3  [[0.0, 0.00903436988543, 0.00929623567921, 0.0...   \n",
       "4  [[0.0, 0.00713584288052, 0.00720130932897, 0.0...   \n",
       "5  [[0.0, 0.012504091653, 0.0128314238953, 0.0130...   \n",
       "6  [[0.0, 0.00831423895254, 0.00851063829787, 0.0...   \n",
       "7  [[0.0, 0.0106710310966, 0.0108019639935, 0.011...   \n",
       "8  [[0.0, 0.00517184942717, 0.00530278232406, 0.0...   \n",
       "9  [[0.0, 0.0295947096183, 0.029987559746, 0.0301...   \n",
       "\n",
       "                              DecisionTreeClassifier  \\\n",
       "0  [[0.0, 0.151031096563, 1.0], [0.0, 0.773500916...   \n",
       "1  [[0.0, 0.140556464812, 1.0], [0.0, 0.727611940...   \n",
       "2  [[0.0, 0.145662847791, 1.0], [0.0, 0.786069651...   \n",
       "3  [[0.0, 0.147168576105, 1.0], [0.0, 0.800274941...   \n",
       "4  [[0.0, 0.140425531915, 1.0], [0.0, 0.784825870...   \n",
       "5  [[0.0, 0.120458265139, 1.0], [0.0, 0.739591516...   \n",
       "6  [[0.0, 0.121833060556, 1.0], [0.0, 0.743977481...   \n",
       "7  [[0.0, 0.112733224223, 1.0], [0.0, 0.707318669...   \n",
       "8  [[0.0, 0.119279869067, 1.0], [0.0, 0.699528672...   \n",
       "9  [[0.0, 0.187454985923, 1.0], [0.0, 0.702285078...   \n",
       "\n",
       "                                                 SVM  \\\n",
       "0  [[0.0, 6.54664484452e-05, 0.000261865793781, 0...   \n",
       "1  [[0.0, 6.54664484452e-05, 0.00124386252046, 0....   \n",
       "2  [[0.0, 6.54664484452e-05, 0.00707037643208, 0....   \n",
       "3  [[0.0, 6.54664484452e-05, 6.54664484452e-05, 0...   \n",
       "4  [[0.0, 0.0, 6.54664484452e-05, 6.54664484452e-...   \n",
       "5  [[0.0, 0.0, 0.00013093289689, 0.00013093289689...   \n",
       "6  [[0.0, 6.54664484452e-05, 0.000196399345336, 0...   \n",
       "7  [[0.0, 0.0, 6.54664484452e-05, 6.54664484452e-...   \n",
       "8  [[0.0, 0.0, 0.00013093289689, 0.00013093289689...   \n",
       "9  [[0.0, 0.0, 6.54750212794e-05, 6.54750212794e-...   \n",
       "\n",
       "                                                 MLP  \n",
       "0  [[0.0, 0.00530278232406, 0.00576104746318, 0.0...  \n",
       "1  [[0.0, 0.000458265139116, 0.000458265139116, 0...  \n",
       "2  [[0.0, 0.00124386252046, 0.0013093289689, 0.00...  \n",
       "3  [[0.0, 0.00209492635025, 0.00216039279869, 0.0...  \n",
       "4  [[0.0, 0.00163666121113, 0.00163666121113, 0.0...  \n",
       "5  [[0.0, 0.00209492635025, 0.00209492635025, 0.0...  \n",
       "6  [[0.0, 0.00242225859247, 0.00248772504092, 0.0...  \n",
       "7  [[0.0, 0.00229132569558, 0.00229132569558, 0.0...  \n",
       "8  [[0.0, 0.00268412438625, 0.00268412438625, 0.0...  \n",
       "9  [[0.0, 0.000589275191514, 0.000654750212794, 0...  "
      ]
     },
     "execution_count": 138,
     "metadata": {},
     "output_type": "execute_result"
    }
   ],
   "source": [
    "rocCNDF = pd.DataFrame.from_dict(rocCN, 'index')\n",
    "rocCNDF.rename(columns={0:'KNeighborsClassifier', 1: 'GaussianNB', 2: 'DecisionTreeClassifier', 3:'SVM', 4:'MLP'})"
   ]
  },
  {
   "cell_type": "code",
   "execution_count": 139,
   "metadata": {},
   "outputs": [
    {
     "data": {
      "image/png": "[encoded data removed]",
      "text/plain": [
       "<matplotlib.figure.Figure at 0x1268ce320>"
      ]
     },
     "metadata": {},
     "output_type": "display_data"
    }
   ],
   "source": [
    "aucCNScores = getAUCScore(rocCNDF)\n",
    "\n",
    "plotROC(rocCNDF)"
   ]
  },
  {
   "cell_type": "code",
   "execution_count": 140,
   "metadata": {},
   "outputs": [
    {
     "data": {
      "text/plain": [
       "<matplotlib.axes._subplots.AxesSubplot at 0x11cf77c18>"
      ]
     },
     "execution_count": 140,
     "metadata": {},
     "output_type": "execute_result"
    },
    {
     "data": {
      "image/png": "[encoded data removed]",
      "text/plain": [
       "<matplotlib.figure.Figure at 0x12754eba8>"
      ]
     },
     "metadata": {},
     "output_type": "display_data"
    }
   ],
   "source": [
    "aucCNDF = pd.DataFrame.from_dict(aucCNScores, 'index')\n",
    "aucCNDF = aucCNDF.rename(columns={0:'KNN', 1: 'NB', 2: 'DT', 3:'SVM', 4:'MLP'})\n",
    "\n",
    "knnCNList = list(aucCNDF['KNN'])\n",
    "gnbCNList = list(aucCNDF['NB'])\n",
    "dtCNList = list(aucCNDF['DT'])\n",
    "svmCNList = list(aucCNDF['SVM'])\n",
    "mplCNList = list(aucCNDF['MLP'])\n",
    "\n",
    "\n",
    "\n",
    "stats.ttest_rel(knnCNList, mplCNList) #shows us the bigger picture from the number\n",
    "\n",
    "\n",
    "aucCNDes = aucCNDF.describe()\n",
    "\n",
    "aucCNMean = pd.Series.to_frame(aucCNDes.loc[aucCNDes.index[1]])\n",
    "aucCNSTD = pd.Series.to_frame(aucCNDes.loc[aucCNDes.index[2]])\n",
    "\n",
    "aucCNDF.plot(kind='box', title='AUC Mean', ylim=(0, 1))"
   ]
  },
  {
   "cell_type": "code",
   "execution_count": 91,
   "metadata": {},
   "outputs": [],
   "source": [
    "aucCNDF.to_csv('created_data/AUC_Scores/UCUN_auc.csv', encoding='utf-8')"
   ]
  },
  {
   "cell_type": "markdown",
   "metadata": {},
   "source": [
    "# UC + UD"
   ]
  },
  {
   "cell_type": "code",
   "execution_count": 141,
   "metadata": {
    "collapsed": true
   },
   "outputs": [],
   "source": [
    "dfPolCD = pd.concat([dfPolUC, dfPolUD], axis=1)\n",
    "dfPolCD = dfPolCN.dropna(axis=0)\n",
    "\n",
    "dfLegCD = pd.concat([dfLegUC, dfLegUD], axis=1)\n",
    "dfLegCD = dfLegCN.dropna(axis=0)"
   ]
  },
  {
   "cell_type": "code",
   "execution_count": 142,
   "metadata": {
    "collapsed": true
   },
   "outputs": [],
   "source": [
    "for row, index in dfPolCD.iterrows():\n",
    "    if row not in polUserIDs:\n",
    "        print(False)\n",
    "for row, index in dfLegCD.iterrows():\n",
    "    if row not in legUserIDs:\n",
    "        print(False)"
   ]
  },
  {
   "cell_type": "code",
   "execution_count": 143,
   "metadata": {
    "collapsed": true
   },
   "outputs": [],
   "source": [
    "rocCD = getROC(dfPolCD, dfLegCD, 10)\n",
    "\n",
    "## SAME ERROR AS ABOVE"
   ]
  },
  {
   "cell_type": "code",
   "execution_count": 144,
   "metadata": {},
   "outputs": [
    {
     "data": {
      "text/html": [
       "<div>\n",
       "<style>\n",
       "    .dataframe thead tr:only-child th {\n",
       "        text-align: right;\n",
       "    }\n",
       "\n",
       "    .dataframe thead th {\n",
       "        text-align: left;\n",
       "    }\n",
       "\n",
       "    .dataframe tbody tr th {\n",
       "        vertical-align: top;\n",
       "    }\n",
       "</style>\n",
       "<table border=\"1\" class=\"dataframe\">\n",
       "  <thead>\n",
       "    <tr style=\"text-align: right;\">\n",
       "      <th></th>\n",
       "      <th>KNeighborsClassifier</th>\n",
       "      <th>GaussianNB</th>\n",
       "      <th>DecisionTreeClassifier</th>\n",
       "      <th>SVM</th>\n",
       "      <th>MLP</th>\n",
       "    </tr>\n",
       "  </thead>\n",
       "  <tbody>\n",
       "    <tr>\n",
       "      <th>0</th>\n",
       "      <td>[[0.0, 0.0103436988543, 0.01852700491, 0.02592...</td>\n",
       "      <td>[[0.0, 0.00157119476268, 0.00157119476268, 0.0...</td>\n",
       "      <td>[[0.0, 0.151031096563, 1.0], [0.0, 0.773500916...</td>\n",
       "      <td>[[0.0, 6.54664484452e-05, 0.000261865793781, 0...</td>\n",
       "      <td>[[0.0, 0.00530278232406, 0.00576104746318, 0.0...</td>\n",
       "    </tr>\n",
       "    <tr>\n",
       "      <th>1</th>\n",
       "      <td>[[0.0, 0.00425531914894, 0.0134206219313, 0.02...</td>\n",
       "      <td>[[0.0, 0.00222585924714, 0.00222585924714, 0.0...</td>\n",
       "      <td>[[0.0, 0.140556464812, 1.0], [0.0, 0.727611940...</td>\n",
       "      <td>[[0.0, 6.54664484452e-05, 0.00124386252046, 0....</td>\n",
       "      <td>[[0.0, 0.000458265139116, 0.000458265139116, 0...</td>\n",
       "    </tr>\n",
       "    <tr>\n",
       "      <th>2</th>\n",
       "      <td>[[0.0, 0.00805237315876, 0.0192471358429, 0.02...</td>\n",
       "      <td>[[0.0, 0.00909983633388, 0.00929623567921, 0.0...</td>\n",
       "      <td>[[0.0, 0.145662847791, 1.0], [0.0, 0.786069651...</td>\n",
       "      <td>[[0.0, 0.0, 0.0, 0.0, 6.54664484452e-05, 6.546...</td>\n",
       "      <td>[[0.0, 0.00124386252046, 0.0013093289689, 0.00...</td>\n",
       "    </tr>\n",
       "    <tr>\n",
       "      <th>3</th>\n",
       "      <td>[[0.0, 0.014271685761, 0.0280196399345, 0.0390...</td>\n",
       "      <td>[[0.0, 0.00903436988543, 0.00929623567921, 0.0...</td>\n",
       "      <td>[[0.0, 0.147168576105, 1.0], [0.0, 0.800274941...</td>\n",
       "      <td>[[0.0, 6.54664484452e-05, 0.00176759410802, 0....</td>\n",
       "      <td>[[0.0, 0.00209492635025, 0.00216039279869, 0.0...</td>\n",
       "    </tr>\n",
       "    <tr>\n",
       "      <th>4</th>\n",
       "      <td>[[0.0, 0.00916530278232, 0.0225859247136, 0.03...</td>\n",
       "      <td>[[0.0, 0.00713584288052, 0.00720130932897, 0.0...</td>\n",
       "      <td>[[0.0, 0.140425531915, 1.0], [0.0, 0.784825870...</td>\n",
       "      <td>[[0.0, 0.0, 6.54664484452e-05, 6.54664484452e-...</td>\n",
       "      <td>[[0.0, 0.00163666121113, 0.00163666121113, 0.0...</td>\n",
       "    </tr>\n",
       "    <tr>\n",
       "      <th>5</th>\n",
       "      <td>[[0.0, 0.0094271685761, 0.0188543371522, 0.027...</td>\n",
       "      <td>[[0.0, 0.012504091653, 0.0128314238953, 0.0130...</td>\n",
       "      <td>[[0.0, 0.120458265139, 1.0], [0.0, 0.739591516...</td>\n",
       "      <td>[[0.0, 0.0, 0.00013093289689, 0.00013093289689...</td>\n",
       "      <td>[[0.0, 0.00209492635025, 0.00209492635025, 0.0...</td>\n",
       "    </tr>\n",
       "    <tr>\n",
       "      <th>6</th>\n",
       "      <td>[[0.0, 0.00968903436989, 0.0184615384615, 0.02...</td>\n",
       "      <td>[[0.0, 0.00831423895254, 0.00851063829787, 0.0...</td>\n",
       "      <td>[[0.0, 0.121833060556, 1.0], [0.0, 0.743977481...</td>\n",
       "      <td>[[0.0, 6.54664484452e-05, 0.000196399345336, 0...</td>\n",
       "      <td>[[0.0, 0.00242225859247, 0.00248772504092, 0.0...</td>\n",
       "    </tr>\n",
       "    <tr>\n",
       "      <th>7</th>\n",
       "      <td>[[0.0, 0.00687397708674, 0.0131587561375, 0.01...</td>\n",
       "      <td>[[0.0, 0.0106710310966, 0.0108019639935, 0.011...</td>\n",
       "      <td>[[0.0, 0.112733224223, 1.0], [0.0, 0.707318669...</td>\n",
       "      <td>[[0.0, 0.0, 6.54664484452e-05, 6.54664484452e-...</td>\n",
       "      <td>[[0.0, 0.00229132569558, 0.00229132569558, 0.0...</td>\n",
       "    </tr>\n",
       "    <tr>\n",
       "      <th>8</th>\n",
       "      <td>[[0.0, 0.0047790507365, 0.0127659574468, 0.021...</td>\n",
       "      <td>[[0.0, 0.00517184942717, 0.00530278232406, 0.0...</td>\n",
       "      <td>[[0.0, 0.119279869067, 1.0], [0.0, 0.699528672...</td>\n",
       "      <td>[[0.0, 0.00013093289689, 0.00013093289689, 0.0...</td>\n",
       "      <td>[[0.0, 0.00268412438625, 0.00268412438625, 0.0...</td>\n",
       "    </tr>\n",
       "    <tr>\n",
       "      <th>9</th>\n",
       "      <td>[[0.0, 0.00157140051071, 0.0041249263406, 0.01...</td>\n",
       "      <td>[[0.0, 0.0295947096183, 0.029987559746, 0.0301...</td>\n",
       "      <td>[[0.0, 0.187454985923, 1.0], [0.0, 0.702285078...</td>\n",
       "      <td>[[0.0, 0.0, 6.54750212794e-05, 6.54750212794e-...</td>\n",
       "      <td>[[0.0, 0.000589275191514, 0.000654750212794, 0...</td>\n",
       "    </tr>\n",
       "  </tbody>\n",
       "</table>\n",
       "</div>"
      ],
      "text/plain": [
       "                                KNeighborsClassifier  \\\n",
       "0  [[0.0, 0.0103436988543, 0.01852700491, 0.02592...   \n",
       "1  [[0.0, 0.00425531914894, 0.0134206219313, 0.02...   \n",
       "2  [[0.0, 0.00805237315876, 0.0192471358429, 0.02...   \n",
       "3  [[0.0, 0.014271685761, 0.0280196399345, 0.0390...   \n",
       "4  [[0.0, 0.00916530278232, 0.0225859247136, 0.03...   \n",
       "5  [[0.0, 0.0094271685761, 0.0188543371522, 0.027...   \n",
       "6  [[0.0, 0.00968903436989, 0.0184615384615, 0.02...   \n",
       "7  [[0.0, 0.00687397708674, 0.0131587561375, 0.01...   \n",
       "8  [[0.0, 0.0047790507365, 0.0127659574468, 0.021...   \n",
       "9  [[0.0, 0.00157140051071, 0.0041249263406, 0.01...   \n",
       "\n",
       "                                          GaussianNB  \\\n",
       "0  [[0.0, 0.00157119476268, 0.00157119476268, 0.0...   \n",
       "1  [[0.0, 0.00222585924714, 0.00222585924714, 0.0...   \n",
       "2  [[0.0, 0.00909983633388, 0.00929623567921, 0.0...   \n",
       "3  [[0.0, 0.00903436988543, 0.00929623567921, 0.0...   \n",
       "4  [[0.0, 0.00713584288052, 0.00720130932897, 0.0...   \n",
       "5  [[0.0, 0.012504091653, 0.0128314238953, 0.0130...   \n",
       "6  [[0.0, 0.00831423895254, 0.00851063829787, 0.0...   \n",
       "7  [[0.0, 0.0106710310966, 0.0108019639935, 0.011...   \n",
       "8  [[0.0, 0.00517184942717, 0.00530278232406, 0.0...   \n",
       "9  [[0.0, 0.0295947096183, 0.029987559746, 0.0301...   \n",
       "\n",
       "                              DecisionTreeClassifier  \\\n",
       "0  [[0.0, 0.151031096563, 1.0], [0.0, 0.773500916...   \n",
       "1  [[0.0, 0.140556464812, 1.0], [0.0, 0.727611940...   \n",
       "2  [[0.0, 0.145662847791, 1.0], [0.0, 0.786069651...   \n",
       "3  [[0.0, 0.147168576105, 1.0], [0.0, 0.800274941...   \n",
       "4  [[0.0, 0.140425531915, 1.0], [0.0, 0.784825870...   \n",
       "5  [[0.0, 0.120458265139, 1.0], [0.0, 0.739591516...   \n",
       "6  [[0.0, 0.121833060556, 1.0], [0.0, 0.743977481...   \n",
       "7  [[0.0, 0.112733224223, 1.0], [0.0, 0.707318669...   \n",
       "8  [[0.0, 0.119279869067, 1.0], [0.0, 0.699528672...   \n",
       "9  [[0.0, 0.187454985923, 1.0], [0.0, 0.702285078...   \n",
       "\n",
       "                                                 SVM  \\\n",
       "0  [[0.0, 6.54664484452e-05, 0.000261865793781, 0...   \n",
       "1  [[0.0, 6.54664484452e-05, 0.00124386252046, 0....   \n",
       "2  [[0.0, 0.0, 0.0, 0.0, 6.54664484452e-05, 6.546...   \n",
       "3  [[0.0, 6.54664484452e-05, 0.00176759410802, 0....   \n",
       "4  [[0.0, 0.0, 6.54664484452e-05, 6.54664484452e-...   \n",
       "5  [[0.0, 0.0, 0.00013093289689, 0.00013093289689...   \n",
       "6  [[0.0, 6.54664484452e-05, 0.000196399345336, 0...   \n",
       "7  [[0.0, 0.0, 6.54664484452e-05, 6.54664484452e-...   \n",
       "8  [[0.0, 0.00013093289689, 0.00013093289689, 0.0...   \n",
       "9  [[0.0, 0.0, 6.54750212794e-05, 6.54750212794e-...   \n",
       "\n",
       "                                                 MLP  \n",
       "0  [[0.0, 0.00530278232406, 0.00576104746318, 0.0...  \n",
       "1  [[0.0, 0.000458265139116, 0.000458265139116, 0...  \n",
       "2  [[0.0, 0.00124386252046, 0.0013093289689, 0.00...  \n",
       "3  [[0.0, 0.00209492635025, 0.00216039279869, 0.0...  \n",
       "4  [[0.0, 0.00163666121113, 0.00163666121113, 0.0...  \n",
       "5  [[0.0, 0.00209492635025, 0.00209492635025, 0.0...  \n",
       "6  [[0.0, 0.00242225859247, 0.00248772504092, 0.0...  \n",
       "7  [[0.0, 0.00229132569558, 0.00229132569558, 0.0...  \n",
       "8  [[0.0, 0.00268412438625, 0.00268412438625, 0.0...  \n",
       "9  [[0.0, 0.000589275191514, 0.000654750212794, 0...  "
      ]
     },
     "execution_count": 144,
     "metadata": {},
     "output_type": "execute_result"
    }
   ],
   "source": [
    "rocCDDF = pd.DataFrame.from_dict(rocCD, 'index')\n",
    "rocCDDF.rename(columns={0:'KNeighborsClassifier', 1: 'GaussianNB', 2: 'DecisionTreeClassifier', 3:'SVM', 4:'MLP'})"
   ]
  },
  {
   "cell_type": "code",
   "execution_count": 145,
   "metadata": {},
   "outputs": [
    {
     "data": {
      "image/png": "[encoded data removed]",
      "text/plain": [
       "<matplotlib.figure.Figure at 0x11cf98828>"
      ]
     },
     "metadata": {},
     "output_type": "display_data"
    }
   ],
   "source": [
    "aucCDScores = getAUCScore(rocCDDF)\n",
    "\n",
    "plotROC(rocCDDF)"
   ]
  },
  {
   "cell_type": "code",
   "execution_count": 146,
   "metadata": {},
   "outputs": [
    {
     "data": {
      "text/plain": [
       "<matplotlib.axes._subplots.AxesSubplot at 0x1254905c0>"
      ]
     },
     "execution_count": 146,
     "metadata": {},
     "output_type": "execute_result"
    },
    {
     "data": {
      "image/png": "[encoded data removed]",
      "text/plain": [
       "<matplotlib.figure.Figure at 0x11f7bd278>"
      ]
     },
     "metadata": {},
     "output_type": "display_data"
    }
   ],
   "source": [
    "aucCDDF = pd.DataFrame.from_dict(aucCDScores, 'index')\n",
    "aucCDDF = aucCDDF.rename(columns={0:'KNN', 1: 'NB', 2: 'DT', 3:'SVM', 4:'MLP'})\n",
    "\n",
    "knnCDList = list(aucCDDF['KNN'])\n",
    "gnbCDList = list(aucCDDF['NB'])\n",
    "dtCDList = list(aucCDDF['DT'])\n",
    "svmCDList = list(aucCDDF['SVM'])\n",
    "mplCDList = list(aucCDDF['MLP'])\n",
    "\n",
    "\n",
    "\n",
    "stats.ttest_rel(knnCDList, mplCDList) #shows us the bigger picture from the number\n",
    "\n",
    "\n",
    "aucCDDes = aucCDDF.describe()\n",
    "\n",
    "aucCDMean = pd.Series.to_frame(aucCDDes.loc[aucCDDes.index[1]])\n",
    "aucCDSTD = pd.Series.to_frame(aucCDDes.loc[aucCDDes.index[2]])\n",
    "\n",
    "aucCDDF.plot(kind='box', title='AUC Mean', ylim=(0, 1))"
   ]
  },
  {
   "cell_type": "code",
   "execution_count": 147,
   "metadata": {
    "collapsed": true
   },
   "outputs": [],
   "source": [
    "aucCDDF.to_csv('created_data/AUC_Scores/UCUD_auc.csv', encoding='utf-8')"
   ]
  },
  {
   "cell_type": "markdown",
   "metadata": {},
   "source": [
    "# UC + US"
   ]
  },
  {
   "cell_type": "code",
   "execution_count": 148,
   "metadata": {
    "collapsed": true
   },
   "outputs": [],
   "source": [
    "dfPolCS = pd.concat([dfPolUC, dfPolSent], axis=1)\n",
    "dfPolCS = dfPolCS.dropna(axis=0)\n",
    "\n",
    "dfLegCS = pd.concat([dfLegUC, dfLegSent], axis=1)\n",
    "dfLegCS = dfLegCS.dropna(axis=0)"
   ]
  },
  {
   "cell_type": "code",
   "execution_count": 149,
   "metadata": {
    "collapsed": true
   },
   "outputs": [],
   "source": [
    "for row, index in dfPolCS.iterrows():\n",
    "    if row not in polUserIDs:\n",
    "        print(False)\n",
    "for row, index in dfLegCS.iterrows():\n",
    "    if row not in legUserIDs:\n",
    "        print(False)"
   ]
  },
  {
   "cell_type": "code",
   "execution_count": 150,
   "metadata": {
    "collapsed": true
   },
   "outputs": [],
   "source": [
    "rocCS = getROC(dfPolCS, dfLegCS, 10)\n",
    "\n",
    "# THIS CONTAINS THE NaN error or too large of a number. This has to do with UC its self"
   ]
  },
  {
   "cell_type": "code",
   "execution_count": 151,
   "metadata": {},
   "outputs": [
    {
     "data": {
      "text/html": [
       "<div>\n",
       "<style>\n",
       "    .dataframe thead tr:only-child th {\n",
       "        text-align: right;\n",
       "    }\n",
       "\n",
       "    .dataframe thead th {\n",
       "        text-align: left;\n",
       "    }\n",
       "\n",
       "    .dataframe tbody tr th {\n",
       "        vertical-align: top;\n",
       "    }\n",
       "</style>\n",
       "<table border=\"1\" class=\"dataframe\">\n",
       "  <thead>\n",
       "    <tr style=\"text-align: right;\">\n",
       "      <th></th>\n",
       "      <th>KNeighborsClassifier</th>\n",
       "      <th>GaussianNB</th>\n",
       "      <th>DecisionTreeClassifier</th>\n",
       "      <th>SVM</th>\n",
       "      <th>MLP</th>\n",
       "    </tr>\n",
       "  </thead>\n",
       "  <tbody>\n",
       "    <tr>\n",
       "      <th>0</th>\n",
       "      <td>[[0.0, 0.00707037643208, 0.0233715220949, 0.04...</td>\n",
       "      <td>[[0.0, 0.000458265139116, 0.000458265139116, 0...</td>\n",
       "      <td>[[0.0, 0.279279869067, 1.0], [0.0, 0.707122283...</td>\n",
       "      <td>[[0.0, 6.54664484452e-05, 6.54664484452e-05, 0...</td>\n",
       "      <td>[[0.0, 0.999541734861, 0.999541734861, 0.99960...</td>\n",
       "    </tr>\n",
       "    <tr>\n",
       "      <th>1</th>\n",
       "      <td>[[0.0, 0.00648117839607, 0.0146644844517, 0.02...</td>\n",
       "      <td>[[0.0, 0.000261865793781, 0.000261865793781, 0...</td>\n",
       "      <td>[[0.0, 0.312471358429, 1.0], [0.0, 0.662673474...</td>\n",
       "      <td>[[0.0, 6.54664484452e-05, 6.54664484452e-05, 0...</td>\n",
       "      <td>[[0.0, 0.0, 6.54664484452e-05, 6.54664484452e-...</td>\n",
       "    </tr>\n",
       "    <tr>\n",
       "      <th>2</th>\n",
       "      <td>[[0.0, 0.00379705400982, 0.0187234042553, 0.03...</td>\n",
       "      <td>[[0.0, 0.000327332242226, 0.000392798690671, 0...</td>\n",
       "      <td>[[0.0, 0.291325695581, 1.0], [0.0, 0.690363969...</td>\n",
       "      <td>[[0.0, 0.0, 0.00013093289689, 0.00013093289689...</td>\n",
       "      <td>[[0.0, 6.54664484452e-05, 6.54664484452e-05, 0...</td>\n",
       "    </tr>\n",
       "    <tr>\n",
       "      <th>3</th>\n",
       "      <td>[[0.0, 0.00864157119476, 0.0261211129296, 0.05...</td>\n",
       "      <td>[[0.0, 0.000654664484452, 0.000720130932897, 0...</td>\n",
       "      <td>[[0.0, 0.278101472995, 1.0], [0.0, 0.681330191...</td>\n",
       "      <td>[[0.0, 0.0, 6.54664484452e-05, 6.54664484452e-...</td>\n",
       "      <td>[[0.0, 0.0, 0.999869067103, 0.999869067103, 0....</td>\n",
       "    </tr>\n",
       "    <tr>\n",
       "      <th>4</th>\n",
       "      <td>[[0.0, 0.0127004909984, 0.0300490998363, 0.053...</td>\n",
       "      <td>[[0.0, 0.00104746317512, 0.00111292962357, 0.0...</td>\n",
       "      <td>[[0.0, 0.225139116203, 1.0], [0.0, 0.644213144...</td>\n",
       "      <td>[[0.0, 0.0, 6.54664484452e-05, 6.54664484452e-...</td>\n",
       "      <td>[[0.0, 6.54664484452e-05, 6.54664484452e-05, 0...</td>\n",
       "    </tr>\n",
       "    <tr>\n",
       "      <th>5</th>\n",
       "      <td>[[0.0, 0.0112602291326, 0.0272995090016, 0.042...</td>\n",
       "      <td>[[0.0, 0.00117839607201, 0.00124386252046, 0.0...</td>\n",
       "      <td>[[0.0, 0.204582651391, 1.0], [0.0, 0.643034825...</td>\n",
       "      <td>[[0.0, 0.0, 0.00013093289689, 0.00013093289689...</td>\n",
       "      <td>[[0.0, 6.54664484452e-05, 0.999607201309, 0.99...</td>\n",
       "    </tr>\n",
       "    <tr>\n",
       "      <th>6</th>\n",
       "      <td>[[0.0, 0.00981996726678, 0.0236988543372, 0.03...</td>\n",
       "      <td>[[0.0, 0.000916530278232, 0.000981996726678, 0...</td>\n",
       "      <td>[[0.0, 0.189394435352, 1.0], [0.0, 0.628633150...</td>\n",
       "      <td>[[0.0, 6.54664484452e-05, 6.54664484452e-05, 0...</td>\n",
       "      <td>[[0.0, 0.000261865793781, 0.000327332242226, 0...</td>\n",
       "    </tr>\n",
       "    <tr>\n",
       "      <th>7</th>\n",
       "      <td>[[0.0, 0.00733224222586, 0.0189198036007, 0.03...</td>\n",
       "      <td>[[0.0, 0.000981996726678, 0.000981996726678, 0...</td>\n",
       "      <td>[[0.0, 0.208576104746, 1.0], [0.0, 0.630858863...</td>\n",
       "      <td>[[0.0, 6.54664484452e-05, 0.00013093289689, 0....</td>\n",
       "      <td>[[0.0, 6.54664484452e-05, 6.54664484452e-05, 1...</td>\n",
       "    </tr>\n",
       "    <tr>\n",
       "      <th>8</th>\n",
       "      <td>[[0.0, 0.00216039279869, 0.0106055646481, 0.02...</td>\n",
       "      <td>[[0.0, 0.00013093289689, 0.000196399345336, 0....</td>\n",
       "      <td>[[0.0, 0.200261865794, 1.0], [0.0, 0.578554595...</td>\n",
       "      <td>[[0.0, 6.54664484452e-05, 0.00013093289689, 0....</td>\n",
       "      <td>[[0.0, 0.999934533552, 0.999934533552, 1.0], [...</td>\n",
       "    </tr>\n",
       "    <tr>\n",
       "      <th>9</th>\n",
       "      <td>[[0.0, 0.00117855038303, 0.00438682642572, 0.0...</td>\n",
       "      <td>[[0.0, 0.000196425063838, 0.000196425063838, 0...</td>\n",
       "      <td>[[0.0, 0.25947750933, 1.0], [0.0, 0.5916322922...</td>\n",
       "      <td>[[0.0, 0.0, 6.54750212794e-05, 6.54750212794e-...</td>\n",
       "      <td>[[0.0, 0.000392850127676, 0.000392850127676, 0...</td>\n",
       "    </tr>\n",
       "  </tbody>\n",
       "</table>\n",
       "</div>"
      ],
      "text/plain": [
       "                                KNeighborsClassifier  \\\n",
       "0  [[0.0, 0.00707037643208, 0.0233715220949, 0.04...   \n",
       "1  [[0.0, 0.00648117839607, 0.0146644844517, 0.02...   \n",
       "2  [[0.0, 0.00379705400982, 0.0187234042553, 0.03...   \n",
       "3  [[0.0, 0.00864157119476, 0.0261211129296, 0.05...   \n",
       "4  [[0.0, 0.0127004909984, 0.0300490998363, 0.053...   \n",
       "5  [[0.0, 0.0112602291326, 0.0272995090016, 0.042...   \n",
       "6  [[0.0, 0.00981996726678, 0.0236988543372, 0.03...   \n",
       "7  [[0.0, 0.00733224222586, 0.0189198036007, 0.03...   \n",
       "8  [[0.0, 0.00216039279869, 0.0106055646481, 0.02...   \n",
       "9  [[0.0, 0.00117855038303, 0.00438682642572, 0.0...   \n",
       "\n",
       "                                          GaussianNB  \\\n",
       "0  [[0.0, 0.000458265139116, 0.000458265139116, 0...   \n",
       "1  [[0.0, 0.000261865793781, 0.000261865793781, 0...   \n",
       "2  [[0.0, 0.000327332242226, 0.000392798690671, 0...   \n",
       "3  [[0.0, 0.000654664484452, 0.000720130932897, 0...   \n",
       "4  [[0.0, 0.00104746317512, 0.00111292962357, 0.0...   \n",
       "5  [[0.0, 0.00117839607201, 0.00124386252046, 0.0...   \n",
       "6  [[0.0, 0.000916530278232, 0.000981996726678, 0...   \n",
       "7  [[0.0, 0.000981996726678, 0.000981996726678, 0...   \n",
       "8  [[0.0, 0.00013093289689, 0.000196399345336, 0....   \n",
       "9  [[0.0, 0.000196425063838, 0.000196425063838, 0...   \n",
       "\n",
       "                              DecisionTreeClassifier  \\\n",
       "0  [[0.0, 0.279279869067, 1.0], [0.0, 0.707122283...   \n",
       "1  [[0.0, 0.312471358429, 1.0], [0.0, 0.662673474...   \n",
       "2  [[0.0, 0.291325695581, 1.0], [0.0, 0.690363969...   \n",
       "3  [[0.0, 0.278101472995, 1.0], [0.0, 0.681330191...   \n",
       "4  [[0.0, 0.225139116203, 1.0], [0.0, 0.644213144...   \n",
       "5  [[0.0, 0.204582651391, 1.0], [0.0, 0.643034825...   \n",
       "6  [[0.0, 0.189394435352, 1.0], [0.0, 0.628633150...   \n",
       "7  [[0.0, 0.208576104746, 1.0], [0.0, 0.630858863...   \n",
       "8  [[0.0, 0.200261865794, 1.0], [0.0, 0.578554595...   \n",
       "9  [[0.0, 0.25947750933, 1.0], [0.0, 0.5916322922...   \n",
       "\n",
       "                                                 SVM  \\\n",
       "0  [[0.0, 6.54664484452e-05, 6.54664484452e-05, 0...   \n",
       "1  [[0.0, 6.54664484452e-05, 6.54664484452e-05, 0...   \n",
       "2  [[0.0, 0.0, 0.00013093289689, 0.00013093289689...   \n",
       "3  [[0.0, 0.0, 6.54664484452e-05, 6.54664484452e-...   \n",
       "4  [[0.0, 0.0, 6.54664484452e-05, 6.54664484452e-...   \n",
       "5  [[0.0, 0.0, 0.00013093289689, 0.00013093289689...   \n",
       "6  [[0.0, 6.54664484452e-05, 6.54664484452e-05, 0...   \n",
       "7  [[0.0, 6.54664484452e-05, 0.00013093289689, 0....   \n",
       "8  [[0.0, 6.54664484452e-05, 0.00013093289689, 0....   \n",
       "9  [[0.0, 0.0, 6.54750212794e-05, 6.54750212794e-...   \n",
       "\n",
       "                                                 MLP  \n",
       "0  [[0.0, 0.999541734861, 0.999541734861, 0.99960...  \n",
       "1  [[0.0, 0.0, 6.54664484452e-05, 6.54664484452e-...  \n",
       "2  [[0.0, 6.54664484452e-05, 6.54664484452e-05, 0...  \n",
       "3  [[0.0, 0.0, 0.999869067103, 0.999869067103, 0....  \n",
       "4  [[0.0, 6.54664484452e-05, 6.54664484452e-05, 0...  \n",
       "5  [[0.0, 6.54664484452e-05, 0.999607201309, 0.99...  \n",
       "6  [[0.0, 0.000261865793781, 0.000327332242226, 0...  \n",
       "7  [[0.0, 6.54664484452e-05, 6.54664484452e-05, 1...  \n",
       "8  [[0.0, 0.999934533552, 0.999934533552, 1.0], [...  \n",
       "9  [[0.0, 0.000392850127676, 0.000392850127676, 0...  "
      ]
     },
     "execution_count": 151,
     "metadata": {},
     "output_type": "execute_result"
    }
   ],
   "source": [
    "rocCSDF = pd.DataFrame.from_dict(rocCS, 'index')\n",
    "rocCSDF.rename(columns={0:'KNeighborsClassifier', 1: 'GaussianNB', 2: 'DecisionTreeClassifier', 3:'SVM', 4:'MLP'})"
   ]
  },
  {
   "cell_type": "code",
   "execution_count": 152,
   "metadata": {},
   "outputs": [
    {
     "data": {
      "image/png": "[encoded data removed]",
      "text/plain": [
       "<matplotlib.figure.Figure at 0x11a1302e8>"
      ]
     },
     "metadata": {},
     "output_type": "display_data"
    }
   ],
   "source": [
    "aucCSScores = getAUCScore(rocCSDF)\n",
    "\n",
    "plotROC(rocCSDF)"
   ]
  },
  {
   "cell_type": "code",
   "execution_count": 153,
   "metadata": {},
   "outputs": [
    {
     "data": {
      "text/plain": [
       "<matplotlib.axes._subplots.AxesSubplot at 0x1251da0b8>"
      ]
     },
     "execution_count": 153,
     "metadata": {},
     "output_type": "execute_result"
    },
    {
     "data": {
      "image/png": "[encoded data removed]",
      "text/plain": [
       "<matplotlib.figure.Figure at 0x12a8bfdd8>"
      ]
     },
     "metadata": {},
     "output_type": "display_data"
    }
   ],
   "source": [
    "aucCSDF = pd.DataFrame.from_dict(aucCSScores, 'index')\n",
    "aucCSDF = aucCSDF.rename(columns={0:'KNN', 1: 'NB', 2: 'DT', 3:'SVM', 4:'MLP'})\n",
    "\n",
    "knnCSList = list(aucCSDF['KNN'])\n",
    "gnbCSList = list(aucCSDF['NB'])\n",
    "dtCSList = list(aucCSDF['DT'])\n",
    "svmCSList = list(aucCSDF['SVM'])\n",
    "mplCSList = list(aucCSDF['MLP'])\n",
    "\n",
    "\n",
    "\n",
    "s = stats.ttest_rel(knnCSList, gnbCSList) #shows us the bigger picture from the number\n",
    "\n",
    "\n",
    "aucCSDes = aucCSDF.describe()\n",
    "\n",
    "aucCSMean = pd.Series.to_frame(aucCSDes.loc[aucCSDes.index[1]])\n",
    "aucCSSTD = pd.Series.to_frame(aucCSDes.loc[aucCSDes.index[2]])\n",
    "\n",
    "aucCSDF.plot(kind='box', title='AUC Mean', ylim=(0, 1))"
   ]
  },
  {
   "cell_type": "code",
   "execution_count": 49,
   "metadata": {},
   "outputs": [
    {
     "data": {
      "text/plain": [
       "F_onewayResult(statistic=66.672929902342588, pvalue=2.4826894355843383e-18)"
      ]
     },
     "execution_count": 49,
     "metadata": {},
     "output_type": "execute_result"
    }
   ],
   "source": [
    "so = stats.f_oneway(knnCSList, gnbCSList, dtCSList, svmCSList, mplCSList)\n",
    "so"
   ]
  },
  {
   "cell_type": "code",
   "execution_count": null,
   "metadata": {
    "collapsed": true
   },
   "outputs": [],
   "source": [
    "## Do Ttest on best performing alg, and the four other ones\n",
    "## Save values in a list. \n",
    "\n",
    "\n",
    "\n"
   ]
  },
  {
   "cell_type": "code",
   "execution_count": 93,
   "metadata": {
    "collapsed": true
   },
   "outputs": [],
   "source": [
    "aucCSDF.to_csv('created_data/AUC_Scores/UCUS_auc.csv', encoding='utf-8')"
   ]
  },
  {
   "cell_type": "markdown",
   "metadata": {},
   "source": [
    "# US + UN"
   ]
  },
  {
   "cell_type": "code",
   "execution_count": 154,
   "metadata": {
    "collapsed": true
   },
   "outputs": [],
   "source": [
    "dfPolSN = pd.concat([dfPolSent, dfPolUN], axis=1)\n",
    "dfPolSN = dfPolSN.dropna(axis=0)\n",
    "\n",
    "dfLegSN = pd.concat([dfLegSent, dfLegUN], axis=1)\n",
    "dfLegSN = dfLegSN.dropna(axis=0)"
   ]
  },
  {
   "cell_type": "code",
   "execution_count": 155,
   "metadata": {
    "collapsed": true
   },
   "outputs": [],
   "source": [
    "for row, index in dfPolSN.iterrows():\n",
    "    if row not in polUserIDs:\n",
    "        dfPolSN = dfPolSN.drop(row)\n",
    "for row, index in dfLegSN.iterrows():\n",
    "    if row not in legUserIDs:\n",
    "        dfLegSN = dfLegSN.drop(row)"
   ]
  },
  {
   "cell_type": "code",
   "execution_count": 156,
   "metadata": {
    "collapsed": true
   },
   "outputs": [],
   "source": [
    "rocSN = getROC(dfPolSN, dfLegSN, 10)"
   ]
  },
  {
   "cell_type": "code",
   "execution_count": 157,
   "metadata": {},
   "outputs": [
    {
     "data": {
      "text/html": [
       "<div>\n",
       "<style>\n",
       "    .dataframe thead tr:only-child th {\n",
       "        text-align: right;\n",
       "    }\n",
       "\n",
       "    .dataframe thead th {\n",
       "        text-align: left;\n",
       "    }\n",
       "\n",
       "    .dataframe tbody tr th {\n",
       "        vertical-align: top;\n",
       "    }\n",
       "</style>\n",
       "<table border=\"1\" class=\"dataframe\">\n",
       "  <thead>\n",
       "    <tr style=\"text-align: right;\">\n",
       "      <th></th>\n",
       "      <th>KNeighborsClassifier</th>\n",
       "      <th>GaussianNB</th>\n",
       "      <th>DecisionTreeClassifier</th>\n",
       "      <th>SVM</th>\n",
       "      <th>MLP</th>\n",
       "    </tr>\n",
       "  </thead>\n",
       "  <tbody>\n",
       "    <tr>\n",
       "      <th>0</th>\n",
       "      <td>[[0.0, 0.00563011456628, 0.0111292962357, 0.02...</td>\n",
       "      <td>[[0.0, 0.00117839607201, 0.00117839607201, 0.0...</td>\n",
       "      <td>[[0.0, 0.124255319149, 1.0], [0.0, 0.725451688...</td>\n",
       "      <td>[[0.0, 0.0, 0.000196399345336, 0.0001963993453...</td>\n",
       "      <td>[[0.0, 1.0], [0.0, 1.0], [1.4639745181, 0.4639...</td>\n",
       "    </tr>\n",
       "    <tr>\n",
       "      <th>1</th>\n",
       "      <td>[[0.0, 0.00268412438625, 0.00981996726678, 0.0...</td>\n",
       "      <td>[[0.0, 0.0020294599018, 0.0020294599018, 0.002...</td>\n",
       "      <td>[[0.0, 0.135384615385, 1.0], [0.0, 0.715435978...</td>\n",
       "      <td>[[0.0, 0.0, 0.000261865793781, 0.0002618657937...</td>\n",
       "      <td>[[0.0, 1.0], [0.0, 1.0], [1.46399595033, 0.463...</td>\n",
       "    </tr>\n",
       "    <tr>\n",
       "      <th>2</th>\n",
       "      <td>[[0.0, 0.00752864157119, 0.0238952536825, 0.03...</td>\n",
       "      <td>[[0.0, 0.00890343698854, 0.00896890343699, 0.0...</td>\n",
       "      <td>[[0.0, 0.170474631751, 1.0], [0.0, 0.763419743...</td>\n",
       "      <td>[[0.0, 6.54664484452e-05, 6.54664484452e-05, 0...</td>\n",
       "      <td>[[0.0, 1.0], [0.0, 1.0], [1.46402159652, 0.464...</td>\n",
       "    </tr>\n",
       "    <tr>\n",
       "      <th>3</th>\n",
       "      <td>[[0.0, 0.0111292962357, 0.028085106383, 0.0391...</td>\n",
       "      <td>[[0.0, 0.00805237315876, 0.00818330605565, 0.0...</td>\n",
       "      <td>[[0.0, 0.158232405892, 1.0], [0.0, 0.740769835...</td>\n",
       "      <td>[[0.0, 6.54664484452e-05, 0.00013093289689, 0....</td>\n",
       "      <td>[[0.0, 1.0], [0.0, 1.0], [1.46403790407, 0.464...</td>\n",
       "    </tr>\n",
       "    <tr>\n",
       "      <th>4</th>\n",
       "      <td>[[0.0, 0.00798690671031, 0.0252045826514, 0.04...</td>\n",
       "      <td>[[0.0, 0.00733224222586, 0.00746317512275, 0.0...</td>\n",
       "      <td>[[0.0, 0.172569558101, 1.0], [0.0, 0.763616129...</td>\n",
       "      <td>[[0.0, 6.54664484452e-05, 0.000523731587561, 0...</td>\n",
       "      <td>[[0.0, 1.0], [0.0, 1.0], [1.46396994095, 0.463...</td>\n",
       "    </tr>\n",
       "    <tr>\n",
       "      <th>5</th>\n",
       "      <td>[[0.0, 0.00975450081833, 0.0210147299509, 0.03...</td>\n",
       "      <td>[[0.0, 0.0116530278232, 0.0116530278232, 0.012...</td>\n",
       "      <td>[[0.0, 0.15495908347, 1.0], [0.0, 0.7172689185...</td>\n",
       "      <td>[[0.0, 0.0, 0.00013093289689, 0.00013093289689...</td>\n",
       "      <td>[[0.0, 1.0], [0.0, 1.0], [1.46400175414, 0.464...</td>\n",
       "    </tr>\n",
       "    <tr>\n",
       "      <th>6</th>\n",
       "      <td>[[0.0, 0.0088379705401, 0.0223240589198, 0.035...</td>\n",
       "      <td>[[0.0, 0.0081178396072, 0.0081178396072, 0.008...</td>\n",
       "      <td>[[0.0, 0.154893617021, 1.0], [0.0, 0.743846556...</td>\n",
       "      <td>[[0.0, 0.0, 0.00013093289689, 0.00013093289689...</td>\n",
       "      <td>[[0.0, 1.0], [0.0, 1.0], [1.46402084695, 0.464...</td>\n",
       "    </tr>\n",
       "    <tr>\n",
       "      <th>7</th>\n",
       "      <td>[[0.0, 0.00576104746318, 0.0181342062193, 0.03...</td>\n",
       "      <td>[[0.0, 0.0111292962357, 0.0111292962357, 0.011...</td>\n",
       "      <td>[[0.0, 0.181865793781, 1.0], [0.0, 0.770882429...</td>\n",
       "      <td>[[0.0, 6.54664484452e-05, 0.000392798690671, 0...</td>\n",
       "      <td>[[0.0, 1.0], [0.0, 1.0], [1.46403898729, 0.464...</td>\n",
       "    </tr>\n",
       "    <tr>\n",
       "      <th>8</th>\n",
       "      <td>[[0.0, 0.00569558101473, 0.0141407528642, 0.02...</td>\n",
       "      <td>[[0.0, 0.0060883797054, 0.0060883797054, 0.006...</td>\n",
       "      <td>[[0.0, 0.198887070376, 1.0], [0.0, 0.725975386...</td>\n",
       "      <td>[[0.0, 6.54664484452e-05, 6.54664484452e-05, 0...</td>\n",
       "      <td>[[0.0, 1.0], [0.0, 1.0], [1.46405018209, 0.464...</td>\n",
       "    </tr>\n",
       "    <tr>\n",
       "      <th>9</th>\n",
       "      <td>[[0.0, 0.00202972565966, 0.00759510246841, 0.0...</td>\n",
       "      <td>[[0.0, 0.0399397629804, 0.0399397629804, 0.040...</td>\n",
       "      <td>[[0.0, 0.243567079159, 1.0], [0.0, 0.770641000...</td>\n",
       "      <td>[[0.0, 0.0, 6.54750212794e-05, 6.54750212794e-...</td>\n",
       "      <td>[[0.0, 1.0], [0.0, 1.0], [1.46328922246, 0.463...</td>\n",
       "    </tr>\n",
       "  </tbody>\n",
       "</table>\n",
       "</div>"
      ],
      "text/plain": [
       "                                KNeighborsClassifier  \\\n",
       "0  [[0.0, 0.00563011456628, 0.0111292962357, 0.02...   \n",
       "1  [[0.0, 0.00268412438625, 0.00981996726678, 0.0...   \n",
       "2  [[0.0, 0.00752864157119, 0.0238952536825, 0.03...   \n",
       "3  [[0.0, 0.0111292962357, 0.028085106383, 0.0391...   \n",
       "4  [[0.0, 0.00798690671031, 0.0252045826514, 0.04...   \n",
       "5  [[0.0, 0.00975450081833, 0.0210147299509, 0.03...   \n",
       "6  [[0.0, 0.0088379705401, 0.0223240589198, 0.035...   \n",
       "7  [[0.0, 0.00576104746318, 0.0181342062193, 0.03...   \n",
       "8  [[0.0, 0.00569558101473, 0.0141407528642, 0.02...   \n",
       "9  [[0.0, 0.00202972565966, 0.00759510246841, 0.0...   \n",
       "\n",
       "                                          GaussianNB  \\\n",
       "0  [[0.0, 0.00117839607201, 0.00117839607201, 0.0...   \n",
       "1  [[0.0, 0.0020294599018, 0.0020294599018, 0.002...   \n",
       "2  [[0.0, 0.00890343698854, 0.00896890343699, 0.0...   \n",
       "3  [[0.0, 0.00805237315876, 0.00818330605565, 0.0...   \n",
       "4  [[0.0, 0.00733224222586, 0.00746317512275, 0.0...   \n",
       "5  [[0.0, 0.0116530278232, 0.0116530278232, 0.012...   \n",
       "6  [[0.0, 0.0081178396072, 0.0081178396072, 0.008...   \n",
       "7  [[0.0, 0.0111292962357, 0.0111292962357, 0.011...   \n",
       "8  [[0.0, 0.0060883797054, 0.0060883797054, 0.006...   \n",
       "9  [[0.0, 0.0399397629804, 0.0399397629804, 0.040...   \n",
       "\n",
       "                              DecisionTreeClassifier  \\\n",
       "0  [[0.0, 0.124255319149, 1.0], [0.0, 0.725451688...   \n",
       "1  [[0.0, 0.135384615385, 1.0], [0.0, 0.715435978...   \n",
       "2  [[0.0, 0.170474631751, 1.0], [0.0, 0.763419743...   \n",
       "3  [[0.0, 0.158232405892, 1.0], [0.0, 0.740769835...   \n",
       "4  [[0.0, 0.172569558101, 1.0], [0.0, 0.763616129...   \n",
       "5  [[0.0, 0.15495908347, 1.0], [0.0, 0.7172689185...   \n",
       "6  [[0.0, 0.154893617021, 1.0], [0.0, 0.743846556...   \n",
       "7  [[0.0, 0.181865793781, 1.0], [0.0, 0.770882429...   \n",
       "8  [[0.0, 0.198887070376, 1.0], [0.0, 0.725975386...   \n",
       "9  [[0.0, 0.243567079159, 1.0], [0.0, 0.770641000...   \n",
       "\n",
       "                                                 SVM  \\\n",
       "0  [[0.0, 0.0, 0.000196399345336, 0.0001963993453...   \n",
       "1  [[0.0, 0.0, 0.000261865793781, 0.0002618657937...   \n",
       "2  [[0.0, 6.54664484452e-05, 6.54664484452e-05, 0...   \n",
       "3  [[0.0, 6.54664484452e-05, 0.00013093289689, 0....   \n",
       "4  [[0.0, 6.54664484452e-05, 0.000523731587561, 0...   \n",
       "5  [[0.0, 0.0, 0.00013093289689, 0.00013093289689...   \n",
       "6  [[0.0, 0.0, 0.00013093289689, 0.00013093289689...   \n",
       "7  [[0.0, 6.54664484452e-05, 0.000392798690671, 0...   \n",
       "8  [[0.0, 6.54664484452e-05, 6.54664484452e-05, 0...   \n",
       "9  [[0.0, 0.0, 6.54750212794e-05, 6.54750212794e-...   \n",
       "\n",
       "                                                 MLP  \n",
       "0  [[0.0, 1.0], [0.0, 1.0], [1.4639745181, 0.4639...  \n",
       "1  [[0.0, 1.0], [0.0, 1.0], [1.46399595033, 0.463...  \n",
       "2  [[0.0, 1.0], [0.0, 1.0], [1.46402159652, 0.464...  \n",
       "3  [[0.0, 1.0], [0.0, 1.0], [1.46403790407, 0.464...  \n",
       "4  [[0.0, 1.0], [0.0, 1.0], [1.46396994095, 0.463...  \n",
       "5  [[0.0, 1.0], [0.0, 1.0], [1.46400175414, 0.464...  \n",
       "6  [[0.0, 1.0], [0.0, 1.0], [1.46402084695, 0.464...  \n",
       "7  [[0.0, 1.0], [0.0, 1.0], [1.46403898729, 0.464...  \n",
       "8  [[0.0, 1.0], [0.0, 1.0], [1.46405018209, 0.464...  \n",
       "9  [[0.0, 1.0], [0.0, 1.0], [1.46328922246, 0.463...  "
      ]
     },
     "execution_count": 157,
     "metadata": {},
     "output_type": "execute_result"
    }
   ],
   "source": [
    "rocSN = pd.DataFrame.from_dict(rocSN, 'index')\n",
    "rocSN.rename(columns={0:'KNeighborsClassifier', 1: 'GaussianNB', 2: 'DecisionTreeClassifier', 3:'SVM', 4:'MLP'})"
   ]
  },
  {
   "cell_type": "code",
   "execution_count": 158,
   "metadata": {
    "collapsed": true
   },
   "outputs": [],
   "source": [
    "aucSNScores = getAUCScore(rocSN)"
   ]
  },
  {
   "cell_type": "code",
   "execution_count": 159,
   "metadata": {},
   "outputs": [
    {
     "data": {
      "image/png": "[encoded data removed]",
      "text/plain": [
       "<matplotlib.figure.Figure at 0x125ab3ba8>"
      ]
     },
     "metadata": {},
     "output_type": "display_data"
    }
   ],
   "source": [
    "plotROC(rocSN)"
   ]
  },
  {
   "cell_type": "code",
   "execution_count": 160,
   "metadata": {},
   "outputs": [
    {
     "data": {
      "text/plain": [
       "<matplotlib.axes._subplots.AxesSubplot at 0x11ceab668>"
      ]
     },
     "execution_count": 160,
     "metadata": {},
     "output_type": "execute_result"
    },
    {
     "data": {
      "image/png": "[encoded data removed]",
      "text/plain": [
       "<matplotlib.figure.Figure at 0x11f7bda58>"
      ]
     },
     "metadata": {},
     "output_type": "display_data"
    }
   ],
   "source": [
    "#step one, do T test\n",
    "from scipy import stats\n",
    "\n",
    "aucSNDF = pd.DataFrame.from_dict(aucSNScores, 'index')\n",
    "aucSNDF = aucSNDF.rename(columns={0:'KNN', 1: 'NB', 2: 'DT', 3:'SVM', 4:'MLP'})\n",
    "\n",
    "knnSNList = list(aucSNDF['KNN'])\n",
    "gnbSNList = list(aucSNDF['NB'])\n",
    "dtSNList = list(aucSNDF['DT'])\n",
    "svmSNList = list(aucSNDF['SVM'])\n",
    "mplSNList = list(aucSNDF['MLP'])\n",
    "\n",
    "\n",
    "\n",
    "stats.ttest_rel(knnCDList, mplCDList) #shows us the bigger picture from the number\n",
    "\n",
    "\n",
    "aucSNDes = aucSNDF.describe()\n",
    "\n",
    "aucSNMean = pd.Series.to_frame(aucSNDes.loc[aucSNDes.index[1]])\n",
    "aucSNSTD = pd.Series.to_frame(aucSNDes.loc[aucSNDes.index[2]])\n",
    "\n",
    "aucSNDF.plot(kind='box', title='AUC Mean', ylim=(0, 1))"
   ]
  },
  {
   "cell_type": "code",
   "execution_count": 161,
   "metadata": {
    "collapsed": true
   },
   "outputs": [],
   "source": [
    "aucSNDF.to_csv('created_data/AUC_Scores/USUN_auc.csv', encoding='utf-8')"
   ]
  },
  {
   "cell_type": "markdown",
   "metadata": {},
   "source": [
    "# US + UD"
   ]
  },
  {
   "cell_type": "code",
   "execution_count": 162,
   "metadata": {
    "collapsed": true
   },
   "outputs": [],
   "source": [
    "dfPolSD = pd.concat([dfPolSent, dfPolUD], axis=1)\n",
    "dfPolSD = dfPolSD.dropna(axis=0)\n",
    "\n",
    "dfLegSD = pd.concat([dfLegSent, dfLegUD], axis=1)\n",
    "dfLegSD = dfLegSD.dropna(axis=0)"
   ]
  },
  {
   "cell_type": "code",
   "execution_count": 163,
   "metadata": {
    "collapsed": true
   },
   "outputs": [],
   "source": [
    "for row, index in dfPolSD.iterrows():\n",
    "    if row not in polUserIDs:\n",
    "        dfPolSD = dfPolSD.drop(row)\n",
    "for row, index in dfLegSD.iterrows():\n",
    "    if row not in legUserIDs:\n",
    "        dfLegSD = dfLegSD.drop(row)"
   ]
  },
  {
   "cell_type": "code",
   "execution_count": 164,
   "metadata": {
    "collapsed": true
   },
   "outputs": [],
   "source": [
    "rocSD = getROC(dfPolSD, dfLegSD, 10)"
   ]
  },
  {
   "cell_type": "code",
   "execution_count": 165,
   "metadata": {},
   "outputs": [
    {
     "data": {
      "text/html": [
       "<div>\n",
       "<style>\n",
       "    .dataframe thead tr:only-child th {\n",
       "        text-align: right;\n",
       "    }\n",
       "\n",
       "    .dataframe thead th {\n",
       "        text-align: left;\n",
       "    }\n",
       "\n",
       "    .dataframe tbody tr th {\n",
       "        vertical-align: top;\n",
       "    }\n",
       "</style>\n",
       "<table border=\"1\" class=\"dataframe\">\n",
       "  <thead>\n",
       "    <tr style=\"text-align: right;\">\n",
       "      <th></th>\n",
       "      <th>KNeighborsClassifier</th>\n",
       "      <th>GaussianNB</th>\n",
       "      <th>DecisionTreeClassifier</th>\n",
       "      <th>SVM</th>\n",
       "      <th>MLP</th>\n",
       "    </tr>\n",
       "  </thead>\n",
       "  <tbody>\n",
       "    <tr>\n",
       "      <th>0</th>\n",
       "      <td>[[0.0, 1.0, 1.0, 1.0, 1.0, 1.0, 1.0, 1.0, 1.0,...</td>\n",
       "      <td>[[0.0, 0.0, 0.00013093289689, 0.00013093289689...</td>\n",
       "      <td>[[0.0, 0.976563011457, 1.0], [0.0, 0.988085886...</td>\n",
       "      <td>[[0.0, 0.0, 6.54664484452e-05, 6.54664484452e-...</td>\n",
       "      <td>[[0.0, 1.0], [0.0, 1.0], [1.46400695563, 0.464...</td>\n",
       "    </tr>\n",
       "    <tr>\n",
       "      <th>1</th>\n",
       "      <td>[[0.0, 0.946972176759, 0.95620294599, 0.960392...</td>\n",
       "      <td>[[0.0, 0.0, 0.0, 6.54664484452e-05, 6.54664484...</td>\n",
       "      <td>[[0.0, 0.871685761047, 1.0], [0.0, 0.922034564...</td>\n",
       "      <td>[[0.0, 6.54664484452e-05, 6.54664484452e-05, 0...</td>\n",
       "      <td>[[0.0, 1.0], [0.0, 1.0], [1.46404818589, 0.464...</td>\n",
       "    </tr>\n",
       "    <tr>\n",
       "      <th>2</th>\n",
       "      <td>[[0.0, 0.909263502455, 0.915417348609, 0.92340...</td>\n",
       "      <td>[[0.0, 0.468870703764, 0.469525368249, 0.47594...</td>\n",
       "      <td>[[0.0, 0.970343698854, 1.0], [0.0, 0.966941607...</td>\n",
       "      <td>[[0.0, 6.54664484452e-05, 0.000392798690671, 0...</td>\n",
       "      <td>[[0.0, 1.0], [0.0, 1.0], [1.46398721312, 0.463...</td>\n",
       "    </tr>\n",
       "    <tr>\n",
       "      <th>3</th>\n",
       "      <td>[[0.0, 0.865793780687, 0.872929623568, 0.87777...</td>\n",
       "      <td>[[0.0, 0.603993453355, 0.605564648118, 0.61054...</td>\n",
       "      <td>[[0.0, 0.953322422259, 1.0], [0.0, 0.967203456...</td>\n",
       "      <td>[[0.0, 6.54664484452e-05, 0.000785597381342, 0...</td>\n",
       "      <td>[[0.0, 0.459116202946, 0.459116202946, 0.45918...</td>\n",
       "    </tr>\n",
       "    <tr>\n",
       "      <th>4</th>\n",
       "      <td>[[0.0, 0.843011456628, 0.854926350245, 0.86415...</td>\n",
       "      <td>[[0.0, 0.503698854337, 0.505335515548, 0.50978...</td>\n",
       "      <td>[[0.0, 0.948412438625, 1.0], [0.0, 0.956991358...</td>\n",
       "      <td>[[0.0, 6.54664484452e-05, 0.000916530278232, 0...</td>\n",
       "      <td>[[0.0, 0.149721767594, 0.149787234043, 0.14978...</td>\n",
       "    </tr>\n",
       "    <tr>\n",
       "      <th>5</th>\n",
       "      <td>[[0.0, 0.82271685761, 0.836530278232, 0.849819...</td>\n",
       "      <td>[[0.0, 0.392602291326, 0.393977086743, 0.4, 0....</td>\n",
       "      <td>[[0.0, 0.948739770867, 1.0], [0.0, 0.944946321...</td>\n",
       "      <td>[[0.0, 0.000196399345336, 0.000196399345336, 0...</td>\n",
       "      <td>[[0.0, 0.0, 6.54664484452e-05, 6.54664484452e-...</td>\n",
       "    </tr>\n",
       "    <tr>\n",
       "      <th>6</th>\n",
       "      <td>[[0.0, 0.850016366612, 0.861080196399, 0.86952...</td>\n",
       "      <td>[[0.0, 0.475744680851, 0.477250409165, 0.48438...</td>\n",
       "      <td>[[0.0, 0.94906710311, 1.0], [0.0, 0.9431788426...</td>\n",
       "      <td>[[0.0, 6.54664484452e-05, 6.54664484452e-05, 0...</td>\n",
       "      <td>[[0.0, 0.111031096563, 0.11116202946, 0.111162...</td>\n",
       "    </tr>\n",
       "    <tr>\n",
       "      <th>7</th>\n",
       "      <td>[[0.0, 0.879279869067, 0.890801963993, 0.89885...</td>\n",
       "      <td>[[0.0, 0.452111292962, 0.45387888707, 0.460687...</td>\n",
       "      <td>[[0.0, 0.958428805237, 1.0], [0.0, 0.941673212...</td>\n",
       "      <td>[[0.0, 6.54664484452e-05, 6.54664484452e-05, 0...</td>\n",
       "      <td>[[0.0, 0.149983633388, 0.150049099836, 0.15004...</td>\n",
       "    </tr>\n",
       "    <tr>\n",
       "      <th>8</th>\n",
       "      <td>[[0.0, 0.901014729951, 0.91495908347, 0.924713...</td>\n",
       "      <td>[[0.0, 0.533813420622, 0.536890343699, 0.53970...</td>\n",
       "      <td>[[0.0, 0.962815057283, 1.0], [0.0, 0.925111285...</td>\n",
       "      <td>[[0.0, 0.0, 0.000196399345336, 0.0001963993453...</td>\n",
       "      <td>[[0.0, 0.0291325695581, 0.0294599018003, 0.029...</td>\n",
       "    </tr>\n",
       "    <tr>\n",
       "      <th>9</th>\n",
       "      <td>[[0.0, 0.949453283572, 0.955215085445, 0.95934...</td>\n",
       "      <td>[[0.0, 0.559942381981, 0.561448307471, 0.56943...</td>\n",
       "      <td>[[0.0, 0.98310744451, 1.0], [0.0, 0.9042755188...</td>\n",
       "      <td>[[0.0, 0.0, 6.54750212794e-05, 6.54750212794e-...</td>\n",
       "      <td>[[0.0, 0.345380737249, 0.34544621227, 0.345446...</td>\n",
       "    </tr>\n",
       "  </tbody>\n",
       "</table>\n",
       "</div>"
      ],
      "text/plain": [
       "                                KNeighborsClassifier  \\\n",
       "0  [[0.0, 1.0, 1.0, 1.0, 1.0, 1.0, 1.0, 1.0, 1.0,...   \n",
       "1  [[0.0, 0.946972176759, 0.95620294599, 0.960392...   \n",
       "2  [[0.0, 0.909263502455, 0.915417348609, 0.92340...   \n",
       "3  [[0.0, 0.865793780687, 0.872929623568, 0.87777...   \n",
       "4  [[0.0, 0.843011456628, 0.854926350245, 0.86415...   \n",
       "5  [[0.0, 0.82271685761, 0.836530278232, 0.849819...   \n",
       "6  [[0.0, 0.850016366612, 0.861080196399, 0.86952...   \n",
       "7  [[0.0, 0.879279869067, 0.890801963993, 0.89885...   \n",
       "8  [[0.0, 0.901014729951, 0.91495908347, 0.924713...   \n",
       "9  [[0.0, 0.949453283572, 0.955215085445, 0.95934...   \n",
       "\n",
       "                                          GaussianNB  \\\n",
       "0  [[0.0, 0.0, 0.00013093289689, 0.00013093289689...   \n",
       "1  [[0.0, 0.0, 0.0, 6.54664484452e-05, 6.54664484...   \n",
       "2  [[0.0, 0.468870703764, 0.469525368249, 0.47594...   \n",
       "3  [[0.0, 0.603993453355, 0.605564648118, 0.61054...   \n",
       "4  [[0.0, 0.503698854337, 0.505335515548, 0.50978...   \n",
       "5  [[0.0, 0.392602291326, 0.393977086743, 0.4, 0....   \n",
       "6  [[0.0, 0.475744680851, 0.477250409165, 0.48438...   \n",
       "7  [[0.0, 0.452111292962, 0.45387888707, 0.460687...   \n",
       "8  [[0.0, 0.533813420622, 0.536890343699, 0.53970...   \n",
       "9  [[0.0, 0.559942381981, 0.561448307471, 0.56943...   \n",
       "\n",
       "                              DecisionTreeClassifier  \\\n",
       "0  [[0.0, 0.976563011457, 1.0], [0.0, 0.988085886...   \n",
       "1  [[0.0, 0.871685761047, 1.0], [0.0, 0.922034564...   \n",
       "2  [[0.0, 0.970343698854, 1.0], [0.0, 0.966941607...   \n",
       "3  [[0.0, 0.953322422259, 1.0], [0.0, 0.967203456...   \n",
       "4  [[0.0, 0.948412438625, 1.0], [0.0, 0.956991358...   \n",
       "5  [[0.0, 0.948739770867, 1.0], [0.0, 0.944946321...   \n",
       "6  [[0.0, 0.94906710311, 1.0], [0.0, 0.9431788426...   \n",
       "7  [[0.0, 0.958428805237, 1.0], [0.0, 0.941673212...   \n",
       "8  [[0.0, 0.962815057283, 1.0], [0.0, 0.925111285...   \n",
       "9  [[0.0, 0.98310744451, 1.0], [0.0, 0.9042755188...   \n",
       "\n",
       "                                                 SVM  \\\n",
       "0  [[0.0, 0.0, 6.54664484452e-05, 6.54664484452e-...   \n",
       "1  [[0.0, 6.54664484452e-05, 6.54664484452e-05, 0...   \n",
       "2  [[0.0, 6.54664484452e-05, 0.000392798690671, 0...   \n",
       "3  [[0.0, 6.54664484452e-05, 0.000785597381342, 0...   \n",
       "4  [[0.0, 6.54664484452e-05, 0.000916530278232, 0...   \n",
       "5  [[0.0, 0.000196399345336, 0.000196399345336, 0...   \n",
       "6  [[0.0, 6.54664484452e-05, 6.54664484452e-05, 0...   \n",
       "7  [[0.0, 6.54664484452e-05, 6.54664484452e-05, 0...   \n",
       "8  [[0.0, 0.0, 0.000196399345336, 0.0001963993453...   \n",
       "9  [[0.0, 0.0, 6.54750212794e-05, 6.54750212794e-...   \n",
       "\n",
       "                                                 MLP  \n",
       "0  [[0.0, 1.0], [0.0, 1.0], [1.46400695563, 0.464...  \n",
       "1  [[0.0, 1.0], [0.0, 1.0], [1.46404818589, 0.464...  \n",
       "2  [[0.0, 1.0], [0.0, 1.0], [1.46398721312, 0.463...  \n",
       "3  [[0.0, 0.459116202946, 0.459116202946, 0.45918...  \n",
       "4  [[0.0, 0.149721767594, 0.149787234043, 0.14978...  \n",
       "5  [[0.0, 0.0, 6.54664484452e-05, 6.54664484452e-...  \n",
       "6  [[0.0, 0.111031096563, 0.11116202946, 0.111162...  \n",
       "7  [[0.0, 0.149983633388, 0.150049099836, 0.15004...  \n",
       "8  [[0.0, 0.0291325695581, 0.0294599018003, 0.029...  \n",
       "9  [[0.0, 0.345380737249, 0.34544621227, 0.345446...  "
      ]
     },
     "execution_count": 165,
     "metadata": {},
     "output_type": "execute_result"
    }
   ],
   "source": [
    "rocSD = pd.DataFrame.from_dict(rocSD, 'index')\n",
    "rocSD.rename(columns={0:'KNeighborsClassifier', 1: 'GaussianNB', 2: 'DecisionTreeClassifier', 3:'SVM', 4:'MLP'})"
   ]
  },
  {
   "cell_type": "code",
   "execution_count": 166,
   "metadata": {
    "collapsed": true
   },
   "outputs": [],
   "source": [
    "aucSDScores = getAUCScore(rocSD)"
   ]
  },
  {
   "cell_type": "code",
   "execution_count": 167,
   "metadata": {},
   "outputs": [
    {
     "data": {
      "image/png": "[encoded data removed]",
      "text/plain": [
       "<matplotlib.figure.Figure at 0x1284bbb00>"
      ]
     },
     "metadata": {},
     "output_type": "display_data"
    }
   ],
   "source": [
    "plotROC(rocSD)"
   ]
  },
  {
   "cell_type": "code",
   "execution_count": 168,
   "metadata": {},
   "outputs": [
    {
     "data": {
      "text/plain": [
       "<matplotlib.axes._subplots.AxesSubplot at 0x126bd2c18>"
      ]
     },
     "execution_count": 168,
     "metadata": {},
     "output_type": "execute_result"
    },
    {
     "data": {
      "image/png": "[encoded data removed]",
      "text/plain": [
       "<matplotlib.figure.Figure at 0x12aae7cf8>"
      ]
     },
     "metadata": {},
     "output_type": "display_data"
    }
   ],
   "source": [
    "#step one, do T test\n",
    "aucSDDF = pd.DataFrame.from_dict(aucSDScores, 'index')\n",
    "aucSDDF = aucSDDF.rename(columns={0:'KNN', 1: 'NB', 2: 'DT', 3:'SVM', 4:'MLP'})\n",
    "\n",
    "knnSDList = list(aucSDDF['KNN'])\n",
    "gnbSDList = list(aucSDDF['NB'])\n",
    "dtSDList = list(aucSDDF['DT'])\n",
    "svmSDList = list(aucSDDF['SVM'])\n",
    "mplSDList = list(aucSDDF['MLP'])\n",
    "\n",
    "\n",
    "\n",
    "stats.ttest_rel(knnSDList, mplSDList) #shows us the bigger picture from the number\n",
    "\n",
    "\n",
    "aucSDDes = aucSDDF.describe()\n",
    "\n",
    "aucSDMean = pd.Series.to_frame(aucSDDes.loc[aucSDDes.index[1]])\n",
    "aucSDSTD = pd.Series.to_frame(aucSDDes.loc[aucSDDes.index[2]])\n",
    "\n",
    "aucSDDF.plot(kind='box', title='AUC Mean', ylim=(0, 1))"
   ]
  },
  {
   "cell_type": "code",
   "execution_count": 169,
   "metadata": {
    "collapsed": true
   },
   "outputs": [],
   "source": [
    "aucCDDF.to_csv('created_data/AUC_Scores/USUD_auc.csv', encoding='utf-8')"
   ]
  },
  {
   "cell_type": "markdown",
   "metadata": {},
   "source": [
    "# UN + UD"
   ]
  },
  {
   "cell_type": "code",
   "execution_count": 170,
   "metadata": {
    "collapsed": true
   },
   "outputs": [],
   "source": [
    "dfPolND = pd.concat([dfPolUN, dfPolUD], axis=1)\n",
    "dfPolND = dfPolND.dropna(axis=0)\n",
    "\n",
    "dfLegND = pd.concat([dfLegUN, dfLegUD], axis=1)\n",
    "dfLegND = dfLegND.dropna(axis=0)"
   ]
  },
  {
   "cell_type": "code",
   "execution_count": 171,
   "metadata": {
    "collapsed": true
   },
   "outputs": [],
   "source": [
    "for row, index in dfPolND.iterrows():\n",
    "    if row not in polUserIDs:\n",
    "        dfPolND = dfPolND.drop(row)\n",
    "for row, index in dfLegND.iterrows():\n",
    "    if row not in legUserIDs:\n",
    "        dfLegND = dfLegND.drop(row)"
   ]
  },
  {
   "cell_type": "code",
   "execution_count": 172,
   "metadata": {
    "collapsed": true
   },
   "outputs": [],
   "source": [
    "rocND = getROC(dfPolND, dfLegND, 10)"
   ]
  },
  {
   "cell_type": "code",
   "execution_count": 173,
   "metadata": {},
   "outputs": [
    {
     "data": {
      "text/html": [
       "<div>\n",
       "<style>\n",
       "    .dataframe thead tr:only-child th {\n",
       "        text-align: right;\n",
       "    }\n",
       "\n",
       "    .dataframe thead th {\n",
       "        text-align: left;\n",
       "    }\n",
       "\n",
       "    .dataframe tbody tr th {\n",
       "        vertical-align: top;\n",
       "    }\n",
       "</style>\n",
       "<table border=\"1\" class=\"dataframe\">\n",
       "  <thead>\n",
       "    <tr style=\"text-align: right;\">\n",
       "      <th></th>\n",
       "      <th>KNeighborsClassifier</th>\n",
       "      <th>GaussianNB</th>\n",
       "      <th>DecisionTreeClassifier</th>\n",
       "      <th>SVM</th>\n",
       "      <th>MLP</th>\n",
       "    </tr>\n",
       "  </thead>\n",
       "  <tbody>\n",
       "    <tr>\n",
       "      <th>0</th>\n",
       "      <td>[[0.0, 0.0394762684124, 0.0701145662848, 0.101...</td>\n",
       "      <td>[[0.0, 0.00117839607201, 0.00117839607201, 0.0...</td>\n",
       "      <td>[[0.0, 0.999279869067, 1.0], [0.0, 0.990311599...</td>\n",
       "      <td>[[0.0, 0.0, 1.0, 1.0], [6.54621628699e-05, 0.0...</td>\n",
       "      <td>[[0.0, 0.0, 0.000261865793781, 0.0002618657937...</td>\n",
       "    </tr>\n",
       "    <tr>\n",
       "      <th>1</th>\n",
       "      <td>[[0.0, 0.00346972176759, 0.0121767594108, 0.02...</td>\n",
       "      <td>[[0.0, 0.00255319148936, 0.00261865793781, 0.0...</td>\n",
       "      <td>[[0.0, 0.952995090016, 1.0], [0.0, 0.917386750...</td>\n",
       "      <td>[[0.0, 6.54664484452e-05, 6.54664484452e-05, 0...</td>\n",
       "      <td>[[0.0, 0.0, 0.00013093289689, 0.00013093289689...</td>\n",
       "    </tr>\n",
       "    <tr>\n",
       "      <th>2</th>\n",
       "      <td>[[0.0, 0.0627168576105, 0.0807855973813, 0.094...</td>\n",
       "      <td>[[0.0, 0.466317512275, 0.473453355155, 0.47823...</td>\n",
       "      <td>[[0.0, 0.9641898527, 1.0], [0.0, 0.97931395653...</td>\n",
       "      <td>[[0.0, 6.54664484452e-05, 0.000392798690671, 0...</td>\n",
       "      <td>[[0.0, 0.000196399345336, 0.000196399345336, 0...</td>\n",
       "    </tr>\n",
       "    <tr>\n",
       "      <th>3</th>\n",
       "      <td>[[0.0, 0.0908674304419, 0.117839607201, 0.1400...</td>\n",
       "      <td>[[0.0, 0.604779050736, 0.611391162029, 0.61414...</td>\n",
       "      <td>[[0.0, 0.943698854337, 1.0], [0.0, 0.977742864...</td>\n",
       "      <td>[[0.0, 0.0, 0.00013093289689, 0.00013093289689...</td>\n",
       "      <td>[[0.0, 0.00137479541735, 0.00144026186579, 0.0...</td>\n",
       "    </tr>\n",
       "    <tr>\n",
       "      <th>4</th>\n",
       "      <td>[[0.0, 0.255450081833, 0.288248772504, 0.31698...</td>\n",
       "      <td>[[0.0, 0.514828150573, 0.520458265139, 0.52379...</td>\n",
       "      <td>[[0.0, 0.944288052373, 1.0], [0.0, 0.971654883...</td>\n",
       "      <td>[[0.0, 6.54664484452e-05, 6.54664484452e-05, 0...</td>\n",
       "      <td>[[0.0, 0.0, 6.54664484452e-05, 6.54664484452e-...</td>\n",
       "    </tr>\n",
       "    <tr>\n",
       "      <th>5</th>\n",
       "      <td>[[0.0, 0.140032733224, 0.156595744681, 0.17394...</td>\n",
       "      <td>[[0.0, 0.39914893617, 0.399279869067, 0.407004...</td>\n",
       "      <td>[[0.0, 0.945466448445, 1.0], [0.0, 0.953587326...</td>\n",
       "      <td>[[0.0, 6.54664484452e-05, 0.000196399345336, 0...</td>\n",
       "      <td>[[0.0, 0.0, 6.54664484452e-05, 6.54664484452e-...</td>\n",
       "    </tr>\n",
       "    <tr>\n",
       "      <th>6</th>\n",
       "      <td>[[0.0, 0.121440261866, 0.138723404255, 0.15417...</td>\n",
       "      <td>[[0.0, 0.466448445172, 0.475875613748, 0.48032...</td>\n",
       "      <td>[[0.0, 0.754893617021, 1.0], [0.0, 0.941280439...</td>\n",
       "      <td>[[0.0, 6.54664484452e-05, 0.000327332242226, 0...</td>\n",
       "      <td>[[0.0, 0.00013093289689, 0.00013093289689, 0.0...</td>\n",
       "    </tr>\n",
       "    <tr>\n",
       "      <th>7</th>\n",
       "      <td>[[0.0, 0.083535188216, 0.0987888707038, 0.1182...</td>\n",
       "      <td>[[0.0, 0.45682487725, 0.457152209493, 0.467234...</td>\n",
       "      <td>[[0.0, 0.826579378069, 1.0], [0.0, 0.931461115...</td>\n",
       "      <td>[[0.0, 0.0, 0.000196399345336, 0.0001963993453...</td>\n",
       "      <td>[[0.0, 0.0020294599018, 0.00229132569558, 0.00...</td>\n",
       "    </tr>\n",
       "    <tr>\n",
       "      <th>8</th>\n",
       "      <td>[[0.0, 0.047201309329, 0.0782978723404, 0.1048...</td>\n",
       "      <td>[[0.0, 0.533289689034, 0.538854337152, 0.54212...</td>\n",
       "      <td>[[0.0, 0.946775777414, 1.0], [0.0, 0.874639958...</td>\n",
       "      <td>[[0.0, 6.54664484452e-05, 0.000261865793781, 0...</td>\n",
       "      <td>[[0.0, 0.0, 0.203338788871, 0.203404255319, 0....</td>\n",
       "    </tr>\n",
       "    <tr>\n",
       "      <th>9</th>\n",
       "      <td>[[0.0, 0.0333267858312, 0.063510770641, 0.0955...</td>\n",
       "      <td>[[0.0, 0.558436456492, 0.565376808747, 0.56884...</td>\n",
       "      <td>[[0.0, 0.949256858508, 1.0], [0.0, 0.906632619...</td>\n",
       "      <td>[[0.0, 0.0, 6.54750212794e-05, 6.54750212794e-...</td>\n",
       "      <td>[[0.0, 0.0795521508544, 0.0795521508544, 0.079...</td>\n",
       "    </tr>\n",
       "  </tbody>\n",
       "</table>\n",
       "</div>"
      ],
      "text/plain": [
       "                                KNeighborsClassifier  \\\n",
       "0  [[0.0, 0.0394762684124, 0.0701145662848, 0.101...   \n",
       "1  [[0.0, 0.00346972176759, 0.0121767594108, 0.02...   \n",
       "2  [[0.0, 0.0627168576105, 0.0807855973813, 0.094...   \n",
       "3  [[0.0, 0.0908674304419, 0.117839607201, 0.1400...   \n",
       "4  [[0.0, 0.255450081833, 0.288248772504, 0.31698...   \n",
       "5  [[0.0, 0.140032733224, 0.156595744681, 0.17394...   \n",
       "6  [[0.0, 0.121440261866, 0.138723404255, 0.15417...   \n",
       "7  [[0.0, 0.083535188216, 0.0987888707038, 0.1182...   \n",
       "8  [[0.0, 0.047201309329, 0.0782978723404, 0.1048...   \n",
       "9  [[0.0, 0.0333267858312, 0.063510770641, 0.0955...   \n",
       "\n",
       "                                          GaussianNB  \\\n",
       "0  [[0.0, 0.00117839607201, 0.00117839607201, 0.0...   \n",
       "1  [[0.0, 0.00255319148936, 0.00261865793781, 0.0...   \n",
       "2  [[0.0, 0.466317512275, 0.473453355155, 0.47823...   \n",
       "3  [[0.0, 0.604779050736, 0.611391162029, 0.61414...   \n",
       "4  [[0.0, 0.514828150573, 0.520458265139, 0.52379...   \n",
       "5  [[0.0, 0.39914893617, 0.399279869067, 0.407004...   \n",
       "6  [[0.0, 0.466448445172, 0.475875613748, 0.48032...   \n",
       "7  [[0.0, 0.45682487725, 0.457152209493, 0.467234...   \n",
       "8  [[0.0, 0.533289689034, 0.538854337152, 0.54212...   \n",
       "9  [[0.0, 0.558436456492, 0.565376808747, 0.56884...   \n",
       "\n",
       "                              DecisionTreeClassifier  \\\n",
       "0  [[0.0, 0.999279869067, 1.0], [0.0, 0.990311599...   \n",
       "1  [[0.0, 0.952995090016, 1.0], [0.0, 0.917386750...   \n",
       "2  [[0.0, 0.9641898527, 1.0], [0.0, 0.97931395653...   \n",
       "3  [[0.0, 0.943698854337, 1.0], [0.0, 0.977742864...   \n",
       "4  [[0.0, 0.944288052373, 1.0], [0.0, 0.971654883...   \n",
       "5  [[0.0, 0.945466448445, 1.0], [0.0, 0.953587326...   \n",
       "6  [[0.0, 0.754893617021, 1.0], [0.0, 0.941280439...   \n",
       "7  [[0.0, 0.826579378069, 1.0], [0.0, 0.931461115...   \n",
       "8  [[0.0, 0.946775777414, 1.0], [0.0, 0.874639958...   \n",
       "9  [[0.0, 0.949256858508, 1.0], [0.0, 0.906632619...   \n",
       "\n",
       "                                                 SVM  \\\n",
       "0  [[0.0, 0.0, 1.0, 1.0], [6.54621628699e-05, 0.0...   \n",
       "1  [[0.0, 6.54664484452e-05, 6.54664484452e-05, 0...   \n",
       "2  [[0.0, 6.54664484452e-05, 0.000392798690671, 0...   \n",
       "3  [[0.0, 0.0, 0.00013093289689, 0.00013093289689...   \n",
       "4  [[0.0, 6.54664484452e-05, 6.54664484452e-05, 0...   \n",
       "5  [[0.0, 6.54664484452e-05, 0.000196399345336, 0...   \n",
       "6  [[0.0, 6.54664484452e-05, 0.000327332242226, 0...   \n",
       "7  [[0.0, 0.0, 0.000196399345336, 0.0001963993453...   \n",
       "8  [[0.0, 6.54664484452e-05, 0.000261865793781, 0...   \n",
       "9  [[0.0, 0.0, 6.54750212794e-05, 6.54750212794e-...   \n",
       "\n",
       "                                                 MLP  \n",
       "0  [[0.0, 0.0, 0.000261865793781, 0.0002618657937...  \n",
       "1  [[0.0, 0.0, 0.00013093289689, 0.00013093289689...  \n",
       "2  [[0.0, 0.000196399345336, 0.000196399345336, 0...  \n",
       "3  [[0.0, 0.00137479541735, 0.00144026186579, 0.0...  \n",
       "4  [[0.0, 0.0, 6.54664484452e-05, 6.54664484452e-...  \n",
       "5  [[0.0, 0.0, 6.54664484452e-05, 6.54664484452e-...  \n",
       "6  [[0.0, 0.00013093289689, 0.00013093289689, 0.0...  \n",
       "7  [[0.0, 0.0020294599018, 0.00229132569558, 0.00...  \n",
       "8  [[0.0, 0.0, 0.203338788871, 0.203404255319, 0....  \n",
       "9  [[0.0, 0.0795521508544, 0.0795521508544, 0.079...  "
      ]
     },
     "execution_count": 173,
     "metadata": {},
     "output_type": "execute_result"
    }
   ],
   "source": [
    "rocND = pd.DataFrame.from_dict(rocND, 'index')\n",
    "rocND.rename(columns={0:'KNeighborsClassifier', 1: 'GaussianNB', 2: 'DecisionTreeClassifier', 3:'SVM', 4:'MLP'})"
   ]
  },
  {
   "cell_type": "code",
   "execution_count": 174,
   "metadata": {
    "collapsed": true
   },
   "outputs": [],
   "source": [
    "aucNDScores = getAUCScore(rocND)"
   ]
  },
  {
   "cell_type": "code",
   "execution_count": 175,
   "metadata": {},
   "outputs": [
    {
     "data": {
      "image/png": "[encoded data removed]",
      "text/plain": [
       "<matplotlib.figure.Figure at 0x11c0544a8>"
      ]
     },
     "metadata": {},
     "output_type": "display_data"
    }
   ],
   "source": [
    "plotROC(rocND)"
   ]
  },
  {
   "cell_type": "code",
   "execution_count": 176,
   "metadata": {},
   "outputs": [
    {
     "data": {
      "text/plain": [
       "<matplotlib.axes._subplots.AxesSubplot at 0x1264df2b0>"
      ]
     },
     "execution_count": 176,
     "metadata": {},
     "output_type": "execute_result"
    },
    {
     "data": {
      "image/png": "[encoded data removed]",
      "text/plain": [
       "<matplotlib.figure.Figure at 0x11cf7cdd8>"
      ]
     },
     "metadata": {},
     "output_type": "display_data"
    }
   ],
   "source": [
    "#step one, do T test\n",
    "from scipy import stats\n",
    "\n",
    "aucNDDF = pd.DataFrame.from_dict(aucNDScores, 'index')\n",
    "aucNDDF = aucNDDF.rename(columns={0:'KNN', 1: 'NB', 2: 'DT', 3:'SVM', 4:'MLP'})\n",
    "\n",
    "knnNDList = list(aucNDDF['KNN'])\n",
    "gnbNDList = list(aucNDDF['NB'])\n",
    "dtNDList = list(aucNDDF['DT'])\n",
    "svmNDList = list(aucNDDF['SVM'])\n",
    "mplNDList = list(aucNDDF['MLP'])\n",
    "\n",
    "\n",
    "\n",
    "stats.ttest_rel(knnNDList, mplNDList) #shows us the bigger picture from the number\n",
    "\n",
    "\n",
    "aucNDDes = aucNDDF.describe()\n",
    "\n",
    "aucNDMean = pd.Series.to_frame(aucNDDes.loc[aucNDDes.index[1]])\n",
    "aucNDSTD = pd.Series.to_frame(aucNDDes.loc[aucNDDes.index[2]])\n",
    "\n",
    "aucNDDF.plot(kind='box', title='AUC Mean', ylim=(0, 1))"
   ]
  },
  {
   "cell_type": "code",
   "execution_count": 177,
   "metadata": {
    "collapsed": true
   },
   "outputs": [],
   "source": [
    "aucNDDF.to_csv('created_data/AUC_Scores/UNUD_auc.csv', encoding='utf-8')"
   ]
  },
  {
   "cell_type": "markdown",
   "metadata": {},
   "source": [
    "# UC + UN + UD"
   ]
  },
  {
   "cell_type": "code",
   "execution_count": 178,
   "metadata": {
    "collapsed": true
   },
   "outputs": [],
   "source": [
    "dfPolCND = pd.concat([dfPolUC, dfPolUN, dfPolUD], axis=1)\n",
    "dfPolCND = dfPolCND.dropna(axis=0)\n",
    "\n",
    "dfLegCND = pd.concat([dfLegUC, dfLegUN, dfLegUD], axis=1)\n",
    "dfLegCND = dfLegCND.dropna(axis=0)"
   ]
  },
  {
   "cell_type": "code",
   "execution_count": 179,
   "metadata": {
    "collapsed": true
   },
   "outputs": [],
   "source": [
    "rocCND = getROC(dfPolCND, dfLegCND, 10)\n",
    "\n",
    "# THIS CONTAINS THE NaN error or too large of a number. This has to do with UC its self"
   ]
  },
  {
   "cell_type": "code",
   "execution_count": 180,
   "metadata": {},
   "outputs": [
    {
     "data": {
      "text/html": [
       "<div>\n",
       "<style>\n",
       "    .dataframe thead tr:only-child th {\n",
       "        text-align: right;\n",
       "    }\n",
       "\n",
       "    .dataframe thead th {\n",
       "        text-align: left;\n",
       "    }\n",
       "\n",
       "    .dataframe tbody tr th {\n",
       "        vertical-align: top;\n",
       "    }\n",
       "</style>\n",
       "<table border=\"1\" class=\"dataframe\">\n",
       "  <thead>\n",
       "    <tr style=\"text-align: right;\">\n",
       "      <th></th>\n",
       "      <th>KNeighborsClassifier</th>\n",
       "      <th>GaussianNB</th>\n",
       "      <th>DecisionTreeClassifier</th>\n",
       "      <th>SVM</th>\n",
       "      <th>MLP</th>\n",
       "    </tr>\n",
       "  </thead>\n",
       "  <tbody>\n",
       "    <tr>\n",
       "      <th>0</th>\n",
       "      <td>[[0.0, 0.0164320785597, 0.0275613747954, 0.038...</td>\n",
       "      <td>[[0.0, 0.00163666121113, 0.00163666121113, 0.0...</td>\n",
       "      <td>[[0.0, 0.995090016367, 1.0], [0.0, 0.972047656...</td>\n",
       "      <td>[[0.0, 1.0, 1.0], [0.0, 0.999934537837, 1.0], ...</td>\n",
       "      <td>[[0.0, 0.225139116203, 0.225139116203, 0.22520...</td>\n",
       "    </tr>\n",
       "    <tr>\n",
       "      <th>1</th>\n",
       "      <td>[[0.0, 0.00451718494272, 0.0111947626841, 0.01...</td>\n",
       "      <td>[[0.0, 0.00281505728314, 0.00301145662848, 0.0...</td>\n",
       "      <td>[[0.0, 0.802225859247, 1.0], [0.0, 0.795037968...</td>\n",
       "      <td>[[0.0, 6.54664484452e-05, 6.54664484452e-05, 0...</td>\n",
       "      <td>[[0.0, 0.200916530278, 0.201178396072, 0.20117...</td>\n",
       "    </tr>\n",
       "    <tr>\n",
       "      <th>2</th>\n",
       "      <td>[[0.0, 0.0103436988543, 0.0203600654664, 0.029...</td>\n",
       "      <td>[[0.0, 0.452896890344, 0.461211129296, 0.46474...</td>\n",
       "      <td>[[0.0, 0.95829787234, 1.0], [0.0, 0.9687745483...</td>\n",
       "      <td>[[0.0, 6.54664484452e-05, 0.000720130932897, 0...</td>\n",
       "      <td>[[0.0, 0.0858919803601, 0.0858919803601, 0.085...</td>\n",
       "    </tr>\n",
       "    <tr>\n",
       "      <th>3</th>\n",
       "      <td>[[0.0, 0.0180032733224, 0.0328641571195, 0.044...</td>\n",
       "      <td>[[0.0, 0.594500818331, 0.599410801964, 0.60196...</td>\n",
       "      <td>[[0.0, 0.927528641571, 1.0], [0.0, 0.978462948...</td>\n",
       "      <td>[[0.0, 6.54664484452e-05, 0.00104746317512, 0....</td>\n",
       "      <td>[[0.0, 0.158821603928, 0.158887070376, 0.15888...</td>\n",
       "    </tr>\n",
       "    <tr>\n",
       "      <th>4</th>\n",
       "      <td>[[0.0, 0.0650736497545, 0.0855646481178, 0.101...</td>\n",
       "      <td>[[0.0, 0.501669394435, 0.507692307692, 0.51122...</td>\n",
       "      <td>[[0.0, 0.942978723404, 1.0], [0.0, 0.975975386...</td>\n",
       "      <td>[[0.0, 6.54664484452e-05, 0.00288052373159, 0....</td>\n",
       "      <td>[[0.0, 0.133027823241, 0.133027823241, 0.13348...</td>\n",
       "    </tr>\n",
       "    <tr>\n",
       "      <th>5</th>\n",
       "      <td>[[0.0, 0.0347626841244, 0.0504746317512, 0.063...</td>\n",
       "      <td>[[0.0, 0.379443535188, 0.385531914894, 0.38873...</td>\n",
       "      <td>[[0.0, 0.94147299509, 1.0], [0.0, 0.9685781618...</td>\n",
       "      <td>[[0.0, 6.54664484452e-05, 0.000327332242226, 0...</td>\n",
       "      <td>[[0.0, 0.0506055646481, 0.0506055646481, 0.050...</td>\n",
       "    </tr>\n",
       "    <tr>\n",
       "      <th>6</th>\n",
       "      <td>[[0.0, 0.049558101473, 0.0594435351882, 0.0693...</td>\n",
       "      <td>[[0.0, 0.436137479542, 0.443993453355, 0.44896...</td>\n",
       "      <td>[[0.0, 0.721833060556, 1.0], [0.0, 0.947761194...</td>\n",
       "      <td>[[0.0, 6.54664484452e-05, 0.000720130932897, 0...</td>\n",
       "      <td>[[0.0, 0.252896890344, 0.253224222586, 0.25322...</td>\n",
       "    </tr>\n",
       "    <tr>\n",
       "      <th>7</th>\n",
       "      <td>[[0.0, 0.0284779050736, 0.0390180032733, 0.046...</td>\n",
       "      <td>[[0.0, 0.429198036007, 0.437970540098, 0.44274...</td>\n",
       "      <td>[[0.0, 0.801963993453, 1.0], [0.0, 0.927009688...</td>\n",
       "      <td>[[0.0, 6.54664484452e-05, 6.54664484452e-05, 0...</td>\n",
       "      <td>[[0.0, 0.111423895254, 0.111751227496, 0.11175...</td>\n",
       "    </tr>\n",
       "    <tr>\n",
       "      <th>8</th>\n",
       "      <td>[[0.0, 0.00530278232406, 0.0126350245499, 0.02...</td>\n",
       "      <td>[[0.0, 0.499443535188, 0.5052700491, 0.5091325...</td>\n",
       "      <td>[[0.0, 0.9158101473, 1.0], [0.0, 0.83228593872...</td>\n",
       "      <td>[[0.0, 0.0, 6.54664484452e-05, 6.54664484452e-...</td>\n",
       "      <td>[[0.0, 0.119541734861, 0.119738134206, 0.11973...</td>\n",
       "    </tr>\n",
       "    <tr>\n",
       "      <th>9</th>\n",
       "      <td>[[0.0, 0.00170235055326, 0.00425587638316, 0.0...</td>\n",
       "      <td>[[0.0, 0.474039154063, 0.474104629084, 0.48065...</td>\n",
       "      <td>[[0.0, 0.572317161003, 1.0], [0.0, 0.852943102...</td>\n",
       "      <td>[[0.0, 0.0, 6.54750212794e-05, 6.54750212794e-...</td>\n",
       "      <td>[[0.0, 0.128265566686, 0.128265566686, 0.12833...</td>\n",
       "    </tr>\n",
       "  </tbody>\n",
       "</table>\n",
       "</div>"
      ],
      "text/plain": [
       "                                KNeighborsClassifier  \\\n",
       "0  [[0.0, 0.0164320785597, 0.0275613747954, 0.038...   \n",
       "1  [[0.0, 0.00451718494272, 0.0111947626841, 0.01...   \n",
       "2  [[0.0, 0.0103436988543, 0.0203600654664, 0.029...   \n",
       "3  [[0.0, 0.0180032733224, 0.0328641571195, 0.044...   \n",
       "4  [[0.0, 0.0650736497545, 0.0855646481178, 0.101...   \n",
       "5  [[0.0, 0.0347626841244, 0.0504746317512, 0.063...   \n",
       "6  [[0.0, 0.049558101473, 0.0594435351882, 0.0693...   \n",
       "7  [[0.0, 0.0284779050736, 0.0390180032733, 0.046...   \n",
       "8  [[0.0, 0.00530278232406, 0.0126350245499, 0.02...   \n",
       "9  [[0.0, 0.00170235055326, 0.00425587638316, 0.0...   \n",
       "\n",
       "                                          GaussianNB  \\\n",
       "0  [[0.0, 0.00163666121113, 0.00163666121113, 0.0...   \n",
       "1  [[0.0, 0.00281505728314, 0.00301145662848, 0.0...   \n",
       "2  [[0.0, 0.452896890344, 0.461211129296, 0.46474...   \n",
       "3  [[0.0, 0.594500818331, 0.599410801964, 0.60196...   \n",
       "4  [[0.0, 0.501669394435, 0.507692307692, 0.51122...   \n",
       "5  [[0.0, 0.379443535188, 0.385531914894, 0.38873...   \n",
       "6  [[0.0, 0.436137479542, 0.443993453355, 0.44896...   \n",
       "7  [[0.0, 0.429198036007, 0.437970540098, 0.44274...   \n",
       "8  [[0.0, 0.499443535188, 0.5052700491, 0.5091325...   \n",
       "9  [[0.0, 0.474039154063, 0.474104629084, 0.48065...   \n",
       "\n",
       "                              DecisionTreeClassifier  \\\n",
       "0  [[0.0, 0.995090016367, 1.0], [0.0, 0.972047656...   \n",
       "1  [[0.0, 0.802225859247, 1.0], [0.0, 0.795037968...   \n",
       "2  [[0.0, 0.95829787234, 1.0], [0.0, 0.9687745483...   \n",
       "3  [[0.0, 0.927528641571, 1.0], [0.0, 0.978462948...   \n",
       "4  [[0.0, 0.942978723404, 1.0], [0.0, 0.975975386...   \n",
       "5  [[0.0, 0.94147299509, 1.0], [0.0, 0.9685781618...   \n",
       "6  [[0.0, 0.721833060556, 1.0], [0.0, 0.947761194...   \n",
       "7  [[0.0, 0.801963993453, 1.0], [0.0, 0.927009688...   \n",
       "8  [[0.0, 0.9158101473, 1.0], [0.0, 0.83228593872...   \n",
       "9  [[0.0, 0.572317161003, 1.0], [0.0, 0.852943102...   \n",
       "\n",
       "                                                 SVM  \\\n",
       "0  [[0.0, 1.0, 1.0], [0.0, 0.999934537837, 1.0], ...   \n",
       "1  [[0.0, 6.54664484452e-05, 6.54664484452e-05, 0...   \n",
       "2  [[0.0, 6.54664484452e-05, 0.000720130932897, 0...   \n",
       "3  [[0.0, 6.54664484452e-05, 0.00104746317512, 0....   \n",
       "4  [[0.0, 6.54664484452e-05, 0.00288052373159, 0....   \n",
       "5  [[0.0, 6.54664484452e-05, 0.000327332242226, 0...   \n",
       "6  [[0.0, 6.54664484452e-05, 0.000720130932897, 0...   \n",
       "7  [[0.0, 6.54664484452e-05, 6.54664484452e-05, 0...   \n",
       "8  [[0.0, 0.0, 6.54664484452e-05, 6.54664484452e-...   \n",
       "9  [[0.0, 0.0, 6.54750212794e-05, 6.54750212794e-...   \n",
       "\n",
       "                                                 MLP  \n",
       "0  [[0.0, 0.225139116203, 0.225139116203, 0.22520...  \n",
       "1  [[0.0, 0.200916530278, 0.201178396072, 0.20117...  \n",
       "2  [[0.0, 0.0858919803601, 0.0858919803601, 0.085...  \n",
       "3  [[0.0, 0.158821603928, 0.158887070376, 0.15888...  \n",
       "4  [[0.0, 0.133027823241, 0.133027823241, 0.13348...  \n",
       "5  [[0.0, 0.0506055646481, 0.0506055646481, 0.050...  \n",
       "6  [[0.0, 0.252896890344, 0.253224222586, 0.25322...  \n",
       "7  [[0.0, 0.111423895254, 0.111751227496, 0.11175...  \n",
       "8  [[0.0, 0.119541734861, 0.119738134206, 0.11973...  \n",
       "9  [[0.0, 0.128265566686, 0.128265566686, 0.12833...  "
      ]
     },
     "execution_count": 180,
     "metadata": {},
     "output_type": "execute_result"
    }
   ],
   "source": [
    "rocCND = pd.DataFrame.from_dict(rocCND, 'index')\n",
    "rocCND.rename(columns={0:'KNeighborsClassifier', 1: 'GaussianNB', 2: 'DecisionTreeClassifier', 3:'SVM', 4:'MLP'})"
   ]
  },
  {
   "cell_type": "code",
   "execution_count": 181,
   "metadata": {
    "collapsed": true
   },
   "outputs": [],
   "source": [
    "aucCNDScores = getAUCScore(rocCND)"
   ]
  },
  {
   "cell_type": "code",
   "execution_count": 182,
   "metadata": {},
   "outputs": [
    {
     "data": {
      "image/png": "[encoded data removed]",
      "text/plain": [
       "<matplotlib.figure.Figure at 0x1260470f0>"
      ]
     },
     "metadata": {},
     "output_type": "display_data"
    }
   ],
   "source": [
    "plotROC(rocCND)"
   ]
  },
  {
   "cell_type": "code",
   "execution_count": 183,
   "metadata": {},
   "outputs": [
    {
     "data": {
      "text/plain": [
       "<matplotlib.axes._subplots.AxesSubplot at 0x12aed0a90>"
      ]
     },
     "execution_count": 183,
     "metadata": {},
     "output_type": "execute_result"
    },
    {
     "data": {
      "image/png": "[encoded data removed]",
      "text/plain": [
       "<matplotlib.figure.Figure at 0x12aec6d30>"
      ]
     },
     "metadata": {},
     "output_type": "display_data"
    }
   ],
   "source": [
    "#step one, do T test\n",
    "\n",
    "aucCNDDF = pd.DataFrame.from_dict(aucCNDScores, 'index')\n",
    "aucCNDDF = aucCNDDF.rename(columns={0:'KNN', 1: 'NB', 2: 'DT', 3:'SVM', 4:'MLP'})\n",
    "\n",
    "knnCNDList = list(aucCNDDF['KNN'])\n",
    "gnbCNDList = list(aucCNDDF['NB'])\n",
    "dtCNDList = list(aucCNDDF['DT'])\n",
    "svmCNDList = list(aucCNDDF['SVM'])\n",
    "mplCNDList = list(aucCNDDF['MLP'])\n",
    "\n",
    "\n",
    "\n",
    "#stats.ttest_rel(knnNDList, mplNDList) #shows us the bigger picture from the number\n",
    "\n",
    "\n",
    "aucCNDDes = aucCNDDF.describe()\n",
    "\n",
    "aucCNDMean = pd.Series.to_frame(aucCNDDes.loc[aucCNDDes.index[1]])\n",
    "aucCNDSTD = pd.Series.to_frame(aucCNDDes.loc[aucCNDDes.index[2]])\n",
    "\n",
    "aucCNDDF.plot(kind='box', title='AUC Mean', ylim=(0, 1))"
   ]
  },
  {
   "cell_type": "code",
   "execution_count": 184,
   "metadata": {
    "collapsed": true
   },
   "outputs": [],
   "source": [
    "aucCNDDF.to_csv('created_data/AUC_Scores/UCUNUD_auc.csv', encoding='utf-8')"
   ]
  },
  {
   "cell_type": "markdown",
   "metadata": {},
   "source": [
    "# UC + UN + US"
   ]
  },
  {
   "cell_type": "code",
   "execution_count": 185,
   "metadata": {
    "collapsed": true
   },
   "outputs": [],
   "source": [
    "dfPolCNS = pd.concat([dfPolUC, dfPolSent, dfPolUN], axis=1)\n",
    "dfPolCNS = dfPolCNS.dropna(axis=0)\n",
    "\n",
    "dfLegCNS = pd.concat([dfLegUC, dfLegSent, dfLegUN], axis=1)\n",
    "dfLegCNS = dfLegCNS.dropna(axis=0)"
   ]
  },
  {
   "cell_type": "code",
   "execution_count": 186,
   "metadata": {
    "collapsed": true
   },
   "outputs": [],
   "source": [
    "rocCNS = getROC(dfPolCNS, dfLegCNS, 10)\n",
    "# THIS CONTAINS THE NaN error or too large of a number. This has to do with UC its self"
   ]
  },
  {
   "cell_type": "code",
   "execution_count": 187,
   "metadata": {},
   "outputs": [
    {
     "data": {
      "text/html": [
       "<div>\n",
       "<style>\n",
       "    .dataframe thead tr:only-child th {\n",
       "        text-align: right;\n",
       "    }\n",
       "\n",
       "    .dataframe thead th {\n",
       "        text-align: left;\n",
       "    }\n",
       "\n",
       "    .dataframe tbody tr th {\n",
       "        vertical-align: top;\n",
       "    }\n",
       "</style>\n",
       "<table border=\"1\" class=\"dataframe\">\n",
       "  <thead>\n",
       "    <tr style=\"text-align: right;\">\n",
       "      <th></th>\n",
       "      <th>KNeighborsClassifier</th>\n",
       "      <th>GaussianNB</th>\n",
       "      <th>DecisionTreeClassifier</th>\n",
       "      <th>SVM</th>\n",
       "      <th>MLP</th>\n",
       "    </tr>\n",
       "  </thead>\n",
       "  <tbody>\n",
       "    <tr>\n",
       "      <th>0</th>\n",
       "      <td>[[0.0, 0.0103436988543, 0.01852700491, 0.02592...</td>\n",
       "      <td>[[0.0, 0.00157119476268, 0.00157119476268, 0.0...</td>\n",
       "      <td>[[0.0, 0.151292962357, 1.0], [0.0, 0.755760670...</td>\n",
       "      <td>[[0.0, 6.54664484452e-05, 0.000261865793781, 0...</td>\n",
       "      <td>[[0.0, 0.0, 0.999934533552, 0.999934533552, 1....</td>\n",
       "    </tr>\n",
       "    <tr>\n",
       "      <th>1</th>\n",
       "      <td>[[0.0, 0.00425531914894, 0.0134206219313, 0.02...</td>\n",
       "      <td>[[0.0, 0.00222585924714, 0.00248772504092, 0.0...</td>\n",
       "      <td>[[0.0, 0.144549918167, 1.0], [0.0, 0.741882691...</td>\n",
       "      <td>[[0.0, 6.54664484452e-05, 0.0013093289689, 0.0...</td>\n",
       "      <td>[[0.0, 0.99240589198, 0.992536824877, 0.992536...</td>\n",
       "    </tr>\n",
       "    <tr>\n",
       "      <th>2</th>\n",
       "      <td>[[0.0, 0.00805237315876, 0.0192471358429, 0.02...</td>\n",
       "      <td>[[0.0, 0.00896890343699, 0.00923076923077, 0.0...</td>\n",
       "      <td>[[0.0, 0.158036006547, 1.0], [0.0, 0.792943178...</td>\n",
       "      <td>[[0.0, 0.0, 0.0, 6.54664484452e-05, 6.54664484...</td>\n",
       "      <td>[[0.0, 0.0, 6.54664484452e-05, 6.54664484452e-...</td>\n",
       "    </tr>\n",
       "    <tr>\n",
       "      <th>3</th>\n",
       "      <td>[[0.0, 0.014271685761, 0.0280196399345, 0.0390...</td>\n",
       "      <td>[[0.0, 0.00903436988543, 0.00929623567921, 0.0...</td>\n",
       "      <td>[[0.0, 0.156006546645, 1.0], [0.0, 0.794514270...</td>\n",
       "      <td>[[0.0, 6.54664484452e-05, 0.00144026186579, 0....</td>\n",
       "      <td>[[0.0, 0.122225859247, 0.122291325696, 0.12229...</td>\n",
       "    </tr>\n",
       "    <tr>\n",
       "      <th>4</th>\n",
       "      <td>[[0.0, 0.00916530278232, 0.0225859247136, 0.03...</td>\n",
       "      <td>[[0.0, 0.00713584288052, 0.00720130932897, 0.0...</td>\n",
       "      <td>[[0.0, 0.140490998363, 1.0], [0.0, 0.782010997...</td>\n",
       "      <td>[[0.0, 0.0, 6.54664484452e-05, 6.54664484452e-...</td>\n",
       "      <td>[[0.0, 0.0033387888707, 0.00340425531915, 1.0]...</td>\n",
       "    </tr>\n",
       "    <tr>\n",
       "      <th>5</th>\n",
       "      <td>[[0.0, 0.0094271685761, 0.0188543371522, 0.027...</td>\n",
       "      <td>[[0.0, 0.0126350245499, 0.0126350245499, 0.012...</td>\n",
       "      <td>[[0.0, 0.12, 1.0], [0.0, 0.761128567688, 1.0],...</td>\n",
       "      <td>[[0.0, 0.0, 0.00013093289689, 0.00013093289689...</td>\n",
       "      <td>[[0.0, 0.999934533552, 1.0, 1.0], [0.0, 0.9987...</td>\n",
       "    </tr>\n",
       "    <tr>\n",
       "      <th>6</th>\n",
       "      <td>[[0.0, 0.00968903436989, 0.0184615384615, 0.02...</td>\n",
       "      <td>[[0.0, 0.00837970540098, 0.00837970540098, 0.0...</td>\n",
       "      <td>[[0.0, 0.116595744681, 1.0], [0.0, 0.756808064...</td>\n",
       "      <td>[[0.0, 6.54664484452e-05, 0.00013093289689, 0....</td>\n",
       "      <td>[[0.0, 0.0, 6.54664484452e-05, 6.54664484452e-...</td>\n",
       "    </tr>\n",
       "    <tr>\n",
       "      <th>7</th>\n",
       "      <td>[[0.0, 0.00687397708674, 0.0131587561375, 0.01...</td>\n",
       "      <td>[[0.0, 0.0108019639935, 0.0108019639935, 0.011...</td>\n",
       "      <td>[[0.0, 0.128576104746, 1.0], [0.0, 0.779588897...</td>\n",
       "      <td>[[0.0, 0.0, 0.00013093289689, 0.00013093289689...</td>\n",
       "      <td>[[0.0, 0.0, 0.00013093289689, 1.0, 1.0], [6.54...</td>\n",
       "    </tr>\n",
       "    <tr>\n",
       "      <th>8</th>\n",
       "      <td>[[0.0, 0.0047790507365, 0.0127659574468, 0.021...</td>\n",
       "      <td>[[0.0, 0.00530278232406, 0.00530278232406, 0.0...</td>\n",
       "      <td>[[0.0, 0.137806873977, 1.0], [0.0, 0.725909924...</td>\n",
       "      <td>[[0.0, 0.0, 6.54664484452e-05, 6.54664484452e-...</td>\n",
       "      <td>[[0.0, 1.0, 1.0], [0.0, 0.999738151349, 1.0], ...</td>\n",
       "    </tr>\n",
       "    <tr>\n",
       "      <th>9</th>\n",
       "      <td>[[0.0, 0.00157140051071, 0.0041249263406, 0.01...</td>\n",
       "      <td>[[0.0, 0.0296601846396, 0.0297256596608, 0.030...</td>\n",
       "      <td>[[0.0, 0.162705427879, 1.0], [0.0, 0.775813527...</td>\n",
       "      <td>[[0.0, 0.0, 6.54750212794e-05, 6.54750212794e-...</td>\n",
       "      <td>[[0.0, 1.0], [0.0, 1.0], [1.4633892695, 0.4633...</td>\n",
       "    </tr>\n",
       "  </tbody>\n",
       "</table>\n",
       "</div>"
      ],
      "text/plain": [
       "                                KNeighborsClassifier  \\\n",
       "0  [[0.0, 0.0103436988543, 0.01852700491, 0.02592...   \n",
       "1  [[0.0, 0.00425531914894, 0.0134206219313, 0.02...   \n",
       "2  [[0.0, 0.00805237315876, 0.0192471358429, 0.02...   \n",
       "3  [[0.0, 0.014271685761, 0.0280196399345, 0.0390...   \n",
       "4  [[0.0, 0.00916530278232, 0.0225859247136, 0.03...   \n",
       "5  [[0.0, 0.0094271685761, 0.0188543371522, 0.027...   \n",
       "6  [[0.0, 0.00968903436989, 0.0184615384615, 0.02...   \n",
       "7  [[0.0, 0.00687397708674, 0.0131587561375, 0.01...   \n",
       "8  [[0.0, 0.0047790507365, 0.0127659574468, 0.021...   \n",
       "9  [[0.0, 0.00157140051071, 0.0041249263406, 0.01...   \n",
       "\n",
       "                                          GaussianNB  \\\n",
       "0  [[0.0, 0.00157119476268, 0.00157119476268, 0.0...   \n",
       "1  [[0.0, 0.00222585924714, 0.00248772504092, 0.0...   \n",
       "2  [[0.0, 0.00896890343699, 0.00923076923077, 0.0...   \n",
       "3  [[0.0, 0.00903436988543, 0.00929623567921, 0.0...   \n",
       "4  [[0.0, 0.00713584288052, 0.00720130932897, 0.0...   \n",
       "5  [[0.0, 0.0126350245499, 0.0126350245499, 0.012...   \n",
       "6  [[0.0, 0.00837970540098, 0.00837970540098, 0.0...   \n",
       "7  [[0.0, 0.0108019639935, 0.0108019639935, 0.011...   \n",
       "8  [[0.0, 0.00530278232406, 0.00530278232406, 0.0...   \n",
       "9  [[0.0, 0.0296601846396, 0.0297256596608, 0.030...   \n",
       "\n",
       "                              DecisionTreeClassifier  \\\n",
       "0  [[0.0, 0.151292962357, 1.0], [0.0, 0.755760670...   \n",
       "1  [[0.0, 0.144549918167, 1.0], [0.0, 0.741882691...   \n",
       "2  [[0.0, 0.158036006547, 1.0], [0.0, 0.792943178...   \n",
       "3  [[0.0, 0.156006546645, 1.0], [0.0, 0.794514270...   \n",
       "4  [[0.0, 0.140490998363, 1.0], [0.0, 0.782010997...   \n",
       "5  [[0.0, 0.12, 1.0], [0.0, 0.761128567688, 1.0],...   \n",
       "6  [[0.0, 0.116595744681, 1.0], [0.0, 0.756808064...   \n",
       "7  [[0.0, 0.128576104746, 1.0], [0.0, 0.779588897...   \n",
       "8  [[0.0, 0.137806873977, 1.0], [0.0, 0.725909924...   \n",
       "9  [[0.0, 0.162705427879, 1.0], [0.0, 0.775813527...   \n",
       "\n",
       "                                                 SVM  \\\n",
       "0  [[0.0, 6.54664484452e-05, 0.000261865793781, 0...   \n",
       "1  [[0.0, 6.54664484452e-05, 0.0013093289689, 0.0...   \n",
       "2  [[0.0, 0.0, 0.0, 6.54664484452e-05, 6.54664484...   \n",
       "3  [[0.0, 6.54664484452e-05, 0.00144026186579, 0....   \n",
       "4  [[0.0, 0.0, 6.54664484452e-05, 6.54664484452e-...   \n",
       "5  [[0.0, 0.0, 0.00013093289689, 0.00013093289689...   \n",
       "6  [[0.0, 6.54664484452e-05, 0.00013093289689, 0....   \n",
       "7  [[0.0, 0.0, 0.00013093289689, 0.00013093289689...   \n",
       "8  [[0.0, 0.0, 6.54664484452e-05, 6.54664484452e-...   \n",
       "9  [[0.0, 0.0, 6.54750212794e-05, 6.54750212794e-...   \n",
       "\n",
       "                                                 MLP  \n",
       "0  [[0.0, 0.0, 0.999934533552, 0.999934533552, 1....  \n",
       "1  [[0.0, 0.99240589198, 0.992536824877, 0.992536...  \n",
       "2  [[0.0, 0.0, 6.54664484452e-05, 6.54664484452e-...  \n",
       "3  [[0.0, 0.122225859247, 0.122291325696, 0.12229...  \n",
       "4  [[0.0, 0.0033387888707, 0.00340425531915, 1.0]...  \n",
       "5  [[0.0, 0.999934533552, 1.0, 1.0], [0.0, 0.9987...  \n",
       "6  [[0.0, 0.0, 6.54664484452e-05, 6.54664484452e-...  \n",
       "7  [[0.0, 0.0, 0.00013093289689, 1.0, 1.0], [6.54...  \n",
       "8  [[0.0, 1.0, 1.0], [0.0, 0.999738151349, 1.0], ...  \n",
       "9  [[0.0, 1.0], [0.0, 1.0], [1.4633892695, 0.4633...  "
      ]
     },
     "execution_count": 187,
     "metadata": {},
     "output_type": "execute_result"
    }
   ],
   "source": [
    "rocCNS = pd.DataFrame.from_dict(rocCNS, 'index')\n",
    "rocCNS.rename(columns={0:'KNeighborsClassifier', 1: 'GaussianNB', 2: 'DecisionTreeClassifier', 3:'SVM', 4:'MLP'})"
   ]
  },
  {
   "cell_type": "code",
   "execution_count": 188,
   "metadata": {
    "collapsed": true
   },
   "outputs": [],
   "source": [
    "aucCNSScores = getAUCScore(rocCNS)"
   ]
  },
  {
   "cell_type": "code",
   "execution_count": 189,
   "metadata": {},
   "outputs": [
    {
     "data": {
      "image/png": "[encoded data removed]",
      "text/plain": [
       "<matplotlib.figure.Figure at 0x12b0c08d0>"
      ]
     },
     "metadata": {},
     "output_type": "display_data"
    }
   ],
   "source": [
    "plotROC(rocCNS)"
   ]
  },
  {
   "cell_type": "code",
   "execution_count": 191,
   "metadata": {},
   "outputs": [
    {
     "data": {
      "text/plain": [
       "<matplotlib.axes._subplots.AxesSubplot at 0x12aad6a90>"
      ]
     },
     "execution_count": 191,
     "metadata": {},
     "output_type": "execute_result"
    },
    {
     "data": {
      "image/png": "[encoded data removed]",
      "text/plain": [
       "<matplotlib.figure.Figure at 0x12606d470>"
      ]
     },
     "metadata": {},
     "output_type": "display_data"
    }
   ],
   "source": [
    "#step one, do T test\n",
    "\n",
    "aucCNSDF = pd.DataFrame.from_dict(aucCNSScores, 'index')\n",
    "aucCNSDF = aucCNSDF.rename(columns={0:'KNN', 1: 'NB', 2: 'DT', 3:'SVM', 4:'MLP'})\n",
    "\n",
    "knnCNSList = list(aucCNSDF['KNN'])\n",
    "gnbCNSList = list(aucCNSDF['NB'])\n",
    "dtCNSList = list(aucCNSDF['DT'])\n",
    "svmCNSList = list(aucCNSDF['SVM'])\n",
    "mplCNSList = list(aucCNSDF['MLP'])\n",
    "\n",
    "\n",
    "\n",
    "#stats.ttest_rel(knnNDList, mplNDList) #shows us the bigger picture from the number\n",
    "\n",
    "\n",
    "aucCNSDes = aucCNSDF.describe()\n",
    "\n",
    "aucCNSMean = pd.Series.to_frame(aucCNSDes.loc[aucCNSDes.index[1]])\n",
    "aucCNSSTD = pd.Series.to_frame(aucCNSDes.loc[aucCNSDes.index[2]])\n",
    "\n",
    "aucCNSDF.plot(kind='box', title='AUC Mean', ylim=(0, 1))"
   ]
  },
  {
   "cell_type": "code",
   "execution_count": 192,
   "metadata": {
    "collapsed": true
   },
   "outputs": [],
   "source": [
    "aucCNSDF.to_csv('created_data/AUC_Scores/UCUNUS_auc.csv', encoding='utf-8')"
   ]
  },
  {
   "cell_type": "markdown",
   "metadata": {},
   "source": [
    "# UC + US + UD"
   ]
  },
  {
   "cell_type": "code",
   "execution_count": 193,
   "metadata": {
    "collapsed": true
   },
   "outputs": [],
   "source": [
    "dfPolCSD = pd.concat([dfPolUC, dfPolSent, dfPolUD], axis=1)\n",
    "dfPolCSD = dfPolCSD.dropna(axis=0)\n",
    "\n",
    "dfLegCSD = pd.concat([dfLegUC, dfLegSent, dfLegUD], axis=1)\n",
    "dfLegCSD = dfLegCSD.dropna(axis=0)"
   ]
  },
  {
   "cell_type": "code",
   "execution_count": 194,
   "metadata": {},
   "outputs": [],
   "source": [
    "rocCSD = getROC(dfPolCSD, dfLegCSD, 10)\n",
    "# THIS CONTAINS THE NaN error or too large of a number. This has to do with UC its self"
   ]
  },
  {
   "cell_type": "code",
   "execution_count": 195,
   "metadata": {},
   "outputs": [
    {
     "data": {
      "text/html": [
       "<div>\n",
       "<style>\n",
       "    .dataframe thead tr:only-child th {\n",
       "        text-align: right;\n",
       "    }\n",
       "\n",
       "    .dataframe thead th {\n",
       "        text-align: left;\n",
       "    }\n",
       "\n",
       "    .dataframe tbody tr th {\n",
       "        vertical-align: top;\n",
       "    }\n",
       "</style>\n",
       "<table border=\"1\" class=\"dataframe\">\n",
       "  <thead>\n",
       "    <tr style=\"text-align: right;\">\n",
       "      <th></th>\n",
       "      <th>KNeighborsClassifier</th>\n",
       "      <th>GaussianNB</th>\n",
       "      <th>DecisionTreeClassifier</th>\n",
       "      <th>SVM</th>\n",
       "      <th>MLP</th>\n",
       "    </tr>\n",
       "  </thead>\n",
       "  <tbody>\n",
       "    <tr>\n",
       "      <th>0</th>\n",
       "      <td>[[0.0, 0.585073649755, 0.631031096563, 0.66743...</td>\n",
       "      <td>[[0.0, 0.000458265139116, 0.000458265139116, 0...</td>\n",
       "      <td>[[0.0, 0.926219312602, 1.0], [0.0, 0.965435978...</td>\n",
       "      <td>[[0.0, 0.0, 1.0, 1.0, 1.0, 1.0, 1.0, 1.0, 1.0,...</td>\n",
       "      <td>[[0.0, 0.0, 0.00013093289689, 0.00013093289689...</td>\n",
       "    </tr>\n",
       "    <tr>\n",
       "      <th>1</th>\n",
       "      <td>[[0.0, 0.118101472995, 0.157708674304, 0.18945...</td>\n",
       "      <td>[[0.0, 0.000261865793781, 0.000261865793781, 0...</td>\n",
       "      <td>[[0.0, 0.931653027823, 1.0], [0.0, 0.870712228...</td>\n",
       "      <td>[[0.0, 0.0, 6.54664484452e-05, 6.54664484452e-...</td>\n",
       "      <td>[[0.0, 0.0, 6.54664484452e-05, 6.54664484452e-...</td>\n",
       "    </tr>\n",
       "    <tr>\n",
       "      <th>2</th>\n",
       "      <td>[[0.0, 0.187757774141, 0.21263502455, 0.232995...</td>\n",
       "      <td>[[0.0, 0.465400981997, 0.468543371522, 0.47325...</td>\n",
       "      <td>[[0.0, 0.965237315876, 1.0], [0.0, 0.972571353...</td>\n",
       "      <td>[[0.0, 0.0, 0.00013093289689, 0.00013093289689...</td>\n",
       "      <td>[[0.0, 6.54664484452e-05, 6.54664484452e-05, 6...</td>\n",
       "    </tr>\n",
       "    <tr>\n",
       "      <th>3</th>\n",
       "      <td>[[0.0, 0.218592471358, 0.239476268412, 0.25734...</td>\n",
       "      <td>[[0.0, 0.600720130933, 0.606088379705, 0.60936...</td>\n",
       "      <td>[[0.0, 0.948085106383, 1.0], [0.0, 0.971458496...</td>\n",
       "      <td>[[0.0, 0.0, 6.54664484452e-05, 6.54664484452e-...</td>\n",
       "      <td>[[0.0, 0.0, 6.54664484452e-05, 6.54664484452e-...</td>\n",
       "    </tr>\n",
       "    <tr>\n",
       "      <th>4</th>\n",
       "      <td>[[0.0, 0.202880523732, 0.222585924714, 0.23620...</td>\n",
       "      <td>[[0.0, 0.497610474632, 0.502782324059, 0.50671...</td>\n",
       "      <td>[[0.0, 0.94612111293, 1.0], [0.0, 0.9633411887...</td>\n",
       "      <td>[[0.0, 0.00013093289689, 0.00013093289689, 0.0...</td>\n",
       "      <td>[[0.0, 0.0, 0.00013093289689, 0.00013093289689...</td>\n",
       "    </tr>\n",
       "    <tr>\n",
       "      <th>5</th>\n",
       "      <td>[[0.0, 0.139116202946, 0.151947626841, 0.16307...</td>\n",
       "      <td>[[0.0, 0.38147299509, 0.386841243863, 0.391096...</td>\n",
       "      <td>[[0.0, 0.943764320786, 1.0], [0.0, 0.951623461...</td>\n",
       "      <td>[[0.0, 6.54664484452e-05, 6.54664484452e-05, 0...</td>\n",
       "      <td>[[0.0, 0.0210147299509, 0.0224549918167, 0.022...</td>\n",
       "    </tr>\n",
       "    <tr>\n",
       "      <th>6</th>\n",
       "      <td>[[0.0, 0.0996399345336, 0.110638297872, 0.1206...</td>\n",
       "      <td>[[0.0, 0.453551554828, 0.459116202946, 0.46481...</td>\n",
       "      <td>[[0.0, 0.948870703764, 1.0], [0.0, 0.948808588...</td>\n",
       "      <td>[[0.0, 0.000327332242226, 0.000327332242226, 0...</td>\n",
       "      <td>[[0.0, 0.0168248772504, 0.0181342062193, 0.018...</td>\n",
       "    </tr>\n",
       "    <tr>\n",
       "      <th>7</th>\n",
       "      <td>[[0.0, 0.0733224222586, 0.0884451718494, 0.100...</td>\n",
       "      <td>[[0.0, 0.434762684124, 0.439476268412, 0.44589...</td>\n",
       "      <td>[[0.0, 0.935319148936, 1.0], [0.0, 0.932704896...</td>\n",
       "      <td>[[0.0, 0.0, 6.54664484452e-05, 6.54664484452e-...</td>\n",
       "      <td>[[0.0, 0.0, 0.0, 0.0, 0.0, 0.0, 0.0, 0.0, 0.0,...</td>\n",
       "    </tr>\n",
       "    <tr>\n",
       "      <th>8</th>\n",
       "      <td>[[0.0, 0.0772504091653, 0.0961047463175, 0.111...</td>\n",
       "      <td>[[0.0, 0.503829787234, 0.505859247136, 0.51116...</td>\n",
       "      <td>[[0.0, 0.878690671031, 1.0], [0.0, 0.896635244...</td>\n",
       "      <td>[[0.0, 0.0, 6.54664484452e-05, 6.54664484452e-...</td>\n",
       "      <td>[[0.0, 0.0, 6.54664484452e-05, 6.54664484452e-...</td>\n",
       "    </tr>\n",
       "    <tr>\n",
       "      <th>9</th>\n",
       "      <td>[[0.0, 0.0515943167682, 0.0750343743862, 0.089...</td>\n",
       "      <td>[[0.0, 0.472402278531, 0.478098605382, 0.48215...</td>\n",
       "      <td>[[0.0, 0.851764551823, 1.0], [0.0, 0.839258822...</td>\n",
       "      <td>[[0.0, 0.0, 6.54750212794e-05, 6.54750212794e-...</td>\n",
       "      <td>[[0.0, 0.0, 6.54750212794e-05, 6.54750212794e-...</td>\n",
       "    </tr>\n",
       "  </tbody>\n",
       "</table>\n",
       "</div>"
      ],
      "text/plain": [
       "                                KNeighborsClassifier  \\\n",
       "0  [[0.0, 0.585073649755, 0.631031096563, 0.66743...   \n",
       "1  [[0.0, 0.118101472995, 0.157708674304, 0.18945...   \n",
       "2  [[0.0, 0.187757774141, 0.21263502455, 0.232995...   \n",
       "3  [[0.0, 0.218592471358, 0.239476268412, 0.25734...   \n",
       "4  [[0.0, 0.202880523732, 0.222585924714, 0.23620...   \n",
       "5  [[0.0, 0.139116202946, 0.151947626841, 0.16307...   \n",
       "6  [[0.0, 0.0996399345336, 0.110638297872, 0.1206...   \n",
       "7  [[0.0, 0.0733224222586, 0.0884451718494, 0.100...   \n",
       "8  [[0.0, 0.0772504091653, 0.0961047463175, 0.111...   \n",
       "9  [[0.0, 0.0515943167682, 0.0750343743862, 0.089...   \n",
       "\n",
       "                                          GaussianNB  \\\n",
       "0  [[0.0, 0.000458265139116, 0.000458265139116, 0...   \n",
       "1  [[0.0, 0.000261865793781, 0.000261865793781, 0...   \n",
       "2  [[0.0, 0.465400981997, 0.468543371522, 0.47325...   \n",
       "3  [[0.0, 0.600720130933, 0.606088379705, 0.60936...   \n",
       "4  [[0.0, 0.497610474632, 0.502782324059, 0.50671...   \n",
       "5  [[0.0, 0.38147299509, 0.386841243863, 0.391096...   \n",
       "6  [[0.0, 0.453551554828, 0.459116202946, 0.46481...   \n",
       "7  [[0.0, 0.434762684124, 0.439476268412, 0.44589...   \n",
       "8  [[0.0, 0.503829787234, 0.505859247136, 0.51116...   \n",
       "9  [[0.0, 0.472402278531, 0.478098605382, 0.48215...   \n",
       "\n",
       "                              DecisionTreeClassifier  \\\n",
       "0  [[0.0, 0.926219312602, 1.0], [0.0, 0.965435978...   \n",
       "1  [[0.0, 0.931653027823, 1.0], [0.0, 0.870712228...   \n",
       "2  [[0.0, 0.965237315876, 1.0], [0.0, 0.972571353...   \n",
       "3  [[0.0, 0.948085106383, 1.0], [0.0, 0.971458496...   \n",
       "4  [[0.0, 0.94612111293, 1.0], [0.0, 0.9633411887...   \n",
       "5  [[0.0, 0.943764320786, 1.0], [0.0, 0.951623461...   \n",
       "6  [[0.0, 0.948870703764, 1.0], [0.0, 0.948808588...   \n",
       "7  [[0.0, 0.935319148936, 1.0], [0.0, 0.932704896...   \n",
       "8  [[0.0, 0.878690671031, 1.0], [0.0, 0.896635244...   \n",
       "9  [[0.0, 0.851764551823, 1.0], [0.0, 0.839258822...   \n",
       "\n",
       "                                                 SVM  \\\n",
       "0  [[0.0, 0.0, 1.0, 1.0, 1.0, 1.0, 1.0, 1.0, 1.0,...   \n",
       "1  [[0.0, 0.0, 6.54664484452e-05, 6.54664484452e-...   \n",
       "2  [[0.0, 0.0, 0.00013093289689, 0.00013093289689...   \n",
       "3  [[0.0, 0.0, 6.54664484452e-05, 6.54664484452e-...   \n",
       "4  [[0.0, 0.00013093289689, 0.00013093289689, 0.0...   \n",
       "5  [[0.0, 6.54664484452e-05, 6.54664484452e-05, 0...   \n",
       "6  [[0.0, 0.000327332242226, 0.000327332242226, 0...   \n",
       "7  [[0.0, 0.0, 6.54664484452e-05, 6.54664484452e-...   \n",
       "8  [[0.0, 0.0, 6.54664484452e-05, 6.54664484452e-...   \n",
       "9  [[0.0, 0.0, 6.54750212794e-05, 6.54750212794e-...   \n",
       "\n",
       "                                                 MLP  \n",
       "0  [[0.0, 0.0, 0.00013093289689, 0.00013093289689...  \n",
       "1  [[0.0, 0.0, 6.54664484452e-05, 6.54664484452e-...  \n",
       "2  [[0.0, 6.54664484452e-05, 6.54664484452e-05, 6...  \n",
       "3  [[0.0, 0.0, 6.54664484452e-05, 6.54664484452e-...  \n",
       "4  [[0.0, 0.0, 0.00013093289689, 0.00013093289689...  \n",
       "5  [[0.0, 0.0210147299509, 0.0224549918167, 0.022...  \n",
       "6  [[0.0, 0.0168248772504, 0.0181342062193, 0.018...  \n",
       "7  [[0.0, 0.0, 0.0, 0.0, 0.0, 0.0, 0.0, 0.0, 0.0,...  \n",
       "8  [[0.0, 0.0, 6.54664484452e-05, 6.54664484452e-...  \n",
       "9  [[0.0, 0.0, 6.54750212794e-05, 6.54750212794e-...  "
      ]
     },
     "execution_count": 195,
     "metadata": {},
     "output_type": "execute_result"
    }
   ],
   "source": [
    "rocCSD = pd.DataFrame.from_dict(rocCSD, 'index')\n",
    "rocCSD.rename(columns={0:'KNeighborsClassifier', 1: 'GaussianNB', 2: 'DecisionTreeClassifier', 3:'SVM', 4:'MLP'})"
   ]
  },
  {
   "cell_type": "code",
   "execution_count": 196,
   "metadata": {
    "collapsed": true
   },
   "outputs": [],
   "source": [
    "aucCSDScores = getAUCScore(rocCSD)"
   ]
  },
  {
   "cell_type": "code",
   "execution_count": 197,
   "metadata": {},
   "outputs": [
    {
     "data": {
      "image/png": "[encoded data removed]",
      "text/plain": [
       "<matplotlib.figure.Figure at 0x11e79d898>"
      ]
     },
     "metadata": {},
     "output_type": "display_data"
    }
   ],
   "source": [
    "plotROC(rocCSD)"
   ]
  },
  {
   "cell_type": "code",
   "execution_count": 198,
   "metadata": {},
   "outputs": [
    {
     "data": {
      "text/plain": [
       "<matplotlib.axes._subplots.AxesSubplot at 0x12ad5ef98>"
      ]
     },
     "execution_count": 198,
     "metadata": {},
     "output_type": "execute_result"
    },
    {
     "data": {
      "image/png": "[encoded data removed]",
      "text/plain": [
       "<matplotlib.figure.Figure at 0x12843e080>"
      ]
     },
     "metadata": {},
     "output_type": "display_data"
    }
   ],
   "source": [
    "#step one, do T test\n",
    "\n",
    "aucCSDDF = pd.DataFrame.from_dict(aucCSDScores, 'index')\n",
    "aucCSDDF = aucCSDDF.rename(columns={0:'KNN', 1: 'NB', 2: 'DT', 3:'SVM', 4:'MLP'})\n",
    "\n",
    "knnCSDList = list(aucCSDDF['KNN'])\n",
    "gnbCSDList = list(aucCSDDF['NB'])\n",
    "dtCSDList = list(aucCSDDF['DT'])\n",
    "svmCSDList = list(aucCSDDF['SVM'])\n",
    "mplCSDList = list(aucCSDDF['MLP'])\n",
    "\n",
    "\n",
    "\n",
    "#stats.ttest_rel(knnNDList, mplNDList) #shows us the bigger picture from the number\n",
    "\n",
    "\n",
    "aucCSDDes = aucCSDDF.describe()\n",
    "\n",
    "aucCSDMean = pd.Series.to_frame(aucCSDDes.loc[aucCSDDes.index[1]])\n",
    "aucCSDSTD = pd.Series.to_frame(aucCSDDes.loc[aucCSDDes.index[2]])\n",
    "\n",
    "aucCSDDF.plot(kind='box', title='AUC Mean', ylim=(0, 1))"
   ]
  },
  {
   "cell_type": "code",
   "execution_count": 199,
   "metadata": {
    "collapsed": true
   },
   "outputs": [],
   "source": [
    "aucCSDDF.to_csv('created_data/AUC_Scores/UCUSUD_auc.csv', encoding='utf-8')"
   ]
  },
  {
   "cell_type": "markdown",
   "metadata": {},
   "source": [
    "# UN + UD + US"
   ]
  },
  {
   "cell_type": "code",
   "execution_count": 200,
   "metadata": {
    "collapsed": true
   },
   "outputs": [],
   "source": [
    "dfPolNDS = pd.concat([dfPolUN, dfPolUD, dfPolSent], axis=1)\n",
    "dfPolNDS = dfPolNDS.dropna(axis=0)\n",
    "\n",
    "dfLegNDS = pd.concat([dfLegUN, dfLegUN, dfLegSent], axis=1)\n",
    "dfLegNDS = dfLegNDS.dropna(axis=0)"
   ]
  },
  {
   "cell_type": "code",
   "execution_count": 201,
   "metadata": {
    "collapsed": true
   },
   "outputs": [],
   "source": [
    "for row, index in dfPolNDS.iterrows():\n",
    "    if row not in polUserIDs:\n",
    "        dfPolNDS = dfPolNDS.drop(row)\n",
    "for row, index in dfLegNDS.iterrows():\n",
    "    if row not in legUserIDs:\n",
    "        dfLegNDS = dfLegNDS.drop(row)"
   ]
  },
  {
   "cell_type": "code",
   "execution_count": 202,
   "metadata": {
    "collapsed": true
   },
   "outputs": [],
   "source": [
    "rocNDS = getROC(dfPolNDS, dfLegNDS, 10)"
   ]
  },
  {
   "cell_type": "code",
   "execution_count": 203,
   "metadata": {},
   "outputs": [
    {
     "data": {
      "text/html": [
       "<div>\n",
       "<style>\n",
       "    .dataframe thead tr:only-child th {\n",
       "        text-align: right;\n",
       "    }\n",
       "\n",
       "    .dataframe thead th {\n",
       "        text-align: left;\n",
       "    }\n",
       "\n",
       "    .dataframe tbody tr th {\n",
       "        vertical-align: top;\n",
       "    }\n",
       "</style>\n",
       "<table border=\"1\" class=\"dataframe\">\n",
       "  <thead>\n",
       "    <tr style=\"text-align: right;\">\n",
       "      <th></th>\n",
       "      <th>KNeighborsClassifier</th>\n",
       "      <th>GaussianNB</th>\n",
       "      <th>DecisionTreeClassifier</th>\n",
       "      <th>SVM</th>\n",
       "      <th>MLP</th>\n",
       "    </tr>\n",
       "  </thead>\n",
       "  <tbody>\n",
       "    <tr>\n",
       "      <th>0</th>\n",
       "      <td>[[0.0, 0.000392798690671, 0.0013093289689, 0.0...</td>\n",
       "      <td>[[0.0, 0.00144026186579, 0.00144026186579, 0.0...</td>\n",
       "      <td>[[0.0, 0.000196399345336, 1.0], [0.0, 0.279850...</td>\n",
       "      <td>[[0.0, 0.0, 0.000589198036007, 0.167201309329,...</td>\n",
       "      <td>[[0.0, 0.0, 0.00563011456628, 0.00563011456628...</td>\n",
       "    </tr>\n",
       "    <tr>\n",
       "      <th>1</th>\n",
       "      <td>[[0.0, 0.0, 0.0, 0.000392798690671, 0.00065466...</td>\n",
       "      <td>[[0.0, 0.00386252045827, 0.00386252045827, 0.0...</td>\n",
       "      <td>[[0.0, 0.000392798690671, 1.0], [0.0, 0.354084...</td>\n",
       "      <td>[[0.0, 0.0, 0.0, 0.160654664484, 0.16288052373...</td>\n",
       "      <td>[[0.0, 0.000720130932897, 0.000720130932897, 0...</td>\n",
       "    </tr>\n",
       "    <tr>\n",
       "      <th>2</th>\n",
       "      <td>[[0.0, 0.0, 0.0, 6.54664484452e-05, 0.00013093...</td>\n",
       "      <td>[[0.0, 0.0108674304419, 0.0111947626841, 0.011...</td>\n",
       "      <td>[[0.0, 0.000785597381342, 1.0], [0.0, 0.406192...</td>\n",
       "      <td>[[0.0, 0.0, 6.54664484452e-05, 6.54664484452e-...</td>\n",
       "      <td>[[0.0, 0.00569558101473, 0.00569558101473, 0.0...</td>\n",
       "    </tr>\n",
       "    <tr>\n",
       "      <th>3</th>\n",
       "      <td>[[0.0, 0.0, 0.0, 0.0, 6.54664484452e-05, 0.000...</td>\n",
       "      <td>[[0.0, 0.00720130932897, 0.00746317512275, 0.0...</td>\n",
       "      <td>[[0.0, 0.00104746317512, 1.0], [0.0, 0.4705420...</td>\n",
       "      <td>[[0.0, 0.0, 6.54664484452e-05, 6.54664484452e-...</td>\n",
       "      <td>[[0.0, 0.0, 0.0, 0.0, 0.0712274959083, 0.07142...</td>\n",
       "    </tr>\n",
       "    <tr>\n",
       "      <th>4</th>\n",
       "      <td>[[0.0, 0.0, 0.0, 0.0, 0.0, 6.54664484452e-05, ...</td>\n",
       "      <td>[[0.0, 0.00595744680851, 0.00602291325696, 0.0...</td>\n",
       "      <td>[[0.0, 0.00713584288052, 1.0], [0.0, 0.6283058...</td>\n",
       "      <td>[[0.0, 0.0, 0.0, 0.0, 0.0, 0.0, 0.0, 0.0, 0.0,...</td>\n",
       "      <td>[[0.0, 0.0, 0.0, 0.0, 0.0, 0.0, 6.54664484452e...</td>\n",
       "    </tr>\n",
       "    <tr>\n",
       "      <th>5</th>\n",
       "      <td>[[0.0, 0.0, 0.0, 0.0, 0.0, 6.54664484452e-05, ...</td>\n",
       "      <td>[[0.0, 0.00687397708674, 0.00693944353519, 0.0...</td>\n",
       "      <td>[[0.0, 0.00720130932897, 1.0], [0.0, 0.9228855...</td>\n",
       "      <td>[[0.0, 0.0, 0.0, 0.0, 0.0, 0.0, 0.0, 0.0, 0.0,...</td>\n",
       "      <td>[[0.0, 0.0, 0.0, 0.0, 0.0, 0.0, 0.0, 0.0, 0.0,...</td>\n",
       "    </tr>\n",
       "    <tr>\n",
       "      <th>6</th>\n",
       "      <td>[[0.0, 0.0, 0.0, 0.0, 0.0, 0.0, 0.0, 0.0, 0.0,...</td>\n",
       "      <td>[[0.0, 0.00589198036007, 0.00589198036007, 0.0...</td>\n",
       "      <td>[[0.0, 0.00569558101473, 1.0], [0.0, 0.9198088...</td>\n",
       "      <td>[[0.0, 0.0, 0.0, 0.0, 0.0, 0.0, 0.0, 0.0, 0.0,...</td>\n",
       "      <td>[[0.0, 0.00124386252046, 0.00124386252046, 0.0...</td>\n",
       "    </tr>\n",
       "    <tr>\n",
       "      <th>7</th>\n",
       "      <td>[[0.0, 0.0, 0.0, 0.0, 0.0, 0.0, 0.0, 6.5466448...</td>\n",
       "      <td>[[0.0, 0.00471358428805, 0.00471358428805, 0.0...</td>\n",
       "      <td>[[0.0, 0.0033387888707, 1.0], [0.0, 0.92340926...</td>\n",
       "      <td>[[0.0, 0.0, 6.54664484452e-05, 6.54664484452e-...</td>\n",
       "      <td>[[0.0, 0.000720130932897, 0.000720130932897, 0...</td>\n",
       "    </tr>\n",
       "    <tr>\n",
       "      <th>8</th>\n",
       "      <td>[[0.0, 0.0, 0.0, 0.0, 0.0, 0.0, 0.0, 0.0, 0.0,...</td>\n",
       "      <td>[[0.0, 0.00242225859247, 0.00242225859247, 0.0...</td>\n",
       "      <td>[[0.0, 0.00137479541735, 1.0], [0.0, 0.9266169...</td>\n",
       "      <td>[[0.0, 0.0, 6.54664484452e-05, 6.54664484452e-...</td>\n",
       "      <td>[[0.0, 0.0, 0.000654664484452, 0.0009165302782...</td>\n",
       "    </tr>\n",
       "    <tr>\n",
       "      <th>9</th>\n",
       "      <td>[[0.0, 0.0, 0.0, 0.0, 0.0, 0.0, 0.0, 0.0, 0.0,...</td>\n",
       "      <td>[[0.0, 0.0, 0.0, 0.0, 0.0, 0.0, 0.0, 0.0, 0.0,...</td>\n",
       "      <td>[[0.0, 0.000851175276632, 1.0], [0.0, 0.439206...</td>\n",
       "      <td>[[0.0, 0.0, 0.0, 0.0, 0.0, 0.0, 0.0, 0.0, 0.0,...</td>\n",
       "      <td>[[0.0, 0.0, 0.0, 0.0, 0.000261900085118, 0.000...</td>\n",
       "    </tr>\n",
       "  </tbody>\n",
       "</table>\n",
       "</div>"
      ],
      "text/plain": [
       "                                KNeighborsClassifier  \\\n",
       "0  [[0.0, 0.000392798690671, 0.0013093289689, 0.0...   \n",
       "1  [[0.0, 0.0, 0.0, 0.000392798690671, 0.00065466...   \n",
       "2  [[0.0, 0.0, 0.0, 6.54664484452e-05, 0.00013093...   \n",
       "3  [[0.0, 0.0, 0.0, 0.0, 6.54664484452e-05, 0.000...   \n",
       "4  [[0.0, 0.0, 0.0, 0.0, 0.0, 6.54664484452e-05, ...   \n",
       "5  [[0.0, 0.0, 0.0, 0.0, 0.0, 6.54664484452e-05, ...   \n",
       "6  [[0.0, 0.0, 0.0, 0.0, 0.0, 0.0, 0.0, 0.0, 0.0,...   \n",
       "7  [[0.0, 0.0, 0.0, 0.0, 0.0, 0.0, 0.0, 6.5466448...   \n",
       "8  [[0.0, 0.0, 0.0, 0.0, 0.0, 0.0, 0.0, 0.0, 0.0,...   \n",
       "9  [[0.0, 0.0, 0.0, 0.0, 0.0, 0.0, 0.0, 0.0, 0.0,...   \n",
       "\n",
       "                                          GaussianNB  \\\n",
       "0  [[0.0, 0.00144026186579, 0.00144026186579, 0.0...   \n",
       "1  [[0.0, 0.00386252045827, 0.00386252045827, 0.0...   \n",
       "2  [[0.0, 0.0108674304419, 0.0111947626841, 0.011...   \n",
       "3  [[0.0, 0.00720130932897, 0.00746317512275, 0.0...   \n",
       "4  [[0.0, 0.00595744680851, 0.00602291325696, 0.0...   \n",
       "5  [[0.0, 0.00687397708674, 0.00693944353519, 0.0...   \n",
       "6  [[0.0, 0.00589198036007, 0.00589198036007, 0.0...   \n",
       "7  [[0.0, 0.00471358428805, 0.00471358428805, 0.0...   \n",
       "8  [[0.0, 0.00242225859247, 0.00242225859247, 0.0...   \n",
       "9  [[0.0, 0.0, 0.0, 0.0, 0.0, 0.0, 0.0, 0.0, 0.0,...   \n",
       "\n",
       "                              DecisionTreeClassifier  \\\n",
       "0  [[0.0, 0.000196399345336, 1.0], [0.0, 0.279850...   \n",
       "1  [[0.0, 0.000392798690671, 1.0], [0.0, 0.354084...   \n",
       "2  [[0.0, 0.000785597381342, 1.0], [0.0, 0.406192...   \n",
       "3  [[0.0, 0.00104746317512, 1.0], [0.0, 0.4705420...   \n",
       "4  [[0.0, 0.00713584288052, 1.0], [0.0, 0.6283058...   \n",
       "5  [[0.0, 0.00720130932897, 1.0], [0.0, 0.9228855...   \n",
       "6  [[0.0, 0.00569558101473, 1.0], [0.0, 0.9198088...   \n",
       "7  [[0.0, 0.0033387888707, 1.0], [0.0, 0.92340926...   \n",
       "8  [[0.0, 0.00137479541735, 1.0], [0.0, 0.9266169...   \n",
       "9  [[0.0, 0.000851175276632, 1.0], [0.0, 0.439206...   \n",
       "\n",
       "                                                 SVM  \\\n",
       "0  [[0.0, 0.0, 0.000589198036007, 0.167201309329,...   \n",
       "1  [[0.0, 0.0, 0.0, 0.160654664484, 0.16288052373...   \n",
       "2  [[0.0, 0.0, 6.54664484452e-05, 6.54664484452e-...   \n",
       "3  [[0.0, 0.0, 6.54664484452e-05, 6.54664484452e-...   \n",
       "4  [[0.0, 0.0, 0.0, 0.0, 0.0, 0.0, 0.0, 0.0, 0.0,...   \n",
       "5  [[0.0, 0.0, 0.0, 0.0, 0.0, 0.0, 0.0, 0.0, 0.0,...   \n",
       "6  [[0.0, 0.0, 0.0, 0.0, 0.0, 0.0, 0.0, 0.0, 0.0,...   \n",
       "7  [[0.0, 0.0, 6.54664484452e-05, 6.54664484452e-...   \n",
       "8  [[0.0, 0.0, 6.54664484452e-05, 6.54664484452e-...   \n",
       "9  [[0.0, 0.0, 0.0, 0.0, 0.0, 0.0, 0.0, 0.0, 0.0,...   \n",
       "\n",
       "                                                 MLP  \n",
       "0  [[0.0, 0.0, 0.00563011456628, 0.00563011456628...  \n",
       "1  [[0.0, 0.000720130932897, 0.000720130932897, 0...  \n",
       "2  [[0.0, 0.00569558101473, 0.00569558101473, 0.0...  \n",
       "3  [[0.0, 0.0, 0.0, 0.0, 0.0712274959083, 0.07142...  \n",
       "4  [[0.0, 0.0, 0.0, 0.0, 0.0, 0.0, 6.54664484452e...  \n",
       "5  [[0.0, 0.0, 0.0, 0.0, 0.0, 0.0, 0.0, 0.0, 0.0,...  \n",
       "6  [[0.0, 0.00124386252046, 0.00124386252046, 0.0...  \n",
       "7  [[0.0, 0.000720130932897, 0.000720130932897, 0...  \n",
       "8  [[0.0, 0.0, 0.000654664484452, 0.0009165302782...  \n",
       "9  [[0.0, 0.0, 0.0, 0.0, 0.000261900085118, 0.000...  "
      ]
     },
     "execution_count": 203,
     "metadata": {},
     "output_type": "execute_result"
    }
   ],
   "source": [
    "rocNDS = pd.DataFrame.from_dict(rocNDS, 'index')\n",
    "rocNDS.rename(columns={0:'KNeighborsClassifier', 1: 'GaussianNB', 2: 'DecisionTreeClassifier', 3:'SVM', 4:'MLP'})"
   ]
  },
  {
   "cell_type": "code",
   "execution_count": 204,
   "metadata": {
    "collapsed": true
   },
   "outputs": [],
   "source": [
    "aucNDSScores = getAUCScore(rocNDS)"
   ]
  },
  {
   "cell_type": "code",
   "execution_count": 205,
   "metadata": {},
   "outputs": [
    {
     "data": {
      "image/png": "[encoded data removed]",
      "text/plain": [
       "<matplotlib.figure.Figure at 0x129932f28>"
      ]
     },
     "metadata": {},
     "output_type": "display_data"
    }
   ],
   "source": [
    "plotROC(rocNDS)"
   ]
  },
  {
   "cell_type": "code",
   "execution_count": 207,
   "metadata": {},
   "outputs": [
    {
     "data": {
      "text/plain": [
       "<matplotlib.axes._subplots.AxesSubplot at 0x12a97ca58>"
      ]
     },
     "execution_count": 207,
     "metadata": {},
     "output_type": "execute_result"
    },
    {
     "data": {
      "image/png": "[encoded data removed]",
      "text/plain": [
       "<matplotlib.figure.Figure at 0x11bcf5e48>"
      ]
     },
     "metadata": {},
     "output_type": "display_data"
    }
   ],
   "source": [
    "#step one, do T test\n",
    "aucNDSDF = pd.DataFrame.from_dict(aucNDSScores, 'index')\n",
    "aucNDSDF = aucNDSDF.rename(columns={0:'KNN', 1: 'NB', 2: 'DT', 3:'SVM', 4:'MLP'})\n",
    "\n",
    "knnNDSList = list(aucNDSDF['KNN'])\n",
    "gnbNDSList = list(aucNDSDF['NB'])\n",
    "dtNDSList = list(aucNDSDF['DT'])\n",
    "svmNDSList = list(aucNDSDF['SVM'])\n",
    "mplNDSList = list(aucNDSDF['MLP'])\n",
    "\n",
    "\n",
    "\n",
    "stats.ttest_rel(knnNDSList, mplNDSList) #shows us the bigger picture from the number\n",
    "\n",
    "\n",
    "aucNDSDes = aucNDSDF.describe()\n",
    "\n",
    "aucNDSMean = pd.Series.to_frame(aucNDSDes.loc[aucNDSDes.index[1]])\n",
    "aucNDSSTD = pd.Series.to_frame(aucNDSDes.loc[aucNDSDes.index[2]])\n",
    "\n",
    "aucNDSDF.plot(kind='box', title='AUC Mean', ylim=(0, 1))"
   ]
  },
  {
   "cell_type": "code",
   "execution_count": 215,
   "metadata": {},
   "outputs": [
    {
     "data": {
      "text/plain": [
       "<matplotlib.axes._subplots.AxesSubplot at 0x11ee57e80>"
      ]
     },
     "execution_count": 215,
     "metadata": {},
     "output_type": "execute_result"
    },
    {
     "data": {
      "image/png": "[encoded data removed]",
      "text/plain": [
       "<matplotlib.figure.Figure at 0x12597f240>"
      ]
     },
     "metadata": {},
     "output_type": "display_data"
    }
   ],
   "source": [
    "aucNDSDF.plot(kind='box', title='AUC Mean', )"
   ]
  },
  {
   "cell_type": "code",
   "execution_count": 208,
   "metadata": {
    "collapsed": true
   },
   "outputs": [],
   "source": [
    "aucNDSDF.to_csv('created_data/AUC_Scores/UNUDUS_auc.csv', encoding='utf-8')"
   ]
  },
  {
   "cell_type": "markdown",
   "metadata": {},
   "source": [
    "# UC + UN + UD + US"
   ]
  },
  {
   "cell_type": "code",
   "execution_count": 209,
   "metadata": {
    "collapsed": true
   },
   "outputs": [],
   "source": [
    "dfPolCNDS = pd.concat([dfPolUC, dfPolUN, dfPolUD, dfPolSent], axis=1)\n",
    "dfPolCNDS = dfPolCNDS.dropna(axis=0)\n",
    "\n",
    "dfLegCNDS = pd.concat([dfLegUC, dfLegUN, dfLegUD, dfLegSent], axis=1)\n",
    "dfLegCNDS = dfLegCNDS.dropna(axis=0)"
   ]
  },
  {
   "cell_type": "code",
   "execution_count": 210,
   "metadata": {
    "collapsed": true
   },
   "outputs": [],
   "source": [
    "rocCNDS = getROC(dfPolCNDS, dfLegCNDS, 10)\n",
    "# THIS CONTAINS THE NaN error or too large of a number. This has to do with UC its self"
   ]
  },
  {
   "cell_type": "code",
   "execution_count": 211,
   "metadata": {},
   "outputs": [
    {
     "data": {
      "text/html": [
       "<div>\n",
       "<style>\n",
       "    .dataframe thead tr:only-child th {\n",
       "        text-align: right;\n",
       "    }\n",
       "\n",
       "    .dataframe thead th {\n",
       "        text-align: left;\n",
       "    }\n",
       "\n",
       "    .dataframe tbody tr th {\n",
       "        vertical-align: top;\n",
       "    }\n",
       "</style>\n",
       "<table border=\"1\" class=\"dataframe\">\n",
       "  <thead>\n",
       "    <tr style=\"text-align: right;\">\n",
       "      <th></th>\n",
       "      <th>KNeighborsClassifier</th>\n",
       "      <th>GaussianNB</th>\n",
       "      <th>DecisionTreeClassifier</th>\n",
       "      <th>SVM</th>\n",
       "      <th>MLP</th>\n",
       "    </tr>\n",
       "  </thead>\n",
       "  <tbody>\n",
       "    <tr>\n",
       "      <th>0</th>\n",
       "      <td>[[0.0, 0.0164320785597, 0.0275613747954, 0.038...</td>\n",
       "      <td>[[0.0, 0.00163666121113, 0.00163666121113, 0.0...</td>\n",
       "      <td>[[0.0, 0.995613747954, 1.0], [0.0, 0.969560094...</td>\n",
       "      <td>[[0.0, 1.0, 1.0], [0.0, 0.999869075674, 1.0], ...</td>\n",
       "      <td>[[0.0, 0.0, 0.000261865793781, 0.0002618657937...</td>\n",
       "    </tr>\n",
       "    <tr>\n",
       "      <th>1</th>\n",
       "      <td>[[0.0, 0.00451718494272, 0.0111947626841, 0.01...</td>\n",
       "      <td>[[0.0, 0.00281505728314, 0.00301145662848, 0.0...</td>\n",
       "      <td>[[0.0, 0.793060556465, 1.0], [0.0, 0.800209478...</td>\n",
       "      <td>[[0.0, 6.54664484452e-05, 6.54664484452e-05, 0...</td>\n",
       "      <td>[[0.0, 0.0, 0.00013093289689, 0.00013093289689...</td>\n",
       "    </tr>\n",
       "    <tr>\n",
       "      <th>2</th>\n",
       "      <td>[[0.0, 0.0103436988543, 0.0203600654664, 0.029...</td>\n",
       "      <td>[[0.0, 0.45263502455, 0.460163666121, 0.464680...</td>\n",
       "      <td>[[0.0, 0.956726677578, 1.0], [0.0, 0.964061272...</td>\n",
       "      <td>[[0.0, 6.54664484452e-05, 0.000720130932897, 0...</td>\n",
       "      <td>[[0.0, 0.0, 0.000327332242226, 0.0003273322422...</td>\n",
       "    </tr>\n",
       "    <tr>\n",
       "      <th>3</th>\n",
       "      <td>[[0.0, 0.0180032733224, 0.0328641571195, 0.044...</td>\n",
       "      <td>[[0.0, 0.594369885434, 0.599279869067, 0.60183...</td>\n",
       "      <td>[[0.0, 0.898592471358, 1.0], [0.0, 0.971131186...</td>\n",
       "      <td>[[0.0, 6.54664484452e-05, 0.00104746317512, 0....</td>\n",
       "      <td>[[0.0, 0.0, 6.54664484452e-05, 6.54664484452e-...</td>\n",
       "    </tr>\n",
       "    <tr>\n",
       "      <th>4</th>\n",
       "      <td>[[0.0, 0.0650081833061, 0.0855646481178, 0.101...</td>\n",
       "      <td>[[0.0, 0.500294599018, 0.50736497545, 0.510376...</td>\n",
       "      <td>[[0.0, 0.942127659574, 1.0], [0.0, 0.977611940...</td>\n",
       "      <td>[[0.0, 6.54664484452e-05, 6.54664484452e-05, 0...</td>\n",
       "      <td>[[0.0, 0.0, 0.000589198036007, 0.0005891980360...</td>\n",
       "    </tr>\n",
       "    <tr>\n",
       "      <th>5</th>\n",
       "      <td>[[0.0, 0.0347626841244, 0.0504746317512, 0.063...</td>\n",
       "      <td>[[0.0, 0.376235679214, 0.382193126023, 0.38559...</td>\n",
       "      <td>[[0.0, 0.941145662848, 1.0], [0.0, 0.964715894...</td>\n",
       "      <td>[[0.0, 0.0, 0.00013093289689, 0.00013093289689...</td>\n",
       "      <td>[[0.0, 6.54664484452e-05, 0.00013093289689, 0....</td>\n",
       "    </tr>\n",
       "    <tr>\n",
       "      <th>6</th>\n",
       "      <td>[[0.0, 0.049558101473, 0.0594435351882, 0.0693...</td>\n",
       "      <td>[[0.0, 0.436268412439, 0.442684124386, 0.44713...</td>\n",
       "      <td>[[0.0, 0.754631751227, 1.0], [0.0, 0.953652788...</td>\n",
       "      <td>[[0.0, 0.0, 0.00013093289689, 0.00013093289689...</td>\n",
       "      <td>[[0.0, 0.00314238952537, 0.00340425531915, 0.0...</td>\n",
       "    </tr>\n",
       "    <tr>\n",
       "      <th>7</th>\n",
       "      <td>[[0.0, 0.0284779050736, 0.0390180032733, 0.046...</td>\n",
       "      <td>[[0.0, 0.430441898527, 0.43829787234, 0.442094...</td>\n",
       "      <td>[[0.0, 0.813355155483, 1.0], [0.0, 0.928057083...</td>\n",
       "      <td>[[0.0, 6.54664484452e-05, 6.54664484452e-05, 0...</td>\n",
       "      <td>[[0.0, 0.0, 0.00013093289689, 0.00013093289689...</td>\n",
       "    </tr>\n",
       "    <tr>\n",
       "      <th>8</th>\n",
       "      <td>[[0.0, 0.00530278232406, 0.0126350245499, 0.02...</td>\n",
       "      <td>[[0.0, 0.500425531915, 0.505139116203, 0.50775...</td>\n",
       "      <td>[[0.0, 0.862193126023, 1.0], [0.0, 0.822008379...</td>\n",
       "      <td>[[0.0, 0.0, 6.54664484452e-05, 6.54664484452e-...</td>\n",
       "      <td>[[0.0, 0.0, 6.54664484452e-05, 6.54664484452e-...</td>\n",
       "    </tr>\n",
       "    <tr>\n",
       "      <th>9</th>\n",
       "      <td>[[0.0, 0.00170235055326, 0.00425587638316, 0.0...</td>\n",
       "      <td>[[0.0, 0.476134354744, 0.476199829765, 0.48261...</td>\n",
       "      <td>[[0.0, 0.885222287697, 1.0], [0.0, 0.850258626...</td>\n",
       "      <td>[[0.0, 0.0, 6.54750212794e-05, 6.54750212794e-...</td>\n",
       "      <td>[[0.0, 0.0, 1.0], [6.54750212794e-05, 0.000392...</td>\n",
       "    </tr>\n",
       "  </tbody>\n",
       "</table>\n",
       "</div>"
      ],
      "text/plain": [
       "                                KNeighborsClassifier  \\\n",
       "0  [[0.0, 0.0164320785597, 0.0275613747954, 0.038...   \n",
       "1  [[0.0, 0.00451718494272, 0.0111947626841, 0.01...   \n",
       "2  [[0.0, 0.0103436988543, 0.0203600654664, 0.029...   \n",
       "3  [[0.0, 0.0180032733224, 0.0328641571195, 0.044...   \n",
       "4  [[0.0, 0.0650081833061, 0.0855646481178, 0.101...   \n",
       "5  [[0.0, 0.0347626841244, 0.0504746317512, 0.063...   \n",
       "6  [[0.0, 0.049558101473, 0.0594435351882, 0.0693...   \n",
       "7  [[0.0, 0.0284779050736, 0.0390180032733, 0.046...   \n",
       "8  [[0.0, 0.00530278232406, 0.0126350245499, 0.02...   \n",
       "9  [[0.0, 0.00170235055326, 0.00425587638316, 0.0...   \n",
       "\n",
       "                                          GaussianNB  \\\n",
       "0  [[0.0, 0.00163666121113, 0.00163666121113, 0.0...   \n",
       "1  [[0.0, 0.00281505728314, 0.00301145662848, 0.0...   \n",
       "2  [[0.0, 0.45263502455, 0.460163666121, 0.464680...   \n",
       "3  [[0.0, 0.594369885434, 0.599279869067, 0.60183...   \n",
       "4  [[0.0, 0.500294599018, 0.50736497545, 0.510376...   \n",
       "5  [[0.0, 0.376235679214, 0.382193126023, 0.38559...   \n",
       "6  [[0.0, 0.436268412439, 0.442684124386, 0.44713...   \n",
       "7  [[0.0, 0.430441898527, 0.43829787234, 0.442094...   \n",
       "8  [[0.0, 0.500425531915, 0.505139116203, 0.50775...   \n",
       "9  [[0.0, 0.476134354744, 0.476199829765, 0.48261...   \n",
       "\n",
       "                              DecisionTreeClassifier  \\\n",
       "0  [[0.0, 0.995613747954, 1.0], [0.0, 0.969560094...   \n",
       "1  [[0.0, 0.793060556465, 1.0], [0.0, 0.800209478...   \n",
       "2  [[0.0, 0.956726677578, 1.0], [0.0, 0.964061272...   \n",
       "3  [[0.0, 0.898592471358, 1.0], [0.0, 0.971131186...   \n",
       "4  [[0.0, 0.942127659574, 1.0], [0.0, 0.977611940...   \n",
       "5  [[0.0, 0.941145662848, 1.0], [0.0, 0.964715894...   \n",
       "6  [[0.0, 0.754631751227, 1.0], [0.0, 0.953652788...   \n",
       "7  [[0.0, 0.813355155483, 1.0], [0.0, 0.928057083...   \n",
       "8  [[0.0, 0.862193126023, 1.0], [0.0, 0.822008379...   \n",
       "9  [[0.0, 0.885222287697, 1.0], [0.0, 0.850258626...   \n",
       "\n",
       "                                                 SVM  \\\n",
       "0  [[0.0, 1.0, 1.0], [0.0, 0.999869075674, 1.0], ...   \n",
       "1  [[0.0, 6.54664484452e-05, 6.54664484452e-05, 0...   \n",
       "2  [[0.0, 6.54664484452e-05, 0.000720130932897, 0...   \n",
       "3  [[0.0, 6.54664484452e-05, 0.00104746317512, 0....   \n",
       "4  [[0.0, 6.54664484452e-05, 6.54664484452e-05, 0...   \n",
       "5  [[0.0, 0.0, 0.00013093289689, 0.00013093289689...   \n",
       "6  [[0.0, 0.0, 0.00013093289689, 0.00013093289689...   \n",
       "7  [[0.0, 6.54664484452e-05, 6.54664484452e-05, 0...   \n",
       "8  [[0.0, 0.0, 6.54664484452e-05, 6.54664484452e-...   \n",
       "9  [[0.0, 0.0, 6.54750212794e-05, 6.54750212794e-...   \n",
       "\n",
       "                                                 MLP  \n",
       "0  [[0.0, 0.0, 0.000261865793781, 0.0002618657937...  \n",
       "1  [[0.0, 0.0, 0.00013093289689, 0.00013093289689...  \n",
       "2  [[0.0, 0.0, 0.000327332242226, 0.0003273322422...  \n",
       "3  [[0.0, 0.0, 6.54664484452e-05, 6.54664484452e-...  \n",
       "4  [[0.0, 0.0, 0.000589198036007, 0.0005891980360...  \n",
       "5  [[0.0, 6.54664484452e-05, 0.00013093289689, 0....  \n",
       "6  [[0.0, 0.00314238952537, 0.00340425531915, 0.0...  \n",
       "7  [[0.0, 0.0, 0.00013093289689, 0.00013093289689...  \n",
       "8  [[0.0, 0.0, 6.54664484452e-05, 6.54664484452e-...  \n",
       "9  [[0.0, 0.0, 1.0], [6.54750212794e-05, 0.000392...  "
      ]
     },
     "execution_count": 211,
     "metadata": {},
     "output_type": "execute_result"
    }
   ],
   "source": [
    "rocCNDS = pd.DataFrame.from_dict(rocCNDS, 'index')\n",
    "rocCNDS.rename(columns={0:'KNeighborsClassifier', 1: 'GaussianNB', 2: 'DecisionTreeClassifier', 3:'SVM', 4:'MLP'})"
   ]
  },
  {
   "cell_type": "code",
   "execution_count": 212,
   "metadata": {
    "collapsed": true
   },
   "outputs": [],
   "source": [
    "aucCNDSScores = getAUCScore(rocCNDS)"
   ]
  },
  {
   "cell_type": "code",
   "execution_count": 213,
   "metadata": {},
   "outputs": [
    {
     "data": {
      "image/png": "[encoded data removed]",
      "text/plain": [
       "<matplotlib.figure.Figure at 0x12aaea2b0>"
      ]
     },
     "metadata": {},
     "output_type": "display_data"
    }
   ],
   "source": [
    "plotROC(rocCNDS)"
   ]
  },
  {
   "cell_type": "code",
   "execution_count": 214,
   "metadata": {},
   "outputs": [
    {
     "data": {
      "text/plain": [
       "<matplotlib.axes._subplots.AxesSubplot at 0x12ce24550>"
      ]
     },
     "execution_count": 214,
     "metadata": {},
     "output_type": "execute_result"
    },
    {
     "data": {
      "image/png": "[encoded data removed]",
      "text/plain": [
       "<matplotlib.figure.Figure at 0x1262a0358>"
      ]
     },
     "metadata": {},
     "output_type": "display_data"
    }
   ],
   "source": [
    "aucCNDSDF = pd.DataFrame.from_dict(aucCNDSScores, 'index')\n",
    "aucCNDSDF = aucCNDSDF.rename(columns={0:'KNN', 1: 'NB', 2: 'DT', 3:'SVM', 4:'MLP'})\n",
    "\n",
    "knnCNDSList = list(aucCNDSDF['KNN'])\n",
    "gnbCNDSList = list(aucCNDSDF['NB'])\n",
    "dtCNDSList = list(aucCNDSDF['DT'])\n",
    "svmCNDSList = list(aucCNDSDF['SVM'])\n",
    "mplCNDSList = list(aucCNDSDF['MLP'])\n",
    "\n",
    "\n",
    "\n",
    "#stats.ttest_rel(knnNDSList, mplNDSList) #shows us the bigger picture from the number\n",
    "\n",
    "\n",
    "aucCNDSDes = aucCNDSDF.describe()\n",
    "\n",
    "aucCNDSMean = pd.Series.to_frame(aucCNDSDes.loc[aucCNDSDes.index[1]])\n",
    "aucCNDSSTD = pd.Series.to_frame(aucCNDSDes.loc[aucCNDSDes.index[2]])\n",
    "\n",
    "aucCNDSDF.plot(kind='box', title='AUC Mean', ylim=(0, 1))"
   ]
  },
  {
   "cell_type": "code",
   "execution_count": 114,
   "metadata": {
    "collapsed": true
   },
   "outputs": [],
   "source": [
    "aucCNDSDF.to_csv('created_data/AUC_Scores/UCUNUDUS_auc.csv', encoding='utf-8')"
   ]
  },
  {
   "cell_type": "code",
   "execution_count": null,
   "metadata": {
    "collapsed": true
   },
   "outputs": [],
   "source": []
  }
 ],
 "metadata": {
  "kernelspec": {
   "display_name": "Python 3",
   "language": "python",
   "name": "python3"
  },
  "language_info": {
   "codemirror_mode": {
    "name": "ipython",
    "version": 3
   },
   "file_extension": ".py",
   "mimetype": "text/x-python",
   "name": "python",
   "nbconvert_exporter": "python",
   "pygments_lexer": "ipython3",
   "version": "3.6.1"
  }
 },
 "nbformat": 4,
 "nbformat_minor": 2
}
