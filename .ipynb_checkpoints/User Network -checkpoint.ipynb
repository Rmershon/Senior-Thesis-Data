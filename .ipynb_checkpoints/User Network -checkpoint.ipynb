{
 "cells": [
  {
   "cell_type": "code",
   "execution_count": 15,
   "metadata": {},
   "outputs": [],
   "source": [
    "import pandas as pd\n",
    "import numpy as np\n",
    "\n",
    "polluters = pd.read_csv('honeypot_data/content_polluters.txt', sep='\\t', names=['UserID', 'CreatedAt', 'CollectedAt', 'NumerOfFollowings', 'NumberOfFollowers', 'NumberOfTweets', 'LengthOfScreenName', 'LengthOfDescriptionInUserProfile'], parse_dates=['CreatedAt', 'CollectedAt'])\n",
    "polluters = polluters.set_index('UserID')\n",
    "\n",
    "legit = pd.read_csv('honeypot_data/legitimate_users.txt', sep='\\t', names=['UserID', 'CreatedAt', 'CollectedAt', 'NumerOfFollowings', 'NumberOfFollowers', 'NumberOfTweets', 'LengthOfScreenName', 'LengthOfDescriptionInUserProfile'], parse_dates=['CreatedAt', 'CollectedAt'])\n",
    "legit = legit.set_index('UserID')\n",
    "\n",
    "pol_following = pd.read_csv('honeypot_data/content_polluters_followings.txt', sep='\\t', names=['UserID', 'SeriesOfFollowings'])\n",
    "pol_following = pol_following.set_index('UserID')\n",
    "\n",
    "leg_following = pd.read_csv('honeypot_data/legitimate_users_followings.txt', sep='\\t', names=['UserID', 'SeriesOfFollowings'])\n",
    "leg_following = leg_following.set_index('UserID')"
   ]
  },
  {
   "cell_type": "markdown",
   "metadata": {},
   "source": [
    "Above takes in the two csv files that are needed for this feature. \n",
    "\n",
    "Below, I drop the unneccesary columns from the original user account dataframe. Then I merge the account and following dataframes into one concise df. I will need to do the change over time, and the amount of changes total for both classifications. I can even plot a couple of these series to show the differences in the two accounts. \n",
    "\n",
    "## I need to make the following df a list of numbers, not one big string.\n",
    "\n",
    "Use: [int(s) for s in example_string.split(',')]"
   ]
  },
  {
   "cell_type": "code",
   "execution_count": 37,
   "metadata": {},
   "outputs": [],
   "source": [
    "polNet = polluters.drop(['CreatedAt', 'CollectedAt', 'NumberOfTweets', 'LengthOfScreenName', 'LengthOfDescriptionInUserProfile'], axis=1)\n",
    "legNet = legit.drop(['CreatedAt', 'CollectedAt', 'NumberOfTweets', 'LengthOfScreenName', 'LengthOfDescriptionInUserProfile'], axis=1)\n",
    "\n",
    "for index, row in pol_following.iterrows():\n",
    "    row[0] = [int(s) for s in row[0].split(',')]\n",
    "\n",
    "for index, row in leg_following.iterrows():\n",
    "    row[0] = [int(s) for s in row[0].split(',')]\n",
    "\n",
    "\n",
    "polNet = pd.concat([polNet, pol_following], axis=1, join_axes=[polNet.index])\n",
    "legNet = pd.concat([legNet, leg_following], axis=1, join_axes=[legNet.index])\n",
    "#look into the changes of the following numbers\n",
    "#average change in the followings\n",
    "#following data is the number of following, collected at equal intervals i assume?"
   ]
  },
  {
   "cell_type": "code",
   "execution_count": 45,
   "metadata": {},
   "outputs": [
    {
     "data": {
      "image/png": "[encoded data removed]",
      "text/plain": [
       "<matplotlib.figure.Figure at 0x127509588>"
      ]
     },
     "metadata": {},
     "output_type": "display_data"
    }
   ],
   "source": [
    "import matplotlib.pyplot as plt\n",
    "import matplotlib.mlab as PCA\n",
    "\n",
    "polSeries1 = pd.Series.from_array(polNet.iloc[0, -1])\n",
    "polSeries2 = pd.Series.from_array(polNet.iloc[1000, -1])\n",
    "\n",
    "legSeries1 = pd.Series.from_array(legNet.iloc[0, -1])\n",
    "legSeries2 = pd.Series.from_array(legNet.iloc[0, -1])\n",
    "\n",
    "\n",
    "polSeries2.plot()\n",
    "legSeries2.plot()\n",
    "#x axis is data collection points\n",
    "#y axis is number of followings\n",
    "#blue is bot, orange is legit\n",
    "plt.show()"
   ]
  },
  {
   "cell_type": "code",
   "execution_count": null,
   "metadata": {
    "collapsed": true
   },
   "outputs": [],
   "source": []
  },
  {
   "cell_type": "code",
   "execution_count": null,
   "metadata": {
    "collapsed": true
   },
   "outputs": [],
   "source": []
  },
  {
   "cell_type": "code",
   "execution_count": 46,
   "metadata": {},
   "outputs": [],
   "source": [
    "polNet.to_csv('created_data/userNetworkPol.csv', encoding='utf-8')\n",
    "legNet.to_csv('created_data/userNetworkLeg.csv', encoding='utf-8')"
   ]
  },
  {
   "cell_type": "code",
   "execution_count": null,
   "metadata": {
    "collapsed": true
   },
   "outputs": [],
   "source": []
  }
 ],
 "metadata": {
  "kernelspec": {
   "display_name": "Python 3",
   "language": "python",
   "name": "python3"
  },
  "language_info": {
   "codemirror_mode": {
    "name": "ipython",
    "version": 3
   },
   "file_extension": ".py",
   "mimetype": "text/x-python",
   "name": "python",
   "nbconvert_exporter": "python",
   "pygments_lexer": "ipython3",
   "version": "3.6.1"
  }
 },
 "nbformat": 4,
 "nbformat_minor": 2
}
